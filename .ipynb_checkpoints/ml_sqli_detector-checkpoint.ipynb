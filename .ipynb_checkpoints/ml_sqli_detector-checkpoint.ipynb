{
 "cells": [
  {
   "cell_type": "markdown",
   "metadata": {},
   "source": [
    "## Basic classifier that uses Bidirectional Gated Recurrent Unit (bigru) to predict if the payload is an SQL injection"
   ]
  },
  {
   "cell_type": "markdown",
   "metadata": {},
   "source": [
    "Let's import our stuff here\n"
   ]
  },
  {
   "cell_type": "code",
   "execution_count": 1,
   "metadata": {
    "id": "9o-dl8wLv3Ep"
   },
   "outputs": [
    {
     "name": "stdout",
     "output_type": "stream",
     "text": [
      "Requirement already satisfied: ktrain in /home/jupyter/.local/lib/python3.8/site-packages (0.29.3)\n",
      "Requirement already satisfied: matplotlib in /home/jupyter/.local/lib/python3.8/site-packages (3.5.1)\n",
      "Requirement already satisfied: tensorflow in /home/jupyter/.local/lib/python3.8/site-packages (2.8.0)\n",
      "Requirement already satisfied: numpy in /home/jupyter/.local/lib/python3.8/site-packages (1.22.3)\n",
      "Requirement already satisfied: syntok==1.3.3 in /home/jupyter/.local/lib/python3.8/site-packages (from ktrain) (1.3.3)\n",
      "Requirement already satisfied: cchardet in /home/jupyter/.local/lib/python3.8/site-packages (from ktrain) (2.1.7)\n",
      "Requirement already satisfied: chardet in /usr/lib/python3/dist-packages (from ktrain) (3.0.4)\n",
      "Requirement already satisfied: keras-bert>=0.86.0 in /home/jupyter/.local/lib/python3.8/site-packages (from ktrain) (0.89.0)\n",
      "Requirement already satisfied: fastprogress>=0.1.21 in /home/jupyter/.local/lib/python3.8/site-packages (from ktrain) (1.0.2)\n",
      "Requirement already satisfied: pandas>=1.0.1 in /home/jupyter/.local/lib/python3.8/site-packages (from ktrain) (1.4.1)\n",
      "Requirement already satisfied: requests in /usr/lib/python3/dist-packages (from ktrain) (2.22.0)\n",
      "Requirement already satisfied: sentencepiece in /home/jupyter/.local/lib/python3.8/site-packages (from ktrain) (0.1.96)\n",
      "Requirement already satisfied: seqeval==0.0.19 in /home/jupyter/.local/lib/python3.8/site-packages (from ktrain) (0.0.19)\n",
      "Requirement already satisfied: jieba in /home/jupyter/.local/lib/python3.8/site-packages (from ktrain) (0.42.1)\n",
      "Requirement already satisfied: joblib in /home/jupyter/.local/lib/python3.8/site-packages (from ktrain) (1.1.0)\n",
      "Requirement already satisfied: packaging in /home/jupyter/.local/lib/python3.8/site-packages (from ktrain) (21.3)\n",
      "Requirement already satisfied: transformers==4.10.3 in /home/jupyter/.local/lib/python3.8/site-packages (from ktrain) (4.10.3)\n",
      "Requirement already satisfied: whoosh in /home/jupyter/.local/lib/python3.8/site-packages (from ktrain) (2.7.4)\n",
      "Requirement already satisfied: langdetect in /home/jupyter/.local/lib/python3.8/site-packages (from ktrain) (1.0.9)\n",
      "Requirement already satisfied: scikit-learn==0.24.2 in /home/jupyter/.local/lib/python3.8/site-packages (from ktrain) (0.24.2)\n",
      "Requirement already satisfied: cycler>=0.10 in /home/jupyter/.local/lib/python3.8/site-packages (from matplotlib) (0.11.0)\n",
      "Requirement already satisfied: fonttools>=4.22.0 in /home/jupyter/.local/lib/python3.8/site-packages (from matplotlib) (4.31.2)\n",
      "Requirement already satisfied: kiwisolver>=1.0.1 in /home/jupyter/.local/lib/python3.8/site-packages (from matplotlib) (1.4.0)\n",
      "Requirement already satisfied: pillow>=6.2.0 in /home/jupyter/.local/lib/python3.8/site-packages (from matplotlib) (9.0.1)\n",
      "Requirement already satisfied: python-dateutil>=2.7 in /home/jupyter/.local/lib/python3.8/site-packages (from matplotlib) (2.8.2)\n",
      "Requirement already satisfied: pyparsing>=2.2.1 in /home/jupyter/.local/lib/python3.8/site-packages (from matplotlib) (3.0.7)\n",
      "Requirement already satisfied: protobuf>=3.9.2 in /home/jupyter/.local/lib/python3.8/site-packages (from tensorflow) (3.19.4)\n",
      "Requirement already satisfied: grpcio<2.0,>=1.24.3 in /home/jupyter/.local/lib/python3.8/site-packages (from tensorflow) (1.44.0)\n",
      "Requirement already satisfied: opt-einsum>=2.3.2 in /home/jupyter/.local/lib/python3.8/site-packages (from tensorflow) (3.3.0)\n",
      "Requirement already satisfied: tensorflow-io-gcs-filesystem>=0.23.1 in /home/jupyter/.local/lib/python3.8/site-packages (from tensorflow) (0.24.0)\n",
      "Requirement already satisfied: gast>=0.2.1 in /home/jupyter/.local/lib/python3.8/site-packages (from tensorflow) (0.5.3)\n",
      "Requirement already satisfied: absl-py>=0.4.0 in /home/jupyter/.local/lib/python3.8/site-packages (from tensorflow) (1.0.0)\n",
      "Requirement already satisfied: termcolor>=1.1.0 in /home/jupyter/.local/lib/python3.8/site-packages (from tensorflow) (1.1.0)\n",
      "Requirement already satisfied: six>=1.12.0 in /usr/lib/python3/dist-packages (from tensorflow) (1.14.0)\n",
      "Requirement already satisfied: astunparse>=1.6.0 in /home/jupyter/.local/lib/python3.8/site-packages (from tensorflow) (1.6.3)\n",
      "Requirement already satisfied: wrapt>=1.11.0 in /home/jupyter/.local/lib/python3.8/site-packages (from tensorflow) (1.14.0)\n",
      "Requirement already satisfied: keras-preprocessing>=1.1.1 in /home/jupyter/.local/lib/python3.8/site-packages (from tensorflow) (1.1.2)\n",
      "Requirement already satisfied: google-pasta>=0.1.1 in /home/jupyter/.local/lib/python3.8/site-packages (from tensorflow) (0.2.0)\n",
      "Requirement already satisfied: h5py>=2.9.0 in /home/jupyter/.local/lib/python3.8/site-packages (from tensorflow) (3.6.0)\n",
      "Requirement already satisfied: flatbuffers>=1.12 in /home/jupyter/.local/lib/python3.8/site-packages (from tensorflow) (2.0)\n",
      "Requirement already satisfied: setuptools in /usr/lib/python3/dist-packages (from tensorflow) (45.2.0)\n",
      "Requirement already satisfied: libclang>=9.0.1 in /home/jupyter/.local/lib/python3.8/site-packages (from tensorflow) (13.0.0)\n",
      "Requirement already satisfied: typing-extensions>=3.6.6 in /home/jupyter/.local/lib/python3.8/site-packages (from tensorflow) (4.1.1)\n",
      "Requirement already satisfied: tf-estimator-nightly==2.8.0.dev2021122109 in /home/jupyter/.local/lib/python3.8/site-packages (from tensorflow) (2.8.0.dev2021122109)\n",
      "Requirement already satisfied: tensorboard<2.9,>=2.8 in /home/jupyter/.local/lib/python3.8/site-packages (from tensorflow) (2.8.0)\n",
      "Requirement already satisfied: keras<2.9,>=2.8.0rc0 in /home/jupyter/.local/lib/python3.8/site-packages (from tensorflow) (2.8.0)\n",
      "Requirement already satisfied: regex in /home/jupyter/.local/lib/python3.8/site-packages (from syntok==1.3.3->ktrain) (2022.3.15)\n",
      "Requirement already satisfied: keras-transformer==0.40.0 in /home/jupyter/.local/lib/python3.8/site-packages (from keras-bert>=0.86.0->ktrain) (0.40.0)\n",
      "Requirement already satisfied: pytz>=2020.1 in /home/jupyter/.local/lib/python3.8/site-packages (from pandas>=1.0.1->ktrain) (2022.1)\n",
      "Requirement already satisfied: tokenizers<0.11,>=0.10.1 in /home/jupyter/.local/lib/python3.8/site-packages (from transformers==4.10.3->ktrain) (0.10.3)\n",
      "Requirement already satisfied: filelock in /usr/local/lib/python3.8/dist-packages (from transformers==4.10.3->ktrain) (3.6.0)\n",
      "Requirement already satisfied: sacremoses in /home/jupyter/.local/lib/python3.8/site-packages (from transformers==4.10.3->ktrain) (0.0.49)\n",
      "Requirement already satisfied: pyyaml>=5.1 in /usr/lib/python3/dist-packages (from transformers==4.10.3->ktrain) (5.3.1)\n",
      "Requirement already satisfied: huggingface-hub>=0.0.12 in /home/jupyter/.local/lib/python3.8/site-packages (from transformers==4.10.3->ktrain) (0.4.0)\n",
      "Requirement already satisfied: tqdm>=4.27 in /home/jupyter/.local/lib/python3.8/site-packages (from transformers==4.10.3->ktrain) (4.63.1)\n",
      "Requirement already satisfied: threadpoolctl>=2.0.0 in /home/jupyter/.local/lib/python3.8/site-packages (from scikit-learn==0.24.2->ktrain) (3.1.0)\n",
      "Requirement already satisfied: scipy>=0.19.1 in /home/jupyter/.local/lib/python3.8/site-packages (from scikit-learn==0.24.2->ktrain) (1.8.0)\n",
      "Requirement already satisfied: wheel<1.0,>=0.23.0 in /usr/lib/python3/dist-packages (from astunparse>=1.6.0->tensorflow) (0.34.2)\n",
      "Requirement already satisfied: google-auth-oauthlib<0.5,>=0.4.1 in /home/jupyter/.local/lib/python3.8/site-packages (from tensorboard<2.9,>=2.8->tensorflow) (0.4.6)\n",
      "Requirement already satisfied: tensorboard-plugin-wit>=1.6.0 in /home/jupyter/.local/lib/python3.8/site-packages (from tensorboard<2.9,>=2.8->tensorflow) (1.8.1)\n",
      "Requirement already satisfied: google-auth<3,>=1.6.3 in /home/jupyter/.local/lib/python3.8/site-packages (from tensorboard<2.9,>=2.8->tensorflow) (2.6.2)\n",
      "Requirement already satisfied: markdown>=2.6.8 in /home/jupyter/.local/lib/python3.8/site-packages (from tensorboard<2.9,>=2.8->tensorflow) (3.3.6)\n",
      "Requirement already satisfied: tensorboard-data-server<0.7.0,>=0.6.0 in /home/jupyter/.local/lib/python3.8/site-packages (from tensorboard<2.9,>=2.8->tensorflow) (0.6.1)\n",
      "Requirement already satisfied: werkzeug>=0.11.15 in /home/jupyter/.local/lib/python3.8/site-packages (from tensorboard<2.9,>=2.8->tensorflow) (2.0.3)\n",
      "Requirement already satisfied: keras-position-wise-feed-forward==0.8.0 in /home/jupyter/.local/lib/python3.8/site-packages (from keras-transformer==0.40.0->keras-bert>=0.86.0->ktrain) (0.8.0)\n",
      "Requirement already satisfied: keras-pos-embd==0.13.0 in /home/jupyter/.local/lib/python3.8/site-packages (from keras-transformer==0.40.0->keras-bert>=0.86.0->ktrain) (0.13.0)\n",
      "Requirement already satisfied: keras-multi-head==0.29.0 in /home/jupyter/.local/lib/python3.8/site-packages (from keras-transformer==0.40.0->keras-bert>=0.86.0->ktrain) (0.29.0)\n",
      "Requirement already satisfied: keras-layer-normalization==0.16.0 in /home/jupyter/.local/lib/python3.8/site-packages (from keras-transformer==0.40.0->keras-bert>=0.86.0->ktrain) (0.16.0)\n",
      "Requirement already satisfied: keras-embed-sim==0.10.0 in /home/jupyter/.local/lib/python3.8/site-packages (from keras-transformer==0.40.0->keras-bert>=0.86.0->ktrain) (0.10.0)\n",
      "Requirement already satisfied: click in /usr/lib/python3/dist-packages (from sacremoses->transformers==4.10.3->ktrain) (7.0)\n",
      "Requirement already satisfied: requests-oauthlib>=0.7.0 in /home/jupyter/.local/lib/python3.8/site-packages (from google-auth-oauthlib<0.5,>=0.4.1->tensorboard<2.9,>=2.8->tensorflow) (1.3.1)\n",
      "Requirement already satisfied: pyasn1-modules>=0.2.1 in /usr/lib/python3/dist-packages (from google-auth<3,>=1.6.3->tensorboard<2.9,>=2.8->tensorflow) (0.2.1)\n",
      "Requirement already satisfied: cachetools<6.0,>=2.0.0 in /home/jupyter/.local/lib/python3.8/site-packages (from google-auth<3,>=1.6.3->tensorboard<2.9,>=2.8->tensorflow) (5.0.0)\n",
      "Requirement already satisfied: rsa<5,>=3.1.4; python_version >= \"3.6\" in /home/jupyter/.local/lib/python3.8/site-packages (from google-auth<3,>=1.6.3->tensorboard<2.9,>=2.8->tensorflow) (4.8)\n",
      "Requirement already satisfied: importlib-metadata>=4.4; python_version < \"3.10\" in /home/jupyter/.local/lib/python3.8/site-packages (from markdown>=2.6.8->tensorboard<2.9,>=2.8->tensorflow) (4.11.3)\n",
      "Requirement already satisfied: keras-self-attention==0.51.0 in /home/jupyter/.local/lib/python3.8/site-packages (from keras-multi-head==0.29.0->keras-transformer==0.40.0->keras-bert>=0.86.0->ktrain) (0.51.0)\n",
      "Requirement already satisfied: oauthlib>=3.0.0 in /usr/lib/python3/dist-packages (from requests-oauthlib>=0.7.0->google-auth-oauthlib<0.5,>=0.4.1->tensorboard<2.9,>=2.8->tensorflow) (3.1.0)\n",
      "Requirement already satisfied: pyasn1>=0.1.3 in /usr/lib/python3/dist-packages (from rsa<5,>=3.1.4; python_version >= \"3.6\"->google-auth<3,>=1.6.3->tensorboard<2.9,>=2.8->tensorflow) (0.4.2)\n",
      "Requirement already satisfied: zipp>=0.5 in /usr/lib/python3/dist-packages (from importlib-metadata>=4.4; python_version < \"3.10\"->markdown>=2.6.8->tensorboard<2.9,>=2.8->tensorflow) (1.0.0)\n"
     ]
    }
   ],
   "source": [
    "!pip3 install scikit-learn>=1.0.0\n",
    "!pip3 install ktrain matplotlib tensorflow numpy\n",
    "import matplotlib\n",
    "import os\n",
    "import numpy as np\n",
    "%reload_ext autoreload\n",
    "%autoreload 2\n",
    "%matplotlib inline\n",
    "os.environ[\"CUDA_DEVICE_ORDER\"]=\"PCI_BUS_ID\";\n",
    "os.environ[\"CUDA_VISIBLE_DEVICES\"]=\"0\"; "
   ]
  },
  {
   "cell_type": "markdown",
   "metadata": {},
   "source": [
    "Some more imports...We are using ktrain wrapper to simplify model operations and take advantage of some cool stuff like autofit"
   ]
  },
  {
   "cell_type": "code",
   "execution_count": 2,
   "metadata": {
    "id": "evreWp_bv3Es"
   },
   "outputs": [],
   "source": [
    "import ktrain\n",
    "from ktrain import text"
   ]
  },
  {
   "cell_type": "markdown",
   "metadata": {
    "id": "Shmkj8niv3Ev"
   },
   "source": [
    "Here, we will classify payload to \"malicious sqli\" and \"benign\" . Data set is presented as a CSV file (i.e., download the file ```SQLiV3a_.csv```).  We will load the data using the ```texts_from_csv``` method, which assumes the label_columns are already one-hot-encoded in the spreadsheet. Since *val_filepath* is None, 10% of the data will automatically be used as a validation set.\n"
   ]
  },
  {
   "cell_type": "code",
   "execution_count": 3,
   "metadata": {
    "colab": {
     "base_uri": "https://localhost:8080/"
    },
    "id": "j6-wA79wv3Ew",
    "outputId": "7f7ba49d-d58f-4cf3-f363-806f37d2bd99"
   },
   "outputs": [
    {
     "name": "stdout",
     "output_type": "stream",
     "text": [
      "detected encoding: UTF-8-SIG (if wrong, set manually)\n",
      "['benign', 'sqli', 'xss']\n",
      "       benign  sqli  xss\n",
      "11126     0.0   1.0  0.0\n",
      "3594      0.0   0.0  1.0\n",
      "3684      1.0   0.0  0.0\n",
      "1869      0.0   1.0  0.0\n",
      "3596      1.0   0.0  0.0\n",
      "['benign', 'sqli', 'xss']\n",
      "      benign  sqli  xss\n",
      "3829     1.0   0.0  0.0\n",
      "2114     0.0   0.0  1.0\n",
      "5195     0.0   0.0  1.0\n",
      "6772     0.0   0.0  1.0\n",
      "8193     0.0   0.0  1.0\n",
      "language: en\n",
      "Word Counts: 10063\n",
      "Nrows: 12218\n",
      "12218 train sequences\n",
      "train sequence lengths:\n",
      "\tmean : 9\n",
      "\t95percentile : 26\n",
      "\t99percentile : 42\n",
      "x_train shape: (12218,100)\n",
      "y_train shape: (12218, 3)\n",
      "Is Multi-Label? False\n",
      "1358 test sequences\n",
      "test sequence lengths:\n",
      "\tmean : 8\n",
      "\t95percentile : 26\n",
      "\t99percentile : 40\n",
      "x_test shape: (1358,100)\n",
      "y_test shape: (1358, 3)\n"
     ]
    }
   ],
   "source": [
    "DATA_PATH = 'SQLiV3a_8k.csv'\n",
    "NUM_WORDS = 50000\n",
    "MAXLEN = 100\n",
    "(x_train, y_train), (x_test, y_test), preproc = text.texts_from_csv(DATA_PATH,\n",
    "                      'payload',\n",
    "                      label_columns = [\"type\"],\n",
    "                      val_filepath=None, # if None, 10% of data will be used for validation\n",
    "                      max_features=NUM_WORDS, maxlen=MAXLEN,\n",
    "                      ngram_range=1,\n",
    "                      preprocess_mode='standard')"
   ]
  },
  {
   "cell_type": "markdown",
   "metadata": {},
   "source": [
    "Load the learner instance that uses ```bigru``` model "
   ]
  },
  {
   "cell_type": "code",
   "execution_count": 4,
   "metadata": {
    "colab": {
     "base_uri": "https://localhost:8080/",
     "height": 136
    },
    "id": "UpbaZ68Dv3Ew",
    "outputId": "68874f80-6a80-4960-a152-1b594f4ee856"
   },
   "outputs": [
    {
     "name": "stdout",
     "output_type": "stream",
     "text": [
      "Is Multi-Label? False\n",
      "compiling word ID features...\n",
      "maxlen is 100\n",
      "word vectors will be loaded from: https://dl.fbaipublicfiles.com/fasttext/vectors-crawl/cc.en.300.vec.gz\n",
      "processing pretrained word vectors...\n",
      "loading pretrained word vectors...this may take a few moments...\n"
     ]
    },
    {
     "data": {
      "text/html": [
       "\n",
       "<style>\n",
       "    /* Turns off some styling */\n",
       "    progress {\n",
       "        /* gets rid of default border in Firefox and Opera. */\n",
       "        border: none;\n",
       "        /* Needs to be in here for Safari polyfill so background images work as expected. */\n",
       "        background-size: auto;\n",
       "    }\n",
       "    .progress-bar-interrupted, .progress-bar-interrupted::-webkit-progress-bar {\n",
       "        background: #F44336;\n",
       "    }\n",
       "</style>\n"
      ],
      "text/plain": [
       "<IPython.core.display.HTML object>"
      ]
     },
     "metadata": {},
     "output_type": "display_data"
    },
    {
     "data": {
      "text/html": [],
      "text/plain": [
       "<IPython.core.display.HTML object>"
      ]
     },
     "metadata": {},
     "output_type": "display_data"
    },
    {
     "name": "stdout",
     "output_type": "stream",
     "text": [
      "done.\n"
     ]
    }
   ],
   "source": [
    "model = text.text_classifier('bigru', (x_train, y_train), \n",
    "                             preproc=preproc)\n",
    "learner = ktrain.get_learner(model, train_data=(x_train, y_train), val_data=(x_test, y_test))"
   ]
  },
  {
   "cell_type": "markdown",
   "metadata": {},
   "source": [
    "Now let's find the optimal learning rate for this model"
   ]
  },
  {
   "cell_type": "code",
   "execution_count": 5,
   "metadata": {
    "colab": {
     "base_uri": "https://localhost:8080/",
     "height": 592
    },
    "id": "u-kza8Env3Ex",
    "outputId": "146052d1-5d60-4708-b878-1660db206379"
   },
   "outputs": [
    {
     "name": "stdout",
     "output_type": "stream",
     "text": [
      "simulating training for different learning rates... this may take a few moments...\n",
      "Epoch 1/1024\n",
      "382/382 [==============================] - 66s 166ms/step - loss: 1.0880 - accuracy: 0.3965\n",
      "Epoch 2/1024\n",
      "382/382 [==============================] - 64s 167ms/step - loss: 0.9181 - accuracy: 0.6013\n",
      "Epoch 3/1024\n",
      "382/382 [==============================] - 63s 166ms/step - loss: 0.0728 - accuracy: 0.9846\n",
      "Epoch 4/1024\n",
      "382/382 [==============================] - 40s 106ms/step - loss: 0.2786 - accuracy: 0.9763\n",
      "\n",
      "\n",
      "done.\n",
      "Please invoke the Learner.lr_plot() method to visually inspect the loss plot to help identify the maximal learning rate associated with falling loss.\n"
     ]
    },
    {
     "data": {
      "image/png": "[encoded data removed]",
      "text/plain": [
       "<Figure size 432x288 with 1 Axes>"
      ]
     },
     "metadata": {
      "needs_background": "light"
     },
     "output_type": "display_data"
    }
   ],
   "source": [
    "learner.lr_find()\n",
    "learner.lr_plot()"
   ]
  },
  {
   "cell_type": "markdown",
   "metadata": {},
   "source": [
    "Train the model using the optimal learning rate ( adjust argument as needed accorfing to the graph)"
   ]
  },
  {
   "cell_type": "code",
   "execution_count": 6,
   "metadata": {
    "colab": {
     "base_uri": "https://localhost:8080/"
    },
    "id": "MmjJwfrQv3Ex",
    "outputId": "17265489-ad02-4108-cb8d-549c06ff93f6"
   },
   "outputs": [
    {
     "name": "stdout",
     "output_type": "stream",
     "text": [
      "early_stopping automatically enabled at patience=5\n",
      "reduce_on_plateau automatically enabled at patience=2\n",
      "\n",
      "\n",
      "begin training using triangular learning rate policy with max lr of 0.01...\n",
      "Epoch 1/1024\n",
      "382/382 [==============================] - 67s 170ms/step - loss: 0.0819 - accuracy: 0.9724 - val_loss: 0.0440 - val_accuracy: 0.9890\n",
      "Epoch 2/1024\n",
      "382/382 [==============================] - 65s 169ms/step - loss: 0.0065 - accuracy: 0.9982 - val_loss: 0.1262 - val_accuracy: 0.9948\n",
      "Epoch 3/1024\n",
      "382/382 [==============================] - ETA: 0s - loss: 0.0028 - accuracy: 0.9993\n",
      "Epoch 00003: Reducing Max LR on Plateau: new max lr will be 0.005 (if not early_stopping).\n",
      "382/382 [==============================] - 64s 167ms/step - loss: 0.0028 - accuracy: 0.9993 - val_loss: 0.6959 - val_accuracy: 0.8159\n",
      "Epoch 4/1024\n",
      "382/382 [==============================] - 64s 167ms/step - loss: 0.0015 - accuracy: 0.9993 - val_loss: 0.6274 - val_accuracy: 0.8159\n",
      "Epoch 5/1024\n",
      "382/382 [==============================] - ETA: 0s - loss: 0.0010 - accuracy: 0.9996\n",
      "Epoch 00005: Reducing Max LR on Plateau: new max lr will be 0.0025 (if not early_stopping).\n",
      "382/382 [==============================] - 64s 168ms/step - loss: 0.0010 - accuracy: 0.9996 - val_loss: 0.7790 - val_accuracy: 0.8159\n",
      "Epoch 6/1024\n",
      "382/382 [==============================] - ETA: 0s - loss: 9.8256e-04 - accuracy: 0.9996Restoring model weights from the end of the best epoch: 1.\n",
      "382/382 [==============================] - 64s 167ms/step - loss: 9.8256e-04 - accuracy: 0.9996 - val_loss: 0.7969 - val_accuracy: 0.8159\n",
      "Epoch 6: early stopping\n",
      "Weights from best epoch have been loaded into model.\n"
     ]
    },
    {
     "data": {
      "text/plain": [
       "<keras.callbacks.History at 0x7f82e69ecfa0>"
      ]
     },
     "execution_count": 6,
     "metadata": {},
     "output_type": "execute_result"
    }
   ],
   "source": [
    "learner.autofit(0.01)"
   ]
  },
  {
   "cell_type": "markdown",
   "metadata": {},
   "source": [
    "Now let's evaluate the the ```validation data set```"
   ]
  },
  {
   "cell_type": "code",
   "execution_count": 7,
   "metadata": {
    "id": "CL-bN9wkv3Ex"
   },
   "outputs": [
    {
     "name": "stdout",
     "output_type": "stream",
     "text": [
      "              precision    recall  f1-score   support\n",
      "\n",
      "           0       0.96      1.00      0.98       382\n",
      "           1       1.00      0.97      0.99       411\n",
      "           2       1.00      0.99      1.00       565\n",
      "\n",
      "    accuracy                           0.99      1358\n",
      "   macro avg       0.99      0.99      0.99      1358\n",
      "weighted avg       0.99      0.99      0.99      1358\n",
      "\n"
     ]
    },
    {
     "data": {
      "text/plain": [
       "array([[382,   0,   0],\n",
       "       [ 11, 399,   1],\n",
       "       [  3,   0, 562]])"
      ]
     },
     "execution_count": 7,
     "metadata": {},
     "output_type": "execute_result"
    }
   ],
   "source": [
    "learner.evaluate()"
   ]
  },
  {
   "cell_type": "markdown",
   "metadata": {},
   "source": [
    "Here is what our model looks like. It has a number of layers that comprise this ```GRU```"
   ]
  },
  {
   "cell_type": "code",
   "execution_count": 8,
   "metadata": {
    "colab": {
     "base_uri": "https://localhost:8080/"
    },
    "id": "Fh1_l7ioIpS6",
    "outputId": "c35e8957-540f-42a7-fd07-d9d417915873"
   },
   "outputs": [
    {
     "name": "stdout",
     "output_type": "stream",
     "text": [
      "0 (trainable=True) : <keras.engine.input_layer.InputLayer object at 0x7f82e2ce8700>\n",
      "1 (trainable=True) : <keras.layers.embeddings.Embedding object at 0x7f82e2ce8610>\n",
      "2 (trainable=True) : <keras.layers.core.spatial_dropout.SpatialDropout1D object at 0x7f82e2ce8af0>\n",
      "3 (trainable=True) : <keras.layers.wrappers.Bidirectional object at 0x7f82e107b9a0>\n",
      "4 (trainable=True) : <keras.layers.pooling.GlobalAveragePooling1D object at 0x7f82e66e4dc0>\n",
      "5 (trainable=True) : <keras.layers.pooling.GlobalMaxPooling1D object at 0x7f82e66e4d90>\n",
      "6 (trainable=True) : <keras.layers.merge.Concatenate object at 0x7f82e66e0040>\n",
      "7 (trainable=True) : <keras.layers.core.dense.Dense object at 0x7f82e66e4ac0>\n"
     ]
    }
   ],
   "source": [
    "learner.print_layers()\n"
   ]
  },
  {
   "cell_type": "code",
   "execution_count": 9,
   "metadata": {
    "id": "7ATgiIbyE7XJ"
   },
   "outputs": [],
   "source": [
    "learner.freeze()"
   ]
  },
  {
   "cell_type": "markdown",
   "metadata": {},
   "source": [
    "It's time for some fun! First, get a predictor instance that uses our pre-trained model"
   ]
  },
  {
   "cell_type": "code",
   "execution_count": 10,
   "metadata": {
    "scrolled": true
   },
   "outputs": [
    {
     "name": "stdout",
     "output_type": "stream",
     "text": [
      "MODEL SAVED\n"
     ]
    }
   ],
   "source": [
    "predictor = ktrain.get_predictor(learner.model, preproc)\n",
    "predictor.save('sqli_xss_detector')\n",
    "print('MODEL SAVED')"
   ]
  },
  {
   "cell_type": "markdown",
   "metadata": {},
   "source": [
    "Let's see if it can catch an SQLi or XSS payload"
   ]
  },
  {
   "cell_type": "code",
   "execution_count": 16,
   "metadata": {},
   "outputs": [],
   "source": [
    "import pickle\n",
    "from tensorflow.keras.models import load_model\n",
    "# loading preprocess and model file\n",
    "features = pickle.load(open('sqli_xss_detector/tf_model.preproc',\n",
    "                            'rb'))\n",
    "new_model = load_model('sqli_xss_detector/tf_model.h5')\n",
    "labels = ['benign', 'sqli', 'xss']"
   ]
  },
  {
   "cell_type": "code",
   "execution_count": 25,
   "metadata": {},
   "outputs": [
    {
     "name": "stdout",
     "output_type": "stream",
     "text": [
      "[[4.8018896e-06 1.7076602e-05 9.9997807e-01]]\n",
      "LABEL : xss SCORE : 100.00\n"
     ]
    }
   ],
   "source": [
    "text = '<applet onkeydown=\"alert(1)\" contenteditable>test</applet>'\n",
    "preproc_text = features.preprocess([text])\n",
    "result = new_model.predict(preproc_text)\n",
    "print(result)\n",
    "label = labels[result[0].argmax(axis=0)]\n",
    "score = ('{:.2f}'.format(round(np.max(result[0]), 2)*100))\n",
    "print('LABEL :', label, 'SCORE :', score)"
   ]
  },
  {
   "cell_type": "code",
   "execution_count": null,
   "metadata": {},
   "outputs": [],
   "source": []
  }
 ],
 "metadata": {
  "accelerator": "GPU",
  "colab": {
   "name": "ml_sqli_detector.ipynb",
   "provenance": []
  },
  "kernelspec": {
   "display_name": "Python 3 (ipykernel)",
   "language": "python",
   "name": "python3"
  },
  "language_info": {
   "codemirror_mode": {
    "name": "ipython",
    "version": 3
   },
   "file_extension": ".py",
   "mimetype": "text/x-python",
   "name": "python",
   "nbconvert_exporter": "python",
   "pygments_lexer": "ipython3",
   "version": "3.8.10"
  }
 },
 "nbformat": 4,
 "nbformat_minor": 1
}

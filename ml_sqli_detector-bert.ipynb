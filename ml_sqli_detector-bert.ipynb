{
 "cells": [
  {
   "cell_type": "markdown",
   "metadata": {},
   "source": [
    "## Basic classifier that uses Bidirectional Gated Recurrent Unit (bigru) to predict if the payload is an SQL injection"
   ]
  },
  {
   "cell_type": "markdown",
   "metadata": {},
   "source": [
    "Let's import our stuff here\n"
   ]
  },
  {
   "cell_type": "code",
   "execution_count": 2,
   "metadata": {
    "id": "9o-dl8wLv3Ep"
   },
   "outputs": [
    {
     "name": "stdout",
     "output_type": "stream",
     "text": [
      "Requirement already satisfied: ktrain in /home/jupyter/.local/lib/python3.8/site-packages (0.29.3)\n",
      "Requirement already satisfied: matplotlib in /home/jupyter/.local/lib/python3.8/site-packages (3.5.1)\n",
      "Requirement already satisfied: tensorflow in /home/jupyter/.local/lib/python3.8/site-packages (2.8.0)\n",
      "Requirement already satisfied: numpy in /home/jupyter/.local/lib/python3.8/site-packages (1.22.3)\n",
      "Requirement already satisfied: pandas>=1.0.1 in /home/jupyter/.local/lib/python3.8/site-packages (from ktrain) (1.4.1)\n",
      "Requirement already satisfied: cchardet in /home/jupyter/.local/lib/python3.8/site-packages (from ktrain) (2.1.7)\n",
      "Requirement already satisfied: jieba in /home/jupyter/.local/lib/python3.8/site-packages (from ktrain) (0.42.1)\n",
      "Requirement already satisfied: langdetect in /home/jupyter/.local/lib/python3.8/site-packages (from ktrain) (1.0.9)\n",
      "Requirement already satisfied: whoosh in /home/jupyter/.local/lib/python3.8/site-packages (from ktrain) (2.7.4)\n",
      "Requirement already satisfied: joblib in /home/jupyter/.local/lib/python3.8/site-packages (from ktrain) (1.1.0)\n",
      "Requirement already satisfied: sentencepiece in /home/jupyter/.local/lib/python3.8/site-packages (from ktrain) (0.1.96)\n",
      "Requirement already satisfied: transformers==4.10.3 in /home/jupyter/.local/lib/python3.8/site-packages (from ktrain) (4.10.3)\n",
      "Requirement already satisfied: chardet in /usr/lib/python3/dist-packages (from ktrain) (3.0.4)\n",
      "Requirement already satisfied: fastprogress>=0.1.21 in /home/jupyter/.local/lib/python3.8/site-packages (from ktrain) (1.0.2)\n",
      "Requirement already satisfied: keras-bert>=0.86.0 in /home/jupyter/.local/lib/python3.8/site-packages (from ktrain) (0.89.0)\n",
      "Requirement already satisfied: scikit-learn==0.24.2 in /home/jupyter/.local/lib/python3.8/site-packages (from ktrain) (0.24.2)\n",
      "Requirement already satisfied: syntok==1.3.3 in /home/jupyter/.local/lib/python3.8/site-packages (from ktrain) (1.3.3)\n",
      "Requirement already satisfied: requests in /usr/lib/python3/dist-packages (from ktrain) (2.22.0)\n",
      "Requirement already satisfied: packaging in /home/jupyter/.local/lib/python3.8/site-packages (from ktrain) (21.3)\n",
      "Requirement already satisfied: seqeval==0.0.19 in /home/jupyter/.local/lib/python3.8/site-packages (from ktrain) (0.0.19)\n",
      "Requirement already satisfied: python-dateutil>=2.7 in /home/jupyter/.local/lib/python3.8/site-packages (from matplotlib) (2.8.2)\n",
      "Requirement already satisfied: kiwisolver>=1.0.1 in /home/jupyter/.local/lib/python3.8/site-packages (from matplotlib) (1.4.0)\n",
      "Requirement already satisfied: cycler>=0.10 in /home/jupyter/.local/lib/python3.8/site-packages (from matplotlib) (0.11.0)\n",
      "Requirement already satisfied: pyparsing>=2.2.1 in /home/jupyter/.local/lib/python3.8/site-packages (from matplotlib) (3.0.7)\n",
      "Requirement already satisfied: pillow>=6.2.0 in /home/jupyter/.local/lib/python3.8/site-packages (from matplotlib) (9.0.1)\n",
      "Requirement already satisfied: fonttools>=4.22.0 in /home/jupyter/.local/lib/python3.8/site-packages (from matplotlib) (4.31.2)\n",
      "Requirement already satisfied: astunparse>=1.6.0 in /home/jupyter/.local/lib/python3.8/site-packages (from tensorflow) (1.6.3)\n",
      "Requirement already satisfied: setuptools in /usr/lib/python3/dist-packages (from tensorflow) (45.2.0)\n",
      "Requirement already satisfied: flatbuffers>=1.12 in /home/jupyter/.local/lib/python3.8/site-packages (from tensorflow) (2.0)\n",
      "Requirement already satisfied: keras-preprocessing>=1.1.1 in /home/jupyter/.local/lib/python3.8/site-packages (from tensorflow) (1.1.2)\n",
      "Requirement already satisfied: tf-estimator-nightly==2.8.0.dev2021122109 in /home/jupyter/.local/lib/python3.8/site-packages (from tensorflow) (2.8.0.dev2021122109)\n",
      "Requirement already satisfied: protobuf>=3.9.2 in /home/jupyter/.local/lib/python3.8/site-packages (from tensorflow) (3.19.4)\n",
      "Requirement already satisfied: google-pasta>=0.1.1 in /home/jupyter/.local/lib/python3.8/site-packages (from tensorflow) (0.2.0)\n",
      "Requirement already satisfied: six>=1.12.0 in /usr/lib/python3/dist-packages (from tensorflow) (1.14.0)\n",
      "Requirement already satisfied: libclang>=9.0.1 in /home/jupyter/.local/lib/python3.8/site-packages (from tensorflow) (13.0.0)\n",
      "Requirement already satisfied: h5py>=2.9.0 in /home/jupyter/.local/lib/python3.8/site-packages (from tensorflow) (3.6.0)\n",
      "Requirement already satisfied: tensorboard<2.9,>=2.8 in /home/jupyter/.local/lib/python3.8/site-packages (from tensorflow) (2.8.0)\n",
      "Requirement already satisfied: keras<2.9,>=2.8.0rc0 in /home/jupyter/.local/lib/python3.8/site-packages (from tensorflow) (2.8.0)\n",
      "Requirement already satisfied: wrapt>=1.11.0 in /home/jupyter/.local/lib/python3.8/site-packages (from tensorflow) (1.14.0)\n",
      "Requirement already satisfied: tensorflow-io-gcs-filesystem>=0.23.1 in /home/jupyter/.local/lib/python3.8/site-packages (from tensorflow) (0.24.0)\n",
      "Requirement already satisfied: opt-einsum>=2.3.2 in /home/jupyter/.local/lib/python3.8/site-packages (from tensorflow) (3.3.0)\n",
      "Requirement already satisfied: gast>=0.2.1 in /home/jupyter/.local/lib/python3.8/site-packages (from tensorflow) (0.5.3)\n",
      "Requirement already satisfied: grpcio<2.0,>=1.24.3 in /home/jupyter/.local/lib/python3.8/site-packages (from tensorflow) (1.44.0)\n",
      "Requirement already satisfied: absl-py>=0.4.0 in /home/jupyter/.local/lib/python3.8/site-packages (from tensorflow) (1.0.0)\n",
      "Requirement already satisfied: termcolor>=1.1.0 in /home/jupyter/.local/lib/python3.8/site-packages (from tensorflow) (1.1.0)\n",
      "Requirement already satisfied: typing-extensions>=3.6.6 in /home/jupyter/.local/lib/python3.8/site-packages (from tensorflow) (4.1.1)\n",
      "Requirement already satisfied: pytz>=2020.1 in /home/jupyter/.local/lib/python3.8/site-packages (from pandas>=1.0.1->ktrain) (2022.1)\n",
      "Requirement already satisfied: pyyaml>=5.1 in /usr/lib/python3/dist-packages (from transformers==4.10.3->ktrain) (5.3.1)\n",
      "Requirement already satisfied: filelock in /usr/local/lib/python3.8/dist-packages (from transformers==4.10.3->ktrain) (3.6.0)\n",
      "Requirement already satisfied: tokenizers<0.11,>=0.10.1 in /home/jupyter/.local/lib/python3.8/site-packages (from transformers==4.10.3->ktrain) (0.10.3)\n",
      "Requirement already satisfied: regex!=2019.12.17 in /home/jupyter/.local/lib/python3.8/site-packages (from transformers==4.10.3->ktrain) (2022.3.15)\n",
      "Requirement already satisfied: sacremoses in /home/jupyter/.local/lib/python3.8/site-packages (from transformers==4.10.3->ktrain) (0.0.49)\n",
      "Requirement already satisfied: tqdm>=4.27 in /home/jupyter/.local/lib/python3.8/site-packages (from transformers==4.10.3->ktrain) (4.63.1)\n",
      "Requirement already satisfied: huggingface-hub>=0.0.12 in /home/jupyter/.local/lib/python3.8/site-packages (from transformers==4.10.3->ktrain) (0.4.0)\n",
      "Requirement already satisfied: keras-transformer==0.40.0 in /home/jupyter/.local/lib/python3.8/site-packages (from keras-bert>=0.86.0->ktrain) (0.40.0)\n",
      "Requirement already satisfied: scipy>=0.19.1 in /home/jupyter/.local/lib/python3.8/site-packages (from scikit-learn==0.24.2->ktrain) (1.8.0)\n",
      "Requirement already satisfied: threadpoolctl>=2.0.0 in /home/jupyter/.local/lib/python3.8/site-packages (from scikit-learn==0.24.2->ktrain) (3.1.0)\n",
      "Requirement already satisfied: wheel<1.0,>=0.23.0 in /usr/lib/python3/dist-packages (from astunparse>=1.6.0->tensorflow) (0.34.2)\n",
      "Requirement already satisfied: markdown>=2.6.8 in /home/jupyter/.local/lib/python3.8/site-packages (from tensorboard<2.9,>=2.8->tensorflow) (3.3.6)\n",
      "Requirement already satisfied: google-auth-oauthlib<0.5,>=0.4.1 in /home/jupyter/.local/lib/python3.8/site-packages (from tensorboard<2.9,>=2.8->tensorflow) (0.4.6)\n",
      "Requirement already satisfied: google-auth<3,>=1.6.3 in /home/jupyter/.local/lib/python3.8/site-packages (from tensorboard<2.9,>=2.8->tensorflow) (2.6.2)\n",
      "Requirement already satisfied: werkzeug>=0.11.15 in /home/jupyter/.local/lib/python3.8/site-packages (from tensorboard<2.9,>=2.8->tensorflow) (2.1.0)\n",
      "Requirement already satisfied: tensorboard-plugin-wit>=1.6.0 in /home/jupyter/.local/lib/python3.8/site-packages (from tensorboard<2.9,>=2.8->tensorflow) (1.8.1)\n",
      "Requirement already satisfied: tensorboard-data-server<0.7.0,>=0.6.0 in /home/jupyter/.local/lib/python3.8/site-packages (from tensorboard<2.9,>=2.8->tensorflow) (0.6.1)\n"
     ]
    },
    {
     "name": "stdout",
     "output_type": "stream",
     "text": [
      "Requirement already satisfied: click in /home/jupyter/.local/lib/python3.8/site-packages (from sacremoses->transformers==4.10.3->ktrain) (8.1.0)\r\n",
      "Requirement already satisfied: keras-embed-sim==0.10.0 in /home/jupyter/.local/lib/python3.8/site-packages (from keras-transformer==0.40.0->keras-bert>=0.86.0->ktrain) (0.10.0)\r\n",
      "Requirement already satisfied: keras-multi-head==0.29.0 in /home/jupyter/.local/lib/python3.8/site-packages (from keras-transformer==0.40.0->keras-bert>=0.86.0->ktrain) (0.29.0)\r\n",
      "Requirement already satisfied: keras-pos-embd==0.13.0 in /home/jupyter/.local/lib/python3.8/site-packages (from keras-transformer==0.40.0->keras-bert>=0.86.0->ktrain) (0.13.0)\r\n",
      "Requirement already satisfied: keras-layer-normalization==0.16.0 in /home/jupyter/.local/lib/python3.8/site-packages (from keras-transformer==0.40.0->keras-bert>=0.86.0->ktrain) (0.16.0)\r\n",
      "Requirement already satisfied: keras-position-wise-feed-forward==0.8.0 in /home/jupyter/.local/lib/python3.8/site-packages (from keras-transformer==0.40.0->keras-bert>=0.86.0->ktrain) (0.8.0)\r\n",
      "Requirement already satisfied: importlib-metadata>=4.4; python_version < \"3.10\" in /home/jupyter/.local/lib/python3.8/site-packages (from markdown>=2.6.8->tensorboard<2.9,>=2.8->tensorflow) (4.11.3)\r\n",
      "Requirement already satisfied: requests-oauthlib>=0.7.0 in /home/jupyter/.local/lib/python3.8/site-packages (from google-auth-oauthlib<0.5,>=0.4.1->tensorboard<2.9,>=2.8->tensorflow) (1.3.1)\r\n",
      "Requirement already satisfied: rsa<5,>=3.1.4; python_version >= \"3.6\" in /home/jupyter/.local/lib/python3.8/site-packages (from google-auth<3,>=1.6.3->tensorboard<2.9,>=2.8->tensorflow) (4.8)\r\n",
      "Requirement already satisfied: pyasn1-modules>=0.2.1 in /usr/lib/python3/dist-packages (from google-auth<3,>=1.6.3->tensorboard<2.9,>=2.8->tensorflow) (0.2.1)\r\n",
      "Requirement already satisfied: cachetools<6.0,>=2.0.0 in /home/jupyter/.local/lib/python3.8/site-packages (from google-auth<3,>=1.6.3->tensorboard<2.9,>=2.8->tensorflow) (5.0.0)\r\n",
      "Requirement already satisfied: keras-self-attention==0.51.0 in /home/jupyter/.local/lib/python3.8/site-packages (from keras-multi-head==0.29.0->keras-transformer==0.40.0->keras-bert>=0.86.0->ktrain) (0.51.0)\r\n",
      "Requirement already satisfied: zipp>=0.5 in /usr/lib/python3/dist-packages (from importlib-metadata>=4.4; python_version < \"3.10\"->markdown>=2.6.8->tensorboard<2.9,>=2.8->tensorflow) (1.0.0)\r\n",
      "Requirement already satisfied: oauthlib>=3.0.0 in /usr/lib/python3/dist-packages (from requests-oauthlib>=0.7.0->google-auth-oauthlib<0.5,>=0.4.1->tensorboard<2.9,>=2.8->tensorflow) (3.1.0)\r\n",
      "Requirement already satisfied: pyasn1>=0.1.3 in /usr/lib/python3/dist-packages (from rsa<5,>=3.1.4; python_version >= \"3.6\"->google-auth<3,>=1.6.3->tensorboard<2.9,>=2.8->tensorflow) (0.4.2)\r\n"
     ]
    }
   ],
   "source": [
    "!pip3 install scikit-learn>=1.0.0\n",
    "!pip3 install ktrain matplotlib tensorflow numpy\n",
    "import matplotlib\n",
    "import os\n",
    "import numpy as np\n",
    "%reload_ext autoreload\n",
    "%autoreload 2\n",
    "%matplotlib inline\n",
    "os.environ[\"CUDA_DEVICE_ORDER\"]=\"PCI_BUS_ID\";\n",
    "os.environ[\"CUDA_VISIBLE_DEVICES\"]=\"0\"; "
   ]
  },
  {
   "cell_type": "markdown",
   "metadata": {},
   "source": [
    "Some more imports...We are using ktrain wrapper to simplify model operations and take advantage of some cool stuff like autofit"
   ]
  },
  {
   "cell_type": "code",
   "execution_count": 3,
   "metadata": {
    "id": "evreWp_bv3Es"
   },
   "outputs": [],
   "source": [
    "import ktrain\n",
    "from ktrain import text"
   ]
  },
  {
   "cell_type": "markdown",
   "metadata": {
    "id": "Shmkj8niv3Ev"
   },
   "source": [
    "Here, we will classify payload to \"malicious sqli\" and \"benign\" . Data set is presented as a CSV file (i.e., download the file ```SQLiV3a_.csv```).  We will load the data using the ```texts_from_csv``` method, which assumes the label_columns are already one-hot-encoded in the spreadsheet. Since *val_filepath* is None, 10% of the data will automatically be used as a validation set.\n"
   ]
  },
  {
   "cell_type": "code",
   "execution_count": 4,
   "metadata": {
    "colab": {
     "base_uri": "https://localhost:8080/"
    },
    "id": "j6-wA79wv3Ew",
    "outputId": "7f7ba49d-d58f-4cf3-f363-806f37d2bd99"
   },
   "outputs": [
    {
     "name": "stdout",
     "output_type": "stream",
     "text": [
      "detected encoding: UTF-8-SIG (if wrong, set manually)\n",
      "['benign', 'sqli', 'xss']\n",
      "       benign  sqli  xss\n",
      "4662      1.0   0.0  0.0\n",
      "3215      0.0   1.0  0.0\n",
      "5230      1.0   0.0  0.0\n",
      "9135      1.0   0.0  0.0\n",
      "11136     0.0   0.0  1.0\n",
      "['benign', 'sqli', 'xss']\n",
      "       benign  sqli  xss\n",
      "8213      0.0   0.0  1.0\n",
      "8312      0.0   0.0  1.0\n",
      "5578      0.0   1.0  0.0\n",
      "5659      0.0   0.0  1.0\n",
      "12384     1.0   0.0  0.0\n",
      "preprocessing train...\n",
      "language: en\n"
     ]
    },
    {
     "data": {
      "text/html": [
       "\n",
       "<style>\n",
       "    /* Turns off some styling */\n",
       "    progress {\n",
       "        /* gets rid of default border in Firefox and Opera. */\n",
       "        border: none;\n",
       "        /* Needs to be in here for Safari polyfill so background images work as expected. */\n",
       "        background-size: auto;\n",
       "    }\n",
       "    .progress-bar-interrupted, .progress-bar-interrupted::-webkit-progress-bar {\n",
       "        background: #F44336;\n",
       "    }\n",
       "</style>\n"
      ],
      "text/plain": [
       "<IPython.core.display.HTML object>"
      ]
     },
     "metadata": {},
     "output_type": "display_data"
    },
    {
     "data": {
      "text/html": [
       "done."
      ],
      "text/plain": [
       "<IPython.core.display.HTML object>"
      ]
     },
     "metadata": {},
     "output_type": "display_data"
    },
    {
     "name": "stdout",
     "output_type": "stream",
     "text": [
      "Is Multi-Label? False\n",
      "preprocessing test...\n",
      "language: en\n"
     ]
    },
    {
     "data": {
      "text/html": [
       "\n",
       "<style>\n",
       "    /* Turns off some styling */\n",
       "    progress {\n",
       "        /* gets rid of default border in Firefox and Opera. */\n",
       "        border: none;\n",
       "        /* Needs to be in here for Safari polyfill so background images work as expected. */\n",
       "        background-size: auto;\n",
       "    }\n",
       "    .progress-bar-interrupted, .progress-bar-interrupted::-webkit-progress-bar {\n",
       "        background: #F44336;\n",
       "    }\n",
       "</style>\n"
      ],
      "text/plain": [
       "<IPython.core.display.HTML object>"
      ]
     },
     "metadata": {},
     "output_type": "display_data"
    },
    {
     "data": {
      "text/html": [
       "done."
      ],
      "text/plain": [
       "<IPython.core.display.HTML object>"
      ]
     },
     "metadata": {},
     "output_type": "display_data"
    }
   ],
   "source": [
    "DATA_PATH = 'SQLiV3a_14k.csv'\n",
    "NUM_WORDS = 50000\n",
    "MAXLEN = 200\n",
    "(x_train, y_train), (x_test, y_test), preproc = text.texts_from_csv(DATA_PATH,\n",
    "                      'payload',\n",
    "                      label_columns = [\"type\"],\n",
    "                      val_filepath=None, # if None, 10% of data will be used for validation\n",
    "                      max_features=NUM_WORDS, maxlen=MAXLEN,\n",
    "                      ngram_range=1,\n",
    "                      preprocess_mode='bert')"
   ]
  },
  {
   "cell_type": "markdown",
   "metadata": {},
   "source": [
    "Load the learner instance that uses ```bigru``` model "
   ]
  },
  {
   "cell_type": "code",
   "execution_count": 5,
   "metadata": {
    "colab": {
     "base_uri": "https://localhost:8080/",
     "height": 136
    },
    "id": "UpbaZ68Dv3Ew",
    "outputId": "68874f80-6a80-4960-a152-1b594f4ee856"
   },
   "outputs": [
    {
     "name": "stdout",
     "output_type": "stream",
     "text": [
      "Is Multi-Label? False\n",
      "maxlen is 100\n",
      "done.\n"
     ]
    }
   ],
   "source": [
    "model = text.text_classifier('bert', (x_train, y_train), \n",
    "                             preproc=preproc)\n",
    "learner = ktrain.get_learner(model, train_data=(x_train, y_train), val_data=(x_test, y_test))"
   ]
  },
  {
   "cell_type": "markdown",
   "metadata": {},
   "source": [
    "Now let's find the optimal learning rate for this model"
   ]
  },
  {
   "cell_type": "code",
   "execution_count": 4,
   "metadata": {},
   "outputs": [
    {
     "name": "stdout",
     "output_type": "stream",
     "text": [
      "fasttext: a fastText-like model [http://arxiv.org/pdf/1607.01759.pdf]\n",
      "logreg: logistic regression using a trainable Embedding layer\n",
      "nbsvm: NBSVM model [http://www.aclweb.org/anthology/P12-2018]\n",
      "bigru: Bidirectional GRU with pretrained fasttext word vectors [https://fasttext.cc/docs/en/crawl-vectors.html]\n",
      "standard_gru: simple 2-layer GRU with randomly initialized embeddings\n",
      "bert: Bidirectional Encoder Representations from Transformers (BERT) from keras_bert [https://arxiv.org/abs/1810.04805]\n",
      "distilbert: distilled, smaller, and faster BERT from Hugging Face transformers [https://arxiv.org/abs/1910.01108]\n"
     ]
    }
   ],
   "source": [
    "text.print_text_classifiers()"
   ]
  },
  {
   "cell_type": "code",
   "execution_count": 6,
   "metadata": {
    "colab": {
     "base_uri": "https://localhost:8080/",
     "height": 592
    },
    "id": "u-kza8Env3Ex",
    "outputId": "146052d1-5d60-4708-b878-1660db206379"
   },
   "outputs": [
    {
     "name": "stdout",
     "output_type": "stream",
     "text": [
      "simulating training for different learning rates... this may take a few moments...\n",
      "Epoch 1/2\n",
      "406/406 [==============================] - 1989s 5s/step - loss: 0.4561 - accuracy: 0.7909\n",
      "Epoch 2/2\n",
      "406/406 [==============================] - 772s 2s/step - loss: 2.6124 - accuracy: 0.3395\n",
      "\n",
      "\n",
      "done.\n",
      "Visually inspect loss plot and select learning rate associated with falling loss\n"
     ]
    },
    {
     "data": {
      "image/png": "[encoded data removed]",
      "text/plain": [
       "<Figure size 432x288 with 1 Axes>"
      ]
     },
     "metadata": {
      "needs_background": "light"
     },
     "output_type": "display_data"
    }
   ],
   "source": [
    "learner.lr_find(show_plot=True, max_epochs=2)"
   ]
  },
  {
   "cell_type": "markdown",
   "metadata": {},
   "source": [
    "Train the model using the optimal learning rate ( adjust argument as needed accorfing to the graph)"
   ]
  },
  {
   "cell_type": "code",
   "execution_count": 8,
   "metadata": {
    "id": "7ATgiIbyE7XJ"
   },
   "outputs": [],
   "source": [
    "learner.freeze(104)"
   ]
  },
  {
   "cell_type": "code",
   "execution_count": 9,
   "metadata": {
    "colab": {
     "base_uri": "https://localhost:8080/"
    },
    "id": "MmjJwfrQv3Ex",
    "outputId": "17265489-ad02-4108-cb8d-549c06ff93f6",
    "scrolled": false
   },
   "outputs": [
    {
     "name": "stdout",
     "output_type": "stream",
     "text": [
      "early_stopping automatically enabled at patience=5\n",
      "reduce_on_plateau automatically enabled at patience=2\n",
      "\n",
      "\n",
      "begin training using triangular learning rate policy with max lr of 0.001...\n",
      "Epoch 1/1024\n",
      "406/406 [==============================] - 729s 2s/step - loss: 0.0644 - accuracy: 0.9797 - val_loss: 0.0140 - val_accuracy: 0.9945\n",
      "Epoch 2/1024\n",
      "406/406 [==============================] - 711s 2s/step - loss: 0.0220 - accuracy: 0.9926 - val_loss: 0.0107 - val_accuracy: 0.9965\n",
      "Epoch 3/1024\n",
      "406/406 [==============================] - 711s 2s/step - loss: 0.0220 - accuracy: 0.9931 - val_loss: 0.0160 - val_accuracy: 0.9945\n",
      "Epoch 4/1024\n",
      "406/406 [==============================] - 713s 2s/step - loss: 0.0190 - accuracy: 0.9941 - val_loss: 0.0082 - val_accuracy: 0.9965\n",
      "Epoch 5/1024\n",
      "406/406 [==============================] - 714s 2s/step - loss: 0.0167 - accuracy: 0.9948 - val_loss: 0.0162 - val_accuracy: 0.9965\n",
      "Epoch 6/1024\n",
      "406/406 [==============================] - 714s 2s/step - loss: 0.0152 - accuracy: 0.9953 - val_loss: 0.0069 - val_accuracy: 0.9965\n",
      "Epoch 7/1024\n",
      "406/406 [==============================] - 715s 2s/step - loss: 0.0147 - accuracy: 0.9948 - val_loss: 0.0138 - val_accuracy: 0.9951\n",
      "Epoch 8/1024\n",
      "406/406 [==============================] - ETA: 0s - loss: 0.0109 - accuracy: 0.9962\n",
      "Epoch 00008: Reducing Max LR on Plateau: new max lr will be 0.0005 (if not early_stopping).\n",
      "406/406 [==============================] - 714s 2s/step - loss: 0.0109 - accuracy: 0.9962 - val_loss: 0.0117 - val_accuracy: 0.9972\n",
      "Epoch 9/1024\n",
      "406/406 [==============================] - 713s 2s/step - loss: 0.0097 - accuracy: 0.9974 - val_loss: 0.0123 - val_accuracy: 0.9958\n",
      "Epoch 10/1024\n",
      "406/406 [==============================] - ETA: 0s - loss: 0.0076 - accuracy: 0.9978\n",
      "Epoch 00010: Reducing Max LR on Plateau: new max lr will be 0.00025 (if not early_stopping).\n",
      "406/406 [==============================] - 709s 2s/step - loss: 0.0076 - accuracy: 0.9978 - val_loss: 0.0096 - val_accuracy: 0.9965\n",
      "Epoch 11/1024\n",
      "406/406 [==============================] - ETA: 0s - loss: 0.0069 - accuracy: 0.9982Restoring model weights from the end of the best epoch: 6.\n",
      "406/406 [==============================] - 712s 2s/step - loss: 0.0069 - accuracy: 0.9982 - val_loss: 0.0071 - val_accuracy: 0.9979\n",
      "Epoch 11: early stopping\n",
      "Weights from best epoch have been loaded into model.\n"
     ]
    },
    {
     "data": {
      "text/plain": [
       "<keras.callbacks.History at 0x7fc7f0dd57f0>"
      ]
     },
     "execution_count": 9,
     "metadata": {},
     "output_type": "execute_result"
    }
   ],
   "source": [
    "learner.autofit(0.001)"
   ]
  },
  {
   "cell_type": "markdown",
   "metadata": {},
   "source": [
    "Now let's evaluate the the ```validation data set```"
   ]
  },
  {
   "cell_type": "code",
   "execution_count": null,
   "metadata": {
    "id": "CL-bN9wkv3Ex"
   },
   "outputs": [],
   "source": [
    "learner.evaluate()"
   ]
  },
  {
   "cell_type": "markdown",
   "metadata": {},
   "source": [
    "Here is what our model looks like. It has a number of layers that comprise this ```GRU```"
   ]
  },
  {
   "cell_type": "code",
   "execution_count": 7,
   "metadata": {
    "colab": {
     "base_uri": "https://localhost:8080/"
    },
    "id": "Fh1_l7ioIpS6",
    "outputId": "c35e8957-540f-42a7-fd07-d9d417915873"
   },
   "outputs": [
    {
     "name": "stdout",
     "output_type": "stream",
     "text": [
      "0 (trainable=True) : <keras.engine.input_layer.InputLayer object at 0x7fc7d404b790>\n",
      "1 (trainable=True) : <keras.engine.input_layer.InputLayer object at 0x7fc7d404bdc0>\n",
      "2 (trainable=True) : <keras_bert.layers.embedding.TokenEmbedding object at 0x7fc7d404bd90>\n",
      "3 (trainable=True) : <keras.layers.embeddings.Embedding object at 0x7fc7d404bf40>\n",
      "4 (trainable=True) : <keras.layers.merge.Add object at 0x7fc7d40317c0>\n",
      "5 (trainable=True) : <keras_pos_embd.pos_embd.PositionEmbedding object at 0x7fc7d404e580>\n",
      "6 (trainable=True) : <keras.layers.core.dropout.Dropout object at 0x7fc7d404e250>\n",
      "7 (trainable=True) : <keras_layer_normalization.layer_normalization.LayerNormalization object at 0x7fc7d404e3d0>\n",
      "8 (trainable=True) : <keras_multi_head.multi_head_attention.MultiHeadAttention object at 0x7fc824412c40>\n",
      "9 (trainable=True) : <keras.layers.core.dropout.Dropout object at 0x7fc7f37e6340>\n",
      "10 (trainable=True) : <keras.layers.merge.Add object at 0x7fc7f37e6580>\n",
      "11 (trainable=True) : <keras_layer_normalization.layer_normalization.LayerNormalization object at 0x7fc7f37e6490>\n",
      "12 (trainable=True) : <keras_position_wise_feed_forward.feed_forward.FeedForward object at 0x7fc7f37e6970>\n",
      "13 (trainable=True) : <keras.layers.core.dropout.Dropout object at 0x7fc7f37e6cd0>\n",
      "14 (trainable=True) : <keras.layers.merge.Add object at 0x7fc7f37e6f10>\n",
      "15 (trainable=True) : <keras_layer_normalization.layer_normalization.LayerNormalization object at 0x7fc7f37e6e20>\n",
      "16 (trainable=True) : <keras_multi_head.multi_head_attention.MultiHeadAttention object at 0x7fc7f37ecb80>\n",
      "17 (trainable=True) : <keras.layers.core.dropout.Dropout object at 0x7fc7f37ec310>\n",
      "18 (trainable=True) : <keras.layers.merge.Add object at 0x7fc7f37ec0a0>\n",
      "19 (trainable=True) : <keras_layer_normalization.layer_normalization.LayerNormalization object at 0x7fc7f37ec070>\n",
      "20 (trainable=True) : <keras_position_wise_feed_forward.feed_forward.FeedForward object at 0x7fc7f37ec850>\n",
      "21 (trainable=True) : <keras.layers.core.dropout.Dropout object at 0x7fc7f37ec1c0>\n",
      "22 (trainable=True) : <keras.layers.merge.Add object at 0x7fc7f37d1b50>\n",
      "23 (trainable=True) : <keras_layer_normalization.layer_normalization.LayerNormalization object at 0x7fc7f37d16a0>\n",
      "24 (trainable=True) : <keras_multi_head.multi_head_attention.MultiHeadAttention object at 0x7fc7f37d1bb0>\n",
      "25 (trainable=True) : <keras.layers.core.dropout.Dropout object at 0x7fc7f37d17c0>\n",
      "26 (trainable=True) : <keras.layers.merge.Add object at 0x7fc7f37d14f0>\n",
      "27 (trainable=True) : <keras_layer_normalization.layer_normalization.LayerNormalization object at 0x7fc7f37d1550>\n",
      "28 (trainable=True) : <keras_position_wise_feed_forward.feed_forward.FeedForward object at 0x7fc7f37d13a0>\n",
      "29 (trainable=True) : <keras.layers.core.dropout.Dropout object at 0x7fc7f37d93d0>\n",
      "30 (trainable=True) : <keras.layers.merge.Add object at 0x7fc7f37d9610>\n",
      "31 (trainable=True) : <keras_layer_normalization.layer_normalization.LayerNormalization object at 0x7fc7f37d9520>\n",
      "32 (trainable=True) : <keras_multi_head.multi_head_attention.MultiHeadAttention object at 0x7fc7f37d9a00>\n",
      "33 (trainable=True) : <keras.layers.core.dropout.Dropout object at 0x7fc7f37d9d60>\n",
      "34 (trainable=True) : <keras.layers.merge.Add object at 0x7fc7f37d9fa0>\n",
      "35 (trainable=True) : <keras_layer_normalization.layer_normalization.LayerNormalization object at 0x7fc7f37d9eb0>\n",
      "36 (trainable=True) : <keras_position_wise_feed_forward.feed_forward.FeedForward object at 0x7fc7f37c1f10>\n",
      "37 (trainable=True) : <keras.layers.core.dropout.Dropout object at 0x7fc7f37c1100>\n",
      "38 (trainable=True) : <keras.layers.merge.Add object at 0x7fc7f37c1970>\n",
      "39 (trainable=True) : <keras_layer_normalization.layer_normalization.LayerNormalization object at 0x7fc7f37c1a00>\n",
      "40 (trainable=True) : <keras_multi_head.multi_head_attention.MultiHeadAttention object at 0x7fc7f37c14c0>\n",
      "41 (trainable=True) : <keras.layers.core.dropout.Dropout object at 0x7fc7f1799100>\n",
      "42 (trainable=True) : <keras.layers.merge.Add object at 0x7fc7f1799340>\n",
      "43 (trainable=True) : <keras_layer_normalization.layer_normalization.LayerNormalization object at 0x7fc7f1799250>\n",
      "44 (trainable=True) : <keras_position_wise_feed_forward.feed_forward.FeedForward object at 0x7fc7f1799730>\n",
      "45 (trainable=True) : <keras.layers.core.dropout.Dropout object at 0x7fc7f1799a90>\n",
      "46 (trainable=True) : <keras.layers.merge.Add object at 0x7fc7f1799cd0>\n",
      "47 (trainable=True) : <keras_layer_normalization.layer_normalization.LayerNormalization object at 0x7fc7f1799be0>\n",
      "48 (trainable=True) : <keras_multi_head.multi_head_attention.MultiHeadAttention object at 0x7fc7f1799dc0>\n",
      "49 (trainable=True) : <keras.layers.core.dropout.Dropout object at 0x7fc7f1794460>\n",
      "50 (trainable=True) : <keras.layers.merge.Add object at 0x7fc7f17946a0>\n",
      "51 (trainable=True) : <keras_layer_normalization.layer_normalization.LayerNormalization object at 0x7fc7f17945b0>\n",
      "52 (trainable=True) : <keras_position_wise_feed_forward.feed_forward.FeedForward object at 0x7fc7f1794a90>\n",
      "53 (trainable=True) : <keras.layers.core.dropout.Dropout object at 0x7fc7f1794df0>\n",
      "54 (trainable=True) : <keras.layers.merge.Add object at 0x7fc7f1794f40>\n",
      "55 (trainable=True) : <keras_layer_normalization.layer_normalization.LayerNormalization object at 0x7fc7f17a2040>\n",
      "56 (trainable=True) : <keras_multi_head.multi_head_attention.MultiHeadAttention object at 0x7fc7f17a2460>\n",
      "57 (trainable=True) : <keras.layers.core.dropout.Dropout object at 0x7fc7f17a27c0>\n",
      "58 (trainable=True) : <keras.layers.merge.Add object at 0x7fc7f17a2a00>\n",
      "59 (trainable=True) : <keras_layer_normalization.layer_normalization.LayerNormalization object at 0x7fc7f17a2910>\n",
      "60 (trainable=True) : <keras_position_wise_feed_forward.feed_forward.FeedForward object at 0x7fc7f17a2df0>\n",
      "61 (trainable=True) : <keras.layers.core.dropout.Dropout object at 0x7fc7f17a8190>\n",
      "62 (trainable=True) : <keras.layers.merge.Add object at 0x7fc7f17a83d0>\n",
      "63 (trainable=True) : <keras_layer_normalization.layer_normalization.LayerNormalization object at 0x7fc7f17a82e0>\n",
      "64 (trainable=True) : <keras_multi_head.multi_head_attention.MultiHeadAttention object at 0x7fc7f17a87c0>\n",
      "65 (trainable=True) : <keras.layers.core.dropout.Dropout object at 0x7fc7f17a8b20>\n",
      "66 (trainable=True) : <keras.layers.merge.Add object at 0x7fc7f17a8d60>\n",
      "67 (trainable=True) : <keras_layer_normalization.layer_normalization.LayerNormalization object at 0x7fc7f17a8c70>\n",
      "68 (trainable=True) : <keras_position_wise_feed_forward.feed_forward.FeedForward object at 0x7fc7f17a8e50>\n",
      "69 (trainable=True) : <keras.layers.core.dropout.Dropout object at 0x7fc7f17ad4f0>\n",
      "70 (trainable=True) : <keras.layers.merge.Add object at 0x7fc7f17ad730>\n",
      "71 (trainable=True) : <keras_layer_normalization.layer_normalization.LayerNormalization object at 0x7fc7f17ad640>\n",
      "72 (trainable=True) : <keras_multi_head.multi_head_attention.MultiHeadAttention object at 0x7fc7f17adb20>\n",
      "73 (trainable=True) : <keras.layers.core.dropout.Dropout object at 0x7fc7f17ade80>\n",
      "74 (trainable=True) : <keras.layers.merge.Add object at 0x7fc7f17ade50>\n",
      "75 (trainable=True) : <keras_layer_normalization.layer_normalization.LayerNormalization object at 0x7fc7f17b2040>\n",
      "76 (trainable=True) : <keras_position_wise_feed_forward.feed_forward.FeedForward object at 0x7fc7f17b24f0>\n",
      "77 (trainable=True) : <keras.layers.core.dropout.Dropout object at 0x7fc7f17b2850>\n",
      "78 (trainable=True) : <keras.layers.merge.Add object at 0x7fc7f17b2a90>\n",
      "79 (trainable=True) : <keras_layer_normalization.layer_normalization.LayerNormalization object at 0x7fc7f17b29a0>\n",
      "80 (trainable=True) : <keras_multi_head.multi_head_attention.MultiHeadAttention object at 0x7fc7f17b2e80>\n",
      "81 (trainable=True) : <keras.layers.core.dropout.Dropout object at 0x7fc7f17b9220>\n",
      "82 (trainable=True) : <keras.layers.merge.Add object at 0x7fc7f17b9460>\n",
      "83 (trainable=True) : <keras_layer_normalization.layer_normalization.LayerNormalization object at 0x7fc7f17b9370>\n",
      "84 (trainable=True) : <keras_position_wise_feed_forward.feed_forward.FeedForward object at 0x7fc7f17b9850>\n",
      "85 (trainable=True) : <keras.layers.core.dropout.Dropout object at 0x7fc7f17b9bb0>\n",
      "86 (trainable=True) : <keras.layers.merge.Add object at 0x7fc7f17b9df0>\n",
      "87 (trainable=True) : <keras_layer_normalization.layer_normalization.LayerNormalization object at 0x7fc7f17b9d00>\n",
      "88 (trainable=True) : <keras_multi_head.multi_head_attention.MultiHeadAttention object at 0x7fc7f17b9ee0>\n",
      "89 (trainable=True) : <keras.layers.core.dropout.Dropout object at 0x7fc7f173f580>\n",
      "90 (trainable=True) : <keras.layers.merge.Add object at 0x7fc7f173f7c0>\n",
      "91 (trainable=True) : <keras_layer_normalization.layer_normalization.LayerNormalization object at 0x7fc7f173f6d0>\n",
      "92 (trainable=True) : <keras_position_wise_feed_forward.feed_forward.FeedForward object at 0x7fc7f173fbb0>\n",
      "93 (trainable=True) : <keras.layers.core.dropout.Dropout object at 0x7fc7f173ff10>\n",
      "94 (trainable=True) : <keras.layers.merge.Add object at 0x7fc7f173fee0>\n",
      "95 (trainable=True) : <keras_layer_normalization.layer_normalization.LayerNormalization object at 0x7fc7f17450a0>\n",
      "96 (trainable=True) : <keras_multi_head.multi_head_attention.MultiHeadAttention object at 0x7fc7f1745580>\n",
      "97 (trainable=True) : <keras.layers.core.dropout.Dropout object at 0x7fc7f17458e0>\n",
      "98 (trainable=True) : <keras.layers.merge.Add object at 0x7fc7f1745b20>\n",
      "99 (trainable=True) : <keras_layer_normalization.layer_normalization.LayerNormalization object at 0x7fc7f1745a30>\n",
      "100 (trainable=True) : <keras_position_wise_feed_forward.feed_forward.FeedForward object at 0x7fc7f1745f10>\n",
      "101 (trainable=True) : <keras.layers.core.dropout.Dropout object at 0x7fc7f174c2b0>\n",
      "102 (trainable=True) : <keras.layers.merge.Add object at 0x7fc7f174c4f0>\n",
      "103 (trainable=True) : <keras_layer_normalization.layer_normalization.LayerNormalization object at 0x7fc7f174c400>\n",
      "104 (trainable=True) : <keras_bert.layers.extract.Extract object at 0x7fc7f174c5e0>\n",
      "105 (trainable=True) : <keras.layers.core.dense.Dense object at 0x7fc7f174c940>\n",
      "106 (trainable=True) : <keras.layers.core.dense.Dense object at 0x7fc7f174cdf0>\n"
     ]
    }
   ],
   "source": [
    "learner.print_layers()\n"
   ]
  },
  {
   "cell_type": "markdown",
   "metadata": {},
   "source": [
    "It's time for some fun! First, get a predictor instance that uses our pre-trained model"
   ]
  },
  {
   "cell_type": "code",
   "execution_count": 10,
   "metadata": {
    "scrolled": true
   },
   "outputs": [
    {
     "name": "stdout",
     "output_type": "stream",
     "text": [
      "MODEL SAVED\n"
     ]
    }
   ],
   "source": [
    "predictor = ktrain.get_predictor(learner.model, preproc)\n",
    "predictor.save('detector_model_bert')\n",
    "print('MODEL SAVED')"
   ]
  },
  {
   "cell_type": "markdown",
   "metadata": {},
   "source": [
    "Let's see if it can catch an SQLi or XSS payload"
   ]
  },
  {
   "cell_type": "code",
   "execution_count": 11,
   "metadata": {},
   "outputs": [
    {
     "ename": "ValueError",
     "evalue": "Unknown layer: TokenEmbedding. Please ensure this object is passed to the `custom_objects` argument. See https://www.tensorflow.org/guide/keras/save_and_serialize#registering_the_custom_object for details.",
     "output_type": "error",
     "traceback": [
      "\u001b[0;31m---------------------------------------------------------------------------\u001b[0m",
      "\u001b[0;31mValueError\u001b[0m                                Traceback (most recent call last)",
      "Input \u001b[0;32mIn [11]\u001b[0m, in \u001b[0;36m<cell line: 6>\u001b[0;34m()\u001b[0m\n\u001b[1;32m      3\u001b[0m \u001b[38;5;66;03m# loading preprocess and model file\u001b[39;00m\n\u001b[1;32m      4\u001b[0m features \u001b[38;5;241m=\u001b[39m pickle\u001b[38;5;241m.\u001b[39mload(\u001b[38;5;28mopen\u001b[39m(\u001b[38;5;124m'\u001b[39m\u001b[38;5;124mdetector_model_bert/tf_model.preproc\u001b[39m\u001b[38;5;124m'\u001b[39m,\n\u001b[1;32m      5\u001b[0m                             \u001b[38;5;124m'\u001b[39m\u001b[38;5;124mrb\u001b[39m\u001b[38;5;124m'\u001b[39m))\n\u001b[0;32m----> 6\u001b[0m new_model \u001b[38;5;241m=\u001b[39m \u001b[43mload_model\u001b[49m\u001b[43m(\u001b[49m\u001b[38;5;124;43m'\u001b[39;49m\u001b[38;5;124;43mdetector_model_bert/tf_model.h5\u001b[39;49m\u001b[38;5;124;43m'\u001b[39;49m\u001b[43m)\u001b[49m\n\u001b[1;32m      7\u001b[0m labels \u001b[38;5;241m=\u001b[39m [\u001b[38;5;124m'\u001b[39m\u001b[38;5;124mbenign\u001b[39m\u001b[38;5;124m'\u001b[39m, \u001b[38;5;124m'\u001b[39m\u001b[38;5;124msqli\u001b[39m\u001b[38;5;124m'\u001b[39m, \u001b[38;5;124m'\u001b[39m\u001b[38;5;124mxss\u001b[39m\u001b[38;5;124m'\u001b[39m]\n",
      "File \u001b[0;32m~/Jupyter/notebook/lib/python3.8/site-packages/keras/utils/traceback_utils.py:67\u001b[0m, in \u001b[0;36mfilter_traceback.<locals>.error_handler\u001b[0;34m(*args, **kwargs)\u001b[0m\n\u001b[1;32m     65\u001b[0m \u001b[38;5;28;01mexcept\u001b[39;00m \u001b[38;5;167;01mException\u001b[39;00m \u001b[38;5;28;01mas\u001b[39;00m e:  \u001b[38;5;66;03m# pylint: disable=broad-except\u001b[39;00m\n\u001b[1;32m     66\u001b[0m   filtered_tb \u001b[38;5;241m=\u001b[39m _process_traceback_frames(e\u001b[38;5;241m.\u001b[39m__traceback__)\n\u001b[0;32m---> 67\u001b[0m   \u001b[38;5;28;01mraise\u001b[39;00m e\u001b[38;5;241m.\u001b[39mwith_traceback(filtered_tb) \u001b[38;5;28;01mfrom\u001b[39;00m \u001b[38;5;28mNone\u001b[39m\n\u001b[1;32m     68\u001b[0m \u001b[38;5;28;01mfinally\u001b[39;00m:\n\u001b[1;32m     69\u001b[0m   \u001b[38;5;28;01mdel\u001b[39;00m filtered_tb\n",
      "File \u001b[0;32m~/Jupyter/notebook/lib/python3.8/site-packages/keras/utils/generic_utils.py:562\u001b[0m, in \u001b[0;36mclass_and_config_for_serialized_keras_object\u001b[0;34m(config, module_objects, custom_objects, printable_module_name)\u001b[0m\n\u001b[1;32m    560\u001b[0m \u001b[38;5;28mcls\u001b[39m \u001b[38;5;241m=\u001b[39m get_registered_object(class_name, custom_objects, module_objects)\n\u001b[1;32m    561\u001b[0m \u001b[38;5;28;01mif\u001b[39;00m \u001b[38;5;28mcls\u001b[39m \u001b[38;5;129;01mis\u001b[39;00m \u001b[38;5;28;01mNone\u001b[39;00m:\n\u001b[0;32m--> 562\u001b[0m   \u001b[38;5;28;01mraise\u001b[39;00m \u001b[38;5;167;01mValueError\u001b[39;00m(\n\u001b[1;32m    563\u001b[0m       \u001b[38;5;124mf\u001b[39m\u001b[38;5;124m'\u001b[39m\u001b[38;5;124mUnknown \u001b[39m\u001b[38;5;132;01m{\u001b[39;00mprintable_module_name\u001b[38;5;132;01m}\u001b[39;00m\u001b[38;5;124m: \u001b[39m\u001b[38;5;132;01m{\u001b[39;00mclass_name\u001b[38;5;132;01m}\u001b[39;00m\u001b[38;5;124m. Please ensure this \u001b[39m\u001b[38;5;124m'\u001b[39m\n\u001b[1;32m    564\u001b[0m       \u001b[38;5;124m'\u001b[39m\u001b[38;5;124mobject is passed to the `custom_objects` argument. See \u001b[39m\u001b[38;5;124m'\u001b[39m\n\u001b[1;32m    565\u001b[0m       \u001b[38;5;124m'\u001b[39m\u001b[38;5;124mhttps://www.tensorflow.org/guide/keras/save_and_serialize\u001b[39m\u001b[38;5;124m'\u001b[39m\n\u001b[1;32m    566\u001b[0m       \u001b[38;5;124m'\u001b[39m\u001b[38;5;124m#registering_the_custom_object for details.\u001b[39m\u001b[38;5;124m'\u001b[39m)\n\u001b[1;32m    568\u001b[0m cls_config \u001b[38;5;241m=\u001b[39m config[\u001b[38;5;124m'\u001b[39m\u001b[38;5;124mconfig\u001b[39m\u001b[38;5;124m'\u001b[39m]\n\u001b[1;32m    569\u001b[0m \u001b[38;5;66;03m# Check if `cls_config` is a list. If it is a list, return the class and the\u001b[39;00m\n\u001b[1;32m    570\u001b[0m \u001b[38;5;66;03m# associated class configs for recursively deserialization. This case will\u001b[39;00m\n\u001b[1;32m    571\u001b[0m \u001b[38;5;66;03m# happen on the old version of sequential model (e.g. `keras_version` ==\u001b[39;00m\n\u001b[1;32m    572\u001b[0m \u001b[38;5;66;03m# \"2.0.6\"), which is serialized in a different structure, for example\u001b[39;00m\n\u001b[1;32m    573\u001b[0m \u001b[38;5;66;03m# \"{'class_name': 'Sequential',\u001b[39;00m\n\u001b[1;32m    574\u001b[0m \u001b[38;5;66;03m#   'config': [{'class_name': 'Embedding', 'config': ...}, {}, ...]}\".\u001b[39;00m\n",
      "\u001b[0;31mValueError\u001b[0m: Unknown layer: TokenEmbedding. Please ensure this object is passed to the `custom_objects` argument. See https://www.tensorflow.org/guide/keras/save_and_serialize#registering_the_custom_object for details."
     ]
    }
   ],
   "source": [
    "import pickle\n",
    "from tensorflow.keras.models import load_model\n",
    "# loading preprocess and model file\n",
    "features = pickle.load(open('detector_model_bert/tf_model.preproc',\n",
    "                            'rb'))\n",
    "new_model = load_model('detector_model_bert/tf_model.h5')\n",
    "labels = ['benign', 'sqli', 'xss']"
   ]
  },
  {
   "cell_type": "code",
   "execution_count": null,
   "metadata": {},
   "outputs": [],
   "source": [
    "text = '<applet onkeydown=\"alert(1)\" contenteditable>test</applet>'\n",
    "preproc_text = features.preprocess([text])\n",
    "result = new_model.predict(preproc_text)\n",
    "print(result)\n",
    "label = labels[result[0].argmax(axis=0)]\n",
    "score = ('{:.2f}'.format(round(np.max(result[0]), 2)*100))\n",
    "print('LABEL :', label, 'SCORE :', score)"
   ]
  },
  {
   "cell_type": "code",
   "execution_count": null,
   "metadata": {},
   "outputs": [],
   "source": []
  }
 ],
 "metadata": {
  "accelerator": "GPU",
  "colab": {
   "name": "ml_sqli_detector.ipynb",
   "provenance": []
  },
  "kernelspec": {
   "display_name": "Python 3 (ipykernel)",
   "language": "python",
   "name": "python3"
  },
  "language_info": {
   "codemirror_mode": {
    "name": "ipython",
    "version": 3
   },
   "file_extension": ".py",
   "mimetype": "text/x-python",
   "name": "python",
   "nbconvert_exporter": "python",
   "pygments_lexer": "ipython3",
   "version": "3.8.10"
  }
 },
 "nbformat": 4,
 "nbformat_minor": 1
}

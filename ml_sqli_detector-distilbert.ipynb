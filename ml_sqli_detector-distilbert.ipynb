{
 "cells": [
  {
   "cell_type": "markdown",
   "metadata": {},
   "source": [
    "## Basic classifier that uses Bidirectional Gated Recurrent Unit (bigru) to predict if the payload is an SQL injection"
   ]
  },
  {
   "cell_type": "markdown",
   "metadata": {},
   "source": [
    "Let's import our stuff here\n"
   ]
  },
  {
   "cell_type": "code",
   "execution_count": 1,
   "metadata": {
    "id": "9o-dl8wLv3Ep"
   },
   "outputs": [
    {
     "name": "stdout",
     "output_type": "stream",
     "text": [
      "Requirement already satisfied: ktrain in /home/jupyter/.local/lib/python3.8/site-packages (0.29.3)\n",
      "Requirement already satisfied: matplotlib in /home/jupyter/.local/lib/python3.8/site-packages (3.5.1)\n",
      "Requirement already satisfied: tensorflow in /home/jupyter/.local/lib/python3.8/site-packages (2.8.0)\n",
      "Requirement already satisfied: numpy in /home/jupyter/.local/lib/python3.8/site-packages (1.22.3)\n",
      "Requirement already satisfied: requests in /usr/lib/python3/dist-packages (from ktrain) (2.22.0)\n",
      "Requirement already satisfied: fastprogress>=0.1.21 in /home/jupyter/.local/lib/python3.8/site-packages (from ktrain) (1.0.2)\n",
      "Requirement already satisfied: pandas>=1.0.1 in /home/jupyter/.local/lib/python3.8/site-packages (from ktrain) (1.4.1)\n",
      "Requirement already satisfied: seqeval==0.0.19 in /home/jupyter/.local/lib/python3.8/site-packages (from ktrain) (0.0.19)\n",
      "Requirement already satisfied: cchardet in /home/jupyter/.local/lib/python3.8/site-packages (from ktrain) (2.1.7)\n",
      "Requirement already satisfied: transformers==4.10.3 in /home/jupyter/.local/lib/python3.8/site-packages (from ktrain) (4.10.3)\n",
      "Requirement already satisfied: sentencepiece in /home/jupyter/.local/lib/python3.8/site-packages (from ktrain) (0.1.96)\n",
      "Requirement already satisfied: whoosh in /home/jupyter/.local/lib/python3.8/site-packages (from ktrain) (2.7.4)\n",
      "Requirement already satisfied: joblib in /home/jupyter/.local/lib/python3.8/site-packages (from ktrain) (1.1.0)\n",
      "Requirement already satisfied: chardet in /usr/lib/python3/dist-packages (from ktrain) (3.0.4)\n",
      "Requirement already satisfied: packaging in /home/jupyter/.local/lib/python3.8/site-packages (from ktrain) (21.3)\n",
      "Requirement already satisfied: syntok==1.3.3 in /home/jupyter/.local/lib/python3.8/site-packages (from ktrain) (1.3.3)\n",
      "Requirement already satisfied: scikit-learn==0.24.2 in /home/jupyter/.local/lib/python3.8/site-packages (from ktrain) (0.24.2)\n",
      "Requirement already satisfied: jieba in /home/jupyter/.local/lib/python3.8/site-packages (from ktrain) (0.42.1)\n",
      "Requirement already satisfied: langdetect in /home/jupyter/.local/lib/python3.8/site-packages (from ktrain) (1.0.9)\n",
      "Requirement already satisfied: keras-bert>=0.86.0 in /home/jupyter/.local/lib/python3.8/site-packages (from ktrain) (0.89.0)\n",
      "Requirement already satisfied: python-dateutil>=2.7 in /home/jupyter/.local/lib/python3.8/site-packages (from matplotlib) (2.8.2)\n",
      "Requirement already satisfied: pyparsing>=2.2.1 in /home/jupyter/.local/lib/python3.8/site-packages (from matplotlib) (3.0.7)\n",
      "Requirement already satisfied: cycler>=0.10 in /home/jupyter/.local/lib/python3.8/site-packages (from matplotlib) (0.11.0)\n",
      "Requirement already satisfied: kiwisolver>=1.0.1 in /home/jupyter/.local/lib/python3.8/site-packages (from matplotlib) (1.4.0)\n",
      "Requirement already satisfied: pillow>=6.2.0 in /home/jupyter/.local/lib/python3.8/site-packages (from matplotlib) (9.0.1)\n",
      "Requirement already satisfied: fonttools>=4.22.0 in /home/jupyter/.local/lib/python3.8/site-packages (from matplotlib) (4.31.2)\n",
      "Requirement already satisfied: tensorflow-io-gcs-filesystem>=0.23.1 in /home/jupyter/.local/lib/python3.8/site-packages (from tensorflow) (0.24.0)\n",
      "Requirement already satisfied: typing-extensions>=3.6.6 in /home/jupyter/.local/lib/python3.8/site-packages (from tensorflow) (4.1.1)\n",
      "Requirement already satisfied: tensorboard<2.9,>=2.8 in /home/jupyter/.local/lib/python3.8/site-packages (from tensorflow) (2.8.0)\n",
      "Requirement already satisfied: setuptools in /usr/lib/python3/dist-packages (from tensorflow) (45.2.0)\n",
      "Requirement already satisfied: keras<2.9,>=2.8.0rc0 in /home/jupyter/.local/lib/python3.8/site-packages (from tensorflow) (2.8.0)\n",
      "Requirement already satisfied: opt-einsum>=2.3.2 in /home/jupyter/.local/lib/python3.8/site-packages (from tensorflow) (3.3.0)\n",
      "Requirement already satisfied: flatbuffers>=1.12 in /home/jupyter/.local/lib/python3.8/site-packages (from tensorflow) (2.0)\n",
      "Requirement already satisfied: grpcio<2.0,>=1.24.3 in /home/jupyter/.local/lib/python3.8/site-packages (from tensorflow) (1.44.0)\n",
      "Requirement already satisfied: protobuf>=3.9.2 in /home/jupyter/.local/lib/python3.8/site-packages (from tensorflow) (3.19.4)\n",
      "Requirement already satisfied: google-pasta>=0.1.1 in /home/jupyter/.local/lib/python3.8/site-packages (from tensorflow) (0.2.0)\n",
      "Requirement already satisfied: gast>=0.2.1 in /home/jupyter/.local/lib/python3.8/site-packages (from tensorflow) (0.5.3)\n",
      "Requirement already satisfied: astunparse>=1.6.0 in /home/jupyter/.local/lib/python3.8/site-packages (from tensorflow) (1.6.3)\n",
      "Requirement already satisfied: keras-preprocessing>=1.1.1 in /home/jupyter/.local/lib/python3.8/site-packages (from tensorflow) (1.1.2)\n",
      "Requirement already satisfied: libclang>=9.0.1 in /home/jupyter/.local/lib/python3.8/site-packages (from tensorflow) (13.0.0)\n",
      "Requirement already satisfied: h5py>=2.9.0 in /home/jupyter/.local/lib/python3.8/site-packages (from tensorflow) (3.6.0)\n",
      "Requirement already satisfied: wrapt>=1.11.0 in /home/jupyter/.local/lib/python3.8/site-packages (from tensorflow) (1.14.0)\n",
      "Requirement already satisfied: absl-py>=0.4.0 in /home/jupyter/.local/lib/python3.8/site-packages (from tensorflow) (1.0.0)\n",
      "Requirement already satisfied: termcolor>=1.1.0 in /home/jupyter/.local/lib/python3.8/site-packages (from tensorflow) (1.1.0)\n",
      "Requirement already satisfied: tf-estimator-nightly==2.8.0.dev2021122109 in /home/jupyter/.local/lib/python3.8/site-packages (from tensorflow) (2.8.0.dev2021122109)\n",
      "Requirement already satisfied: six>=1.12.0 in /usr/lib/python3/dist-packages (from tensorflow) (1.14.0)\n",
      "Requirement already satisfied: pytz>=2020.1 in /home/jupyter/.local/lib/python3.8/site-packages (from pandas>=1.0.1->ktrain) (2022.1)\n",
      "Requirement already satisfied: tokenizers<0.11,>=0.10.1 in /home/jupyter/.local/lib/python3.8/site-packages (from transformers==4.10.3->ktrain) (0.10.3)\n",
      "Requirement already satisfied: huggingface-hub>=0.0.12 in /home/jupyter/.local/lib/python3.8/site-packages (from transformers==4.10.3->ktrain) (0.4.0)\n",
      "Requirement already satisfied: tqdm>=4.27 in /home/jupyter/.local/lib/python3.8/site-packages (from transformers==4.10.3->ktrain) (4.63.1)\n",
      "Requirement already satisfied: filelock in /usr/local/lib/python3.8/dist-packages (from transformers==4.10.3->ktrain) (3.6.0)\n",
      "Requirement already satisfied: pyyaml>=5.1 in /usr/lib/python3/dist-packages (from transformers==4.10.3->ktrain) (5.3.1)\n",
      "Requirement already satisfied: regex!=2019.12.17 in /home/jupyter/.local/lib/python3.8/site-packages (from transformers==4.10.3->ktrain) (2022.3.15)\n",
      "Requirement already satisfied: sacremoses in /home/jupyter/.local/lib/python3.8/site-packages (from transformers==4.10.3->ktrain) (0.0.49)\n",
      "Requirement already satisfied: threadpoolctl>=2.0.0 in /home/jupyter/.local/lib/python3.8/site-packages (from scikit-learn==0.24.2->ktrain) (3.1.0)\n",
      "Requirement already satisfied: scipy>=0.19.1 in /home/jupyter/.local/lib/python3.8/site-packages (from scikit-learn==0.24.2->ktrain) (1.8.0)\n",
      "Requirement already satisfied: keras-transformer==0.40.0 in /home/jupyter/.local/lib/python3.8/site-packages (from keras-bert>=0.86.0->ktrain) (0.40.0)\n",
      "Requirement already satisfied: wheel>=0.26 in /usr/lib/python3/dist-packages (from tensorboard<2.9,>=2.8->tensorflow) (0.34.2)\n",
      "Requirement already satisfied: tensorboard-plugin-wit>=1.6.0 in /home/jupyter/.local/lib/python3.8/site-packages (from tensorboard<2.9,>=2.8->tensorflow) (1.8.1)\n",
      "Requirement already satisfied: werkzeug>=0.11.15 in /home/jupyter/.local/lib/python3.8/site-packages (from tensorboard<2.9,>=2.8->tensorflow) (2.1.0)\n",
      "Requirement already satisfied: google-auth<3,>=1.6.3 in /home/jupyter/.local/lib/python3.8/site-packages (from tensorboard<2.9,>=2.8->tensorflow) (2.6.2)\n",
      "Requirement already satisfied: markdown>=2.6.8 in /home/jupyter/.local/lib/python3.8/site-packages (from tensorboard<2.9,>=2.8->tensorflow) (3.3.6)\n",
      "Requirement already satisfied: google-auth-oauthlib<0.5,>=0.4.1 in /home/jupyter/.local/lib/python3.8/site-packages (from tensorboard<2.9,>=2.8->tensorflow) (0.4.6)\n",
      "Requirement already satisfied: tensorboard-data-server<0.7.0,>=0.6.0 in /home/jupyter/.local/lib/python3.8/site-packages (from tensorboard<2.9,>=2.8->tensorflow) (0.6.1)\n",
      "Requirement already satisfied: click in /home/jupyter/.local/lib/python3.8/site-packages (from sacremoses->transformers==4.10.3->ktrain) (8.1.0)\n",
      "Requirement already satisfied: keras-position-wise-feed-forward==0.8.0 in /home/jupyter/.local/lib/python3.8/site-packages (from keras-transformer==0.40.0->keras-bert>=0.86.0->ktrain) (0.8.0)\n",
      "Requirement already satisfied: keras-layer-normalization==0.16.0 in /home/jupyter/.local/lib/python3.8/site-packages (from keras-transformer==0.40.0->keras-bert>=0.86.0->ktrain) (0.16.0)\n",
      "Requirement already satisfied: keras-pos-embd==0.13.0 in /home/jupyter/.local/lib/python3.8/site-packages (from keras-transformer==0.40.0->keras-bert>=0.86.0->ktrain) (0.13.0)\n",
      "Requirement already satisfied: keras-embed-sim==0.10.0 in /home/jupyter/.local/lib/python3.8/site-packages (from keras-transformer==0.40.0->keras-bert>=0.86.0->ktrain) (0.10.0)\n",
      "Requirement already satisfied: keras-multi-head==0.29.0 in /home/jupyter/.local/lib/python3.8/site-packages (from keras-transformer==0.40.0->keras-bert>=0.86.0->ktrain) (0.29.0)\n",
      "Requirement already satisfied: cachetools<6.0,>=2.0.0 in /home/jupyter/.local/lib/python3.8/site-packages (from google-auth<3,>=1.6.3->tensorboard<2.9,>=2.8->tensorflow) (5.0.0)\n",
      "Requirement already satisfied: pyasn1-modules>=0.2.1 in /usr/lib/python3/dist-packages (from google-auth<3,>=1.6.3->tensorboard<2.9,>=2.8->tensorflow) (0.2.1)\n",
      "Requirement already satisfied: rsa<5,>=3.1.4; python_version >= \"3.6\" in /home/jupyter/.local/lib/python3.8/site-packages (from google-auth<3,>=1.6.3->tensorboard<2.9,>=2.8->tensorflow) (4.8)\n",
      "Requirement already satisfied: importlib-metadata>=4.4; python_version < \"3.10\" in /home/jupyter/.local/lib/python3.8/site-packages (from markdown>=2.6.8->tensorboard<2.9,>=2.8->tensorflow) (4.11.3)\n",
      "Requirement already satisfied: requests-oauthlib>=0.7.0 in /home/jupyter/.local/lib/python3.8/site-packages (from google-auth-oauthlib<0.5,>=0.4.1->tensorboard<2.9,>=2.8->tensorflow) (1.3.1)\n",
      "Requirement already satisfied: keras-self-attention==0.51.0 in /home/jupyter/.local/lib/python3.8/site-packages (from keras-multi-head==0.29.0->keras-transformer==0.40.0->keras-bert>=0.86.0->ktrain) (0.51.0)\n",
      "Requirement already satisfied: pyasn1>=0.1.3 in /usr/lib/python3/dist-packages (from rsa<5,>=3.1.4; python_version >= \"3.6\"->google-auth<3,>=1.6.3->tensorboard<2.9,>=2.8->tensorflow) (0.4.2)\n",
      "Requirement already satisfied: zipp>=0.5 in /usr/lib/python3/dist-packages (from importlib-metadata>=4.4; python_version < \"3.10\"->markdown>=2.6.8->tensorboard<2.9,>=2.8->tensorflow) (1.0.0)\n"
     ]
    },
    {
     "name": "stdout",
     "output_type": "stream",
     "text": [
      "Requirement already satisfied: oauthlib>=3.0.0 in /usr/lib/python3/dist-packages (from requests-oauthlib>=0.7.0->google-auth-oauthlib<0.5,>=0.4.1->tensorboard<2.9,>=2.8->tensorflow) (3.1.0)\r\n"
     ]
    }
   ],
   "source": [
    "!pip3 install scikit-learn>=1.0.0\n",
    "!pip3 install ktrain matplotlib tensorflow numpy\n",
    "import matplotlib\n",
    "import os\n",
    "import numpy as np\n",
    "%reload_ext autoreload\n",
    "%autoreload 2\n",
    "%matplotlib inline\n",
    "os.environ[\"CUDA_DEVICE_ORDER\"]=\"PCI_BUS_ID\";\n",
    "os.environ[\"CUDA_VISIBLE_DEVICES\"]=\"0\"; "
   ]
  },
  {
   "cell_type": "markdown",
   "metadata": {},
   "source": [
    "Some more imports...We are using ktrain wrapper to simplify model operations and take advantage of some cool stuff like autofit"
   ]
  },
  {
   "cell_type": "code",
   "execution_count": 2,
   "metadata": {
    "id": "evreWp_bv3Es"
   },
   "outputs": [],
   "source": [
    "import ktrain\n",
    "from ktrain import text"
   ]
  },
  {
   "cell_type": "markdown",
   "metadata": {
    "id": "Shmkj8niv3Ev"
   },
   "source": [
    "Here, we will classify payload to \"malicious sqli\" and \"benign\" . Data set is presented as a CSV file (i.e., download the file ```SQLiV3a_.csv```).  We will load the data using the ```texts_from_csv``` method, which assumes the label_columns are already one-hot-encoded in the spreadsheet. Since *val_filepath* is None, 10% of the data will automatically be used as a validation set.\n"
   ]
  },
  {
   "cell_type": "code",
   "execution_count": 7,
   "metadata": {
    "colab": {
     "base_uri": "https://localhost:8080/"
    },
    "id": "j6-wA79wv3Ew",
    "outputId": "7f7ba49d-d58f-4cf3-f363-806f37d2bd99"
   },
   "outputs": [
    {
     "name": "stdout",
     "output_type": "stream",
     "text": [
      "detected encoding: UTF-8-SIG (if wrong, set manually)\n",
      "['benign', 'sqli', 'xss']\n",
      "       benign  sqli  xss\n",
      "12648     0.0   0.0  1.0\n",
      "16020     0.0   1.0  0.0\n",
      "14329     1.0   0.0  0.0\n",
      "12707     0.0   1.0  0.0\n",
      "9413      1.0   0.0  0.0\n",
      "['benign', 'sqli', 'xss']\n",
      "       benign  sqli  xss\n",
      "8672      0.0   1.0  0.0\n",
      "507       0.0   1.0  0.0\n",
      "5412      0.0   1.0  0.0\n",
      "19730     1.0   0.0  0.0\n",
      "8444      0.0   1.0  0.0\n",
      "preprocessing train...\n",
      "language: en\n",
      "train sequence lengths:\n",
      "\tmean : 9\n",
      "\t95percentile : 40\n",
      "\t99percentile : 80\n"
     ]
    },
    {
     "data": {
      "text/html": [
       "\n",
       "<style>\n",
       "    /* Turns off some styling */\n",
       "    progress {\n",
       "        /* gets rid of default border in Firefox and Opera. */\n",
       "        border: none;\n",
       "        /* Needs to be in here for Safari polyfill so background images work as expected. */\n",
       "        background-size: auto;\n",
       "    }\n",
       "    .progress-bar-interrupted, .progress-bar-interrupted::-webkit-progress-bar {\n",
       "        background: #F44336;\n",
       "    }\n",
       "</style>\n"
      ],
      "text/plain": [
       "<IPython.core.display.HTML object>"
      ]
     },
     "metadata": {},
     "output_type": "display_data"
    },
    {
     "data": {
      "text/html": [],
      "text/plain": [
       "<IPython.core.display.HTML object>"
      ]
     },
     "metadata": {},
     "output_type": "display_data"
    },
    {
     "name": "stdout",
     "output_type": "stream",
     "text": [
      "Is Multi-Label? False\n",
      "preprocessing test...\n",
      "language: en\n",
      "test sequence lengths:\n",
      "\tmean : 10\n",
      "\t95percentile : 41\n",
      "\t99percentile : 78\n"
     ]
    },
    {
     "data": {
      "text/html": [
       "\n",
       "<style>\n",
       "    /* Turns off some styling */\n",
       "    progress {\n",
       "        /* gets rid of default border in Firefox and Opera. */\n",
       "        border: none;\n",
       "        /* Needs to be in here for Safari polyfill so background images work as expected. */\n",
       "        background-size: auto;\n",
       "    }\n",
       "    .progress-bar-interrupted, .progress-bar-interrupted::-webkit-progress-bar {\n",
       "        background: #F44336;\n",
       "    }\n",
       "</style>\n"
      ],
      "text/plain": [
       "<IPython.core.display.HTML object>"
      ]
     },
     "metadata": {},
     "output_type": "display_data"
    },
    {
     "data": {
      "text/html": [],
      "text/plain": [
       "<IPython.core.display.HTML object>"
      ]
     },
     "metadata": {},
     "output_type": "display_data"
    }
   ],
   "source": [
    "DATA_PATH = 'trainlist_22k.csv'\n",
    "NUM_WORDS = 50000\n",
    "MAXLEN = 100\n",
    "trn, val, preproc = text.texts_from_csv(DATA_PATH,\n",
    "                      'payload',\n",
    "                      label_columns = [\"type\"],\n",
    "                      val_filepath=None, # if None, 10% of data will be used for validation\n",
    "                      max_features=NUM_WORDS, maxlen=MAXLEN,\n",
    "                      ngram_range=1,\n",
    "                      preprocess_mode='distilbert')"
   ]
  },
  {
   "cell_type": "markdown",
   "metadata": {},
   "source": [
    "Load the learner instance that uses ```bigru``` model "
   ]
  },
  {
   "cell_type": "code",
   "execution_count": 8,
   "metadata": {
    "colab": {
     "base_uri": "https://localhost:8080/",
     "height": 136
    },
    "id": "UpbaZ68Dv3Ew",
    "outputId": "68874f80-6a80-4960-a152-1b594f4ee856"
   },
   "outputs": [
    {
     "name": "stdout",
     "output_type": "stream",
     "text": [
      "Is Multi-Label? False\n",
      "maxlen is 100\n"
     ]
    },
    {
     "data": {
      "application/vnd.jupyter.widget-view+json": {
       "model_id": "5ba975843d4a4cafb75fb3a0692bdaac",
       "version_major": 2,
       "version_minor": 0
      },
      "text/plain": [
       "Downloading:   0%|          | 0.00/363M [00:00<?, ?B/s]"
      ]
     },
     "metadata": {},
     "output_type": "display_data"
    },
    {
     "name": "stdout",
     "output_type": "stream",
     "text": [
      "done.\n"
     ]
    }
   ],
   "source": [
    "model = text.text_classifier('distilbert', (trn), \n",
    "                             preproc=preproc)\n",
    "learner = ktrain.get_learner(model, train_data=(trn), val_data=(val))"
   ]
  },
  {
   "cell_type": "markdown",
   "metadata": {},
   "source": [
    "Now let's find the optimal learning rate for this model"
   ]
  },
  {
   "cell_type": "code",
   "execution_count": null,
   "metadata": {},
   "outputs": [],
   "source": [
    "text.print_text_classifiers()"
   ]
  },
  {
   "cell_type": "code",
   "execution_count": 10,
   "metadata": {
    "colab": {
     "base_uri": "https://localhost:8080/",
     "height": 592
    },
    "id": "u-kza8Env3Ex",
    "outputId": "146052d1-5d60-4708-b878-1660db206379"
   },
   "outputs": [
    {
     "name": "stdout",
     "output_type": "stream",
     "text": [
      "simulating training for different learning rates... this may take a few moments...\n",
      "Epoch 1/2\n",
      "631/631 [==============================] - 1526s 2s/step - loss: 0.4781 - accuracy: 0.7985\n",
      "Epoch 2/2\n",
      "631/631 [==============================] - 930s 1s/step - loss: 52.9197 - accuracy: 0.3729\n",
      "\n",
      "\n",
      "done.\n",
      "Visually inspect loss plot and select learning rate associated with falling loss\n"
     ]
    },
    {
     "data": {
      "image/png": "[encoded data removed]",
      "text/plain": [
       "<Figure size 432x288 with 1 Axes>"
      ]
     },
     "metadata": {
      "needs_background": "light"
     },
     "output_type": "display_data"
    }
   ],
   "source": [
    "learner.lr_find(show_plot=True, max_epochs=2)"
   ]
  },
  {
   "cell_type": "markdown",
   "metadata": {},
   "source": [
    "Train the model using the optimal learning rate ( adjust argument as needed accorfing to the graph)"
   ]
  },
  {
   "cell_type": "code",
   "execution_count": null,
   "metadata": {
    "id": "7ATgiIbyE7XJ"
   },
   "outputs": [],
   "source": [
    "learner.freeze(104)"
   ]
  },
  {
   "cell_type": "code",
   "execution_count": null,
   "metadata": {
    "colab": {
     "base_uri": "https://localhost:8080/"
    },
    "id": "MmjJwfrQv3Ex",
    "outputId": "17265489-ad02-4108-cb8d-549c06ff93f6",
    "scrolled": false
   },
   "outputs": [
    {
     "name": "stdout",
     "output_type": "stream",
     "text": [
      "early_stopping automatically enabled at patience=5\n",
      "reduce_on_plateau automatically enabled at patience=2\n",
      "\n",
      "\n",
      "begin training using triangular learning rate policy with max lr of 0.001...\n",
      "Epoch 1/1024\n",
      "632/632 [==============================] - 1572s 2s/step - loss: 0.9022 - accuracy: 0.5022 - val_loss: 1.0861 - val_accuracy: 0.3791\n",
      "Epoch 2/1024\n",
      "632/632 [==============================] - 1555s 2s/step - loss: 1.0774 - accuracy: 0.3749 - val_loss: 1.0789 - val_accuracy: 0.3719\n",
      "Epoch 3/1024\n",
      " 24/632 [>.............................] - ETA: 23:57 - loss: 1.0688 - accuracy: 0.3945"
     ]
    }
   ],
   "source": [
    "learner.autofit(0.001)"
   ]
  },
  {
   "cell_type": "markdown",
   "metadata": {},
   "source": [
    "Now let's evaluate the the ```validation data set```"
   ]
  },
  {
   "cell_type": "code",
   "execution_count": null,
   "metadata": {
    "id": "CL-bN9wkv3Ex"
   },
   "outputs": [],
   "source": [
    "learner.evaluate()"
   ]
  },
  {
   "cell_type": "markdown",
   "metadata": {},
   "source": [
    "Here is what our model looks like. It has a number of layers that comprise this ```GRU```"
   ]
  },
  {
   "cell_type": "code",
   "execution_count": 9,
   "metadata": {
    "colab": {
     "base_uri": "https://localhost:8080/"
    },
    "id": "Fh1_l7ioIpS6",
    "outputId": "c35e8957-540f-42a7-fd07-d9d417915873"
   },
   "outputs": [
    {
     "name": "stdout",
     "output_type": "stream",
     "text": [
      "0 (trainable=True) : <transformers.models.distilbert.modeling_tf_distilbert.TFDistilBertMainLayer object at 0x7f8a6d6ee9d0>\n",
      "1 (trainable=True) : <keras.layers.core.dense.Dense object at 0x7f8a6c10ebb0>\n",
      "2 (trainable=True) : <keras.layers.core.dense.Dense object at 0x7f8a6c10eeb0>\n",
      "3 (trainable=True) : <keras.layers.core.dropout.Dropout object at 0x7f8a6d4c01c0>\n"
     ]
    }
   ],
   "source": [
    "learner.print_layers()\n"
   ]
  },
  {
   "cell_type": "markdown",
   "metadata": {},
   "source": [
    "It's time for some fun! First, get a predictor instance that uses our pre-trained model"
   ]
  },
  {
   "cell_type": "code",
   "execution_count": null,
   "metadata": {
    "scrolled": true
   },
   "outputs": [],
   "source": [
    "predictor = ktrain.get_predictor(learner.model, preproc)\n",
    "predictor.save('detector_model_bert')\n",
    "print('MODEL SAVED')"
   ]
  },
  {
   "cell_type": "markdown",
   "metadata": {},
   "source": [
    "Let's see if it can catch an SQLi or XSS payload"
   ]
  },
  {
   "cell_type": "code",
   "execution_count": null,
   "metadata": {},
   "outputs": [],
   "source": [
    "import pickle\n",
    "from tensorflow.keras.models import load_model\n",
    "# loading preprocess and model file\n",
    "features = pickle.load(open('detector_model_bert/tf_model.preproc',\n",
    "                            'rb'))\n",
    "new_model = load_model('detector_model_bert/tf_model.h5')\n",
    "labels = ['benign', 'sqli', 'xss']"
   ]
  },
  {
   "cell_type": "code",
   "execution_count": null,
   "metadata": {},
   "outputs": [],
   "source": [
    "text = '<applet onkeydown=\"alert(1)\" contenteditable>test</applet>'\n",
    "preproc_text = features.preprocess([text])\n",
    "result = new_model.predict(preproc_text)\n",
    "print(result)\n",
    "label = labels[result[0].argmax(axis=0)]\n",
    "score = ('{:.2f}'.format(round(np.max(result[0]), 2)*100))\n",
    "print('LABEL :', label, 'SCORE :', score)"
   ]
  },
  {
   "cell_type": "code",
   "execution_count": null,
   "metadata": {},
   "outputs": [],
   "source": []
  }
 ],
 "metadata": {
  "accelerator": "GPU",
  "colab": {
   "name": "ml_sqli_detector.ipynb",
   "provenance": []
  },
  "kernelspec": {
   "display_name": "Python 3 (ipykernel)",
   "language": "python",
   "name": "python3"
  },
  "language_info": {
   "codemirror_mode": {
    "name": "ipython",
    "version": 3
   },
   "file_extension": ".py",
   "mimetype": "text/x-python",
   "name": "python",
   "nbconvert_exporter": "python",
   "pygments_lexer": "ipython3",
   "version": "3.8.10"
  }
 },
 "nbformat": 4,
 "nbformat_minor": 1
}

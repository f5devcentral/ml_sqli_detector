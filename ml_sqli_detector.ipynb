{
 "cells": [
  {
   "cell_type": "markdown",
   "metadata": {},
   "source": [
    "## Basic classifier that uses Fasttext to an SQL injection and Cross-site scripting attacks"
   ]
  },
  {
   "cell_type": "markdown",
   "metadata": {},
   "source": [
    "First, let's import some required stuff here\n"
   ]
  },
  {
   "cell_type": "code",
   "execution_count": 1,
   "metadata": {
    "id": "9o-dl8wLv3Ep"
   },
   "outputs": [
    {
     "name": "stdout",
     "output_type": "stream",
     "text": [
      "Requirement already satisfied: ktrain in /home/jupyter/.local/lib/python3.8/site-packages (0.29.3)\n",
      "Requirement already satisfied: matplotlib in /home/jupyter/.local/lib/python3.8/site-packages (3.5.1)\n",
      "Requirement already satisfied: tensorflow in /home/jupyter/.local/lib/python3.8/site-packages (2.8.0)\n",
      "Requirement already satisfied: numpy in /home/jupyter/.local/lib/python3.8/site-packages (1.22.3)\n",
      "Requirement already satisfied: seqeval==0.0.19 in /home/jupyter/.local/lib/python3.8/site-packages (from ktrain) (0.0.19)\n",
      "Requirement already satisfied: joblib in /home/jupyter/.local/lib/python3.8/site-packages (from ktrain) (1.1.0)\n",
      "Requirement already satisfied: chardet in /usr/lib/python3/dist-packages (from ktrain) (3.0.4)\n",
      "Requirement already satisfied: scikit-learn==0.24.2 in /home/jupyter/.local/lib/python3.8/site-packages (from ktrain) (0.24.2)\n",
      "Requirement already satisfied: packaging in /home/jupyter/.local/lib/python3.8/site-packages (from ktrain) (21.3)\n",
      "Requirement already satisfied: keras-bert>=0.86.0 in /home/jupyter/.local/lib/python3.8/site-packages (from ktrain) (0.89.0)\n",
      "Requirement already satisfied: fastprogress>=0.1.21 in /home/jupyter/.local/lib/python3.8/site-packages (from ktrain) (1.0.2)\n",
      "Requirement already satisfied: sentencepiece in /home/jupyter/.local/lib/python3.8/site-packages (from ktrain) (0.1.96)\n",
      "Requirement already satisfied: langdetect in /home/jupyter/.local/lib/python3.8/site-packages (from ktrain) (1.0.9)\n",
      "Requirement already satisfied: cchardet in /home/jupyter/.local/lib/python3.8/site-packages (from ktrain) (2.1.7)\n",
      "Requirement already satisfied: pandas>=1.0.1 in /home/jupyter/.local/lib/python3.8/site-packages (from ktrain) (1.4.1)\n",
      "Requirement already satisfied: syntok==1.3.3 in /home/jupyter/.local/lib/python3.8/site-packages (from ktrain) (1.3.3)\n",
      "Requirement already satisfied: transformers==4.10.3 in /home/jupyter/.local/lib/python3.8/site-packages (from ktrain) (4.10.3)\n",
      "Requirement already satisfied: whoosh in /home/jupyter/.local/lib/python3.8/site-packages (from ktrain) (2.7.4)\n",
      "Requirement already satisfied: jieba in /home/jupyter/.local/lib/python3.8/site-packages (from ktrain) (0.42.1)\n",
      "Requirement already satisfied: requests in /usr/lib/python3/dist-packages (from ktrain) (2.22.0)\n",
      "Requirement already satisfied: kiwisolver>=1.0.1 in /home/jupyter/.local/lib/python3.8/site-packages (from matplotlib) (1.4.0)\n",
      "Requirement already satisfied: python-dateutil>=2.7 in /home/jupyter/.local/lib/python3.8/site-packages (from matplotlib) (2.8.2)\n",
      "Requirement already satisfied: cycler>=0.10 in /home/jupyter/.local/lib/python3.8/site-packages (from matplotlib) (0.11.0)\n",
      "Requirement already satisfied: pyparsing>=2.2.1 in /home/jupyter/.local/lib/python3.8/site-packages (from matplotlib) (3.0.7)\n",
      "Requirement already satisfied: pillow>=6.2.0 in /home/jupyter/.local/lib/python3.8/site-packages (from matplotlib) (9.0.1)\n",
      "Requirement already satisfied: fonttools>=4.22.0 in /home/jupyter/.local/lib/python3.8/site-packages (from matplotlib) (4.31.2)\n",
      "Requirement already satisfied: protobuf>=3.9.2 in /home/jupyter/.local/lib/python3.8/site-packages (from tensorflow) (3.19.4)\n",
      "Requirement already satisfied: absl-py>=0.4.0 in /home/jupyter/.local/lib/python3.8/site-packages (from tensorflow) (1.0.0)\n",
      "Requirement already satisfied: typing-extensions>=3.6.6 in /home/jupyter/.local/lib/python3.8/site-packages (from tensorflow) (4.1.1)\n",
      "Requirement already satisfied: flatbuffers>=1.12 in /home/jupyter/.local/lib/python3.8/site-packages (from tensorflow) (2.0)\n",
      "Requirement already satisfied: tensorboard<2.9,>=2.8 in /home/jupyter/.local/lib/python3.8/site-packages (from tensorflow) (2.8.0)\n",
      "Requirement already satisfied: libclang>=9.0.1 in /home/jupyter/.local/lib/python3.8/site-packages (from tensorflow) (13.0.0)\n",
      "Requirement already satisfied: termcolor>=1.1.0 in /home/jupyter/.local/lib/python3.8/site-packages (from tensorflow) (1.1.0)\n",
      "Requirement already satisfied: h5py>=2.9.0 in /home/jupyter/.local/lib/python3.8/site-packages (from tensorflow) (3.6.0)\n",
      "Requirement already satisfied: keras-preprocessing>=1.1.1 in /home/jupyter/.local/lib/python3.8/site-packages (from tensorflow) (1.1.2)\n",
      "Requirement already satisfied: grpcio<2.0,>=1.24.3 in /home/jupyter/.local/lib/python3.8/site-packages (from tensorflow) (1.44.0)\n",
      "Requirement already satisfied: keras<2.9,>=2.8.0rc0 in /home/jupyter/.local/lib/python3.8/site-packages (from tensorflow) (2.8.0)\n",
      "Requirement already satisfied: opt-einsum>=2.3.2 in /home/jupyter/.local/lib/python3.8/site-packages (from tensorflow) (3.3.0)\n",
      "Requirement already satisfied: astunparse>=1.6.0 in /home/jupyter/.local/lib/python3.8/site-packages (from tensorflow) (1.6.3)\n",
      "Requirement already satisfied: gast>=0.2.1 in /home/jupyter/.local/lib/python3.8/site-packages (from tensorflow) (0.5.3)\n",
      "Requirement already satisfied: google-pasta>=0.1.1 in /home/jupyter/.local/lib/python3.8/site-packages (from tensorflow) (0.2.0)\n",
      "Requirement already satisfied: setuptools in /usr/lib/python3/dist-packages (from tensorflow) (45.2.0)\n",
      "Requirement already satisfied: wrapt>=1.11.0 in /home/jupyter/.local/lib/python3.8/site-packages (from tensorflow) (1.14.0)\n",
      "Requirement already satisfied: six>=1.12.0 in /usr/lib/python3/dist-packages (from tensorflow) (1.14.0)\n",
      "Requirement already satisfied: tensorflow-io-gcs-filesystem>=0.23.1 in /home/jupyter/.local/lib/python3.8/site-packages (from tensorflow) (0.24.0)\n",
      "Requirement already satisfied: tf-estimator-nightly==2.8.0.dev2021122109 in /home/jupyter/.local/lib/python3.8/site-packages (from tensorflow) (2.8.0.dev2021122109)\n",
      "Requirement already satisfied: scipy>=0.19.1 in /home/jupyter/.local/lib/python3.8/site-packages (from scikit-learn==0.24.2->ktrain) (1.8.0)\n",
      "Requirement already satisfied: threadpoolctl>=2.0.0 in /home/jupyter/.local/lib/python3.8/site-packages (from scikit-learn==0.24.2->ktrain) (3.1.0)\n",
      "Requirement already satisfied: keras-transformer==0.40.0 in /home/jupyter/.local/lib/python3.8/site-packages (from keras-bert>=0.86.0->ktrain) (0.40.0)\n",
      "Requirement already satisfied: pytz>=2020.1 in /home/jupyter/.local/lib/python3.8/site-packages (from pandas>=1.0.1->ktrain) (2022.1)\n",
      "Requirement already satisfied: regex in /home/jupyter/.local/lib/python3.8/site-packages (from syntok==1.3.3->ktrain) (2022.3.15)\n",
      "Requirement already satisfied: pyyaml>=5.1 in /usr/lib/python3/dist-packages (from transformers==4.10.3->ktrain) (5.3.1)\n",
      "Requirement already satisfied: tokenizers<0.11,>=0.10.1 in /home/jupyter/.local/lib/python3.8/site-packages (from transformers==4.10.3->ktrain) (0.10.3)\n",
      "Requirement already satisfied: huggingface-hub>=0.0.12 in /home/jupyter/.local/lib/python3.8/site-packages (from transformers==4.10.3->ktrain) (0.4.0)\n",
      "Requirement already satisfied: sacremoses in /home/jupyter/.local/lib/python3.8/site-packages (from transformers==4.10.3->ktrain) (0.0.49)\n",
      "Requirement already satisfied: tqdm>=4.27 in /home/jupyter/.local/lib/python3.8/site-packages (from transformers==4.10.3->ktrain) (4.63.1)\n",
      "Requirement already satisfied: filelock in /usr/local/lib/python3.8/dist-packages (from transformers==4.10.3->ktrain) (3.6.0)\n",
      "Requirement already satisfied: wheel>=0.26 in /usr/lib/python3/dist-packages (from tensorboard<2.9,>=2.8->tensorflow) (0.34.2)\n",
      "Requirement already satisfied: markdown>=2.6.8 in /home/jupyter/.local/lib/python3.8/site-packages (from tensorboard<2.9,>=2.8->tensorflow) (3.3.6)\n",
      "Requirement already satisfied: google-auth-oauthlib<0.5,>=0.4.1 in /home/jupyter/.local/lib/python3.8/site-packages (from tensorboard<2.9,>=2.8->tensorflow) (0.4.6)\n",
      "Requirement already satisfied: werkzeug>=0.11.15 in /home/jupyter/.local/lib/python3.8/site-packages (from tensorboard<2.9,>=2.8->tensorflow) (2.1.0)\n",
      "Requirement already satisfied: google-auth<3,>=1.6.3 in /home/jupyter/.local/lib/python3.8/site-packages (from tensorboard<2.9,>=2.8->tensorflow) (2.6.2)\n",
      "Requirement already satisfied: tensorboard-plugin-wit>=1.6.0 in /home/jupyter/.local/lib/python3.8/site-packages (from tensorboard<2.9,>=2.8->tensorflow) (1.8.1)\n",
      "Requirement already satisfied: tensorboard-data-server<0.7.0,>=0.6.0 in /home/jupyter/.local/lib/python3.8/site-packages (from tensorboard<2.9,>=2.8->tensorflow) (0.6.1)\n",
      "Requirement already satisfied: keras-embed-sim==0.10.0 in /home/jupyter/.local/lib/python3.8/site-packages (from keras-transformer==0.40.0->keras-bert>=0.86.0->ktrain) (0.10.0)\n",
      "Requirement already satisfied: keras-pos-embd==0.13.0 in /home/jupyter/.local/lib/python3.8/site-packages (from keras-transformer==0.40.0->keras-bert>=0.86.0->ktrain) (0.13.0)\n",
      "Requirement already satisfied: keras-position-wise-feed-forward==0.8.0 in /home/jupyter/.local/lib/python3.8/site-packages (from keras-transformer==0.40.0->keras-bert>=0.86.0->ktrain) (0.8.0)\n",
      "Requirement already satisfied: keras-multi-head==0.29.0 in /home/jupyter/.local/lib/python3.8/site-packages (from keras-transformer==0.40.0->keras-bert>=0.86.0->ktrain) (0.29.0)\n",
      "Requirement already satisfied: keras-layer-normalization==0.16.0 in /home/jupyter/.local/lib/python3.8/site-packages (from keras-transformer==0.40.0->keras-bert>=0.86.0->ktrain) (0.16.0)\n",
      "Requirement already satisfied: click in /home/jupyter/.local/lib/python3.8/site-packages (from sacremoses->transformers==4.10.3->ktrain) (8.1.0)\n",
      "Requirement already satisfied: importlib-metadata>=4.4; python_version < \"3.10\" in /home/jupyter/.local/lib/python3.8/site-packages (from markdown>=2.6.8->tensorboard<2.9,>=2.8->tensorflow) (4.11.3)\n",
      "Requirement already satisfied: requests-oauthlib>=0.7.0 in /home/jupyter/.local/lib/python3.8/site-packages (from google-auth-oauthlib<0.5,>=0.4.1->tensorboard<2.9,>=2.8->tensorflow) (1.3.1)\n",
      "Requirement already satisfied: pyasn1-modules>=0.2.1 in /usr/lib/python3/dist-packages (from google-auth<3,>=1.6.3->tensorboard<2.9,>=2.8->tensorflow) (0.2.1)\n",
      "Requirement already satisfied: cachetools<6.0,>=2.0.0 in /home/jupyter/.local/lib/python3.8/site-packages (from google-auth<3,>=1.6.3->tensorboard<2.9,>=2.8->tensorflow) (5.0.0)\n",
      "Requirement already satisfied: rsa<5,>=3.1.4; python_version >= \"3.6\" in /home/jupyter/.local/lib/python3.8/site-packages (from google-auth<3,>=1.6.3->tensorboard<2.9,>=2.8->tensorflow) (4.8)\n",
      "Requirement already satisfied: keras-self-attention==0.51.0 in /home/jupyter/.local/lib/python3.8/site-packages (from keras-multi-head==0.29.0->keras-transformer==0.40.0->keras-bert>=0.86.0->ktrain) (0.51.0)\n",
      "Requirement already satisfied: zipp>=0.5 in /usr/lib/python3/dist-packages (from importlib-metadata>=4.4; python_version < \"3.10\"->markdown>=2.6.8->tensorboard<2.9,>=2.8->tensorflow) (1.0.0)\n",
      "Requirement already satisfied: oauthlib>=3.0.0 in /usr/lib/python3/dist-packages (from requests-oauthlib>=0.7.0->google-auth-oauthlib<0.5,>=0.4.1->tensorboard<2.9,>=2.8->tensorflow) (3.1.0)\n",
      "Requirement already satisfied: pyasn1>=0.1.3 in /usr/lib/python3/dist-packages (from rsa<5,>=3.1.4; python_version >= \"3.6\"->google-auth<3,>=1.6.3->tensorboard<2.9,>=2.8->tensorflow) (0.4.2)\n"
     ]
    }
   ],
   "source": [
    "!pip3 install scikit-learn>=1.0.0\n",
    "!pip3 install ktrain matplotlib tensorflow numpy\n",
    "import matplotlib\n",
    "import os\n",
    "import numpy as np\n",
    "%reload_ext autoreload\n",
    "%autoreload 2\n",
    "%matplotlib inline\n",
    "os.environ[\"CUDA_DEVICE_ORDER\"]=\"PCI_BUS_ID\";\n",
    "os.environ[\"CUDA_VISIBLE_DEVICES\"]=\"0\"; "
   ]
  },
  {
   "cell_type": "markdown",
   "metadata": {},
   "source": [
    "Some more imports...We are using ktrain wrapper to simplify model operations and take advantage of some cool stuff like autofit and learning adjustments"
   ]
  },
  {
   "cell_type": "code",
   "execution_count": 2,
   "metadata": {
    "id": "evreWp_bv3Es"
   },
   "outputs": [],
   "source": [
    "import ktrain\n",
    "from ktrain import text"
   ]
  },
  {
   "cell_type": "markdown",
   "metadata": {
    "id": "Shmkj8niv3Ev"
   },
   "source": [
    "Here, we will classify payload to \"sqli\", \"xss\" and \"benign\" . Data set is presented as a CSV file (i.e., download the file ```SQLiV3a_14k.csv```).  Keep in mind data was obtained from public sources and therefore isn't terribly reliable i.e. some requests may be mislabeled and false-positives are likely to be present. We will load the data using the ```texts_from_csv``` method, which assumes the label_columns are already one-hot-encoded in the spreadsheet. Since *val_filepath* is None, 10% of the data will automatically be used as a validation set.\n"
   ]
  },
  {
   "cell_type": "code",
   "execution_count": 3,
   "metadata": {
    "colab": {
     "base_uri": "https://localhost:8080/"
    },
    "id": "j6-wA79wv3Ew",
    "outputId": "7f7ba49d-d58f-4cf3-f363-806f37d2bd99"
   },
   "outputs": [
    {
     "name": "stdout",
     "output_type": "stream",
     "text": [
      "detected encoding: UTF-8-SIG (if wrong, set manually)\n",
      "['benign', 'sqli', 'xss']\n",
      "       benign  sqli  xss\n",
      "5111      0.0   1.0  0.0\n",
      "10328     1.0   0.0  0.0\n",
      "12699     1.0   0.0  0.0\n",
      "8944      0.0   0.0  1.0\n",
      "14434     1.0   0.0  0.0\n",
      "['benign', 'sqli', 'xss']\n",
      "       benign  sqli  xss\n",
      "13246     0.0   1.0  0.0\n",
      "11437     0.0   0.0  1.0\n",
      "3778      0.0   0.0  1.0\n",
      "6039      1.0   0.0  0.0\n",
      "11887     0.0   0.0  1.0\n",
      "language: en\n",
      "Word Counts: 10133\n",
      "Nrows: 12993\n",
      "12993 train sequences\n",
      "train sequence lengths:\n",
      "\tmean : 9\n",
      "\t95percentile : 28\n",
      "\t99percentile : 42\n",
      "x_train shape: (12993,200)\n",
      "y_train shape: (12993, 3)\n",
      "Is Multi-Label? False\n",
      "1444 test sequences\n",
      "test sequence lengths:\n",
      "\tmean : 8\n",
      "\t95percentile : 28\n",
      "\t99percentile : 41\n",
      "x_test shape: (1444,200)\n",
      "y_test shape: (1444, 3)\n"
     ]
    }
   ],
   "source": [
    "DATA_PATH = 'SQLiV3a_14k.csv'\n",
    "NUM_WORDS = 50000\n",
    "MAXLEN = 200\n",
    "(x_train, y_train), (x_test, y_test), preproc = text.texts_from_csv(DATA_PATH,\n",
    "                      'payload',\n",
    "                      label_columns = [\"type\"],\n",
    "                      val_filepath=None, # if None, 10% of data will be used for validation\n",
    "                      max_features=NUM_WORDS, maxlen=MAXLEN,\n",
    "                      ngram_range=1,\n",
    "                      preprocess_mode='standard')"
   ]
  },
  {
   "cell_type": "markdown",
   "metadata": {},
   "source": [
    "Load the learner instance that uses ```fasttext``` model (https://fasttext.cc) with pre-trained word vectors"
   ]
  },
  {
   "cell_type": "code",
   "execution_count": null,
   "metadata": {
    "colab": {
     "base_uri": "https://localhost:8080/",
     "height": 136
    },
    "id": "UpbaZ68Dv3Ew",
    "outputId": "68874f80-6a80-4960-a152-1b594f4ee856"
   },
   "outputs": [],
   "source": [
    "model = text.text_classifier('fasttext', (x_train, y_train), \n",
    "                             preproc=preproc)\n",
    "learner = ktrain.get_learner(model, train_data=(x_train, y_train), val_data=(x_test, y_test))"
   ]
  },
  {
   "cell_type": "markdown",
   "metadata": {},
   "source": [
    "Let's visualize the model for better understanding the layer structure and the depth of this model. We can extend it with additional layers or use as-is"
   ]
  },
  {
   "cell_type": "code",
   "execution_count": null,
   "metadata": {
    "colab": {
     "base_uri": "https://localhost:8080/"
    },
    "id": "Fh1_l7ioIpS6",
    "outputId": "c35e8957-540f-42a7-fd07-d9d417915873"
   },
   "outputs": [],
   "source": [
    "learner.print_layers()\n"
   ]
  },
  {
   "cell_type": "markdown",
   "metadata": {},
   "source": [
    "Let's add some layers to our model:"
   ]
  },
  {
   "cell_type": "code",
   "execution_count": 25,
   "metadata": {},
   "outputs": [
    {
     "name": "stdout",
     "output_type": "stream",
     "text": [
      "Is Multi-Label? False\n",
      "compiling word ID features...\n",
      "maxlen is 200\n",
      "done.\n"
     ]
    }
   ],
   "source": [
    "from tensorflow.keras.layers import Dense, GaussianDropout, GRU\n",
    "\n",
    "def get_model():\n",
    "    model = text.text_classifier('fasttext', (x_train, y_train), \n",
    "                             preproc=preproc)\n",
    "    model.add(GaussianDropout(0.2))\n",
    "    model.add(Dense(3, activation='sigmoid'))\n",
    "    model.compile(loss='binary_crossentropy', optimizer='adam', metrics=['accuracy'])\n",
    "    return model\n",
    "model = get_model()\n",
    "learner = ktrain.get_learner(model, train_data=(x_train, y_train), val_data=(x_test, y_test))"
   ]
  },
  {
   "cell_type": "markdown",
   "metadata": {},
   "source": [
    "This is our new model"
   ]
  },
  {
   "cell_type": "code",
   "execution_count": 26,
   "metadata": {},
   "outputs": [
    {
     "name": "stdout",
     "output_type": "stream",
     "text": [
      "0 (trainable=True) : <keras.layers.embeddings.Embedding object at 0x7f3d064ace80>\n",
      "1 (trainable=True) : <keras.layers.core.spatial_dropout.SpatialDropout1D object at 0x7f3cb193cdf0>\n",
      "2 (trainable=True) : <keras.layers.pooling.GlobalMaxPooling1D object at 0x7f3cb1939fd0>\n",
      "3 (trainable=True) : <keras.layers.normalization.batch_normalization.BatchNormalization object at 0x7f3cb194c550>\n",
      "4 (trainable=True) : <keras.layers.core.dense.Dense object at 0x7f3cb18712e0>\n",
      "5 (trainable=True) : <keras.layers.core.dropout.Dropout object at 0x7f3cb186d520>\n",
      "6 (trainable=True) : <keras.layers.core.dense.Dense object at 0x7f3cb1872c10>\n",
      "7 (trainable=True) : <keras.layers.noise.GaussianDropout object at 0x7f3cb187b7f0>\n",
      "8 (trainable=True) : <keras.layers.core.dense.Dense object at 0x7f3cb187b0a0>\n",
      "9 (trainable=True) : <keras.layers.core.dense.Dense object at 0x7f3cb186d460>\n"
     ]
    }
   ],
   "source": [
    "learner.print_layers()"
   ]
  },
  {
   "cell_type": "markdown",
   "metadata": {},
   "source": [
    "Now let's find the optimal learning rate for this model using ktrain's lr_find() function"
   ]
  },
  {
   "cell_type": "code",
   "execution_count": 27,
   "metadata": {
    "colab": {
     "base_uri": "https://localhost:8080/",
     "height": 592
    },
    "id": "u-kza8Env3Ex",
    "outputId": "146052d1-5d60-4708-b878-1660db206379"
   },
   "outputs": [
    {
     "name": "stdout",
     "output_type": "stream",
     "text": [
      "simulating training for different learning rates... this may take a few moments...\n",
      "Epoch 1/1024\n",
      "407/407 [==============================] - 5s 12ms/step - loss: 0.6591 - accuracy: 0.3469\n",
      "Epoch 2/1024\n",
      "407/407 [==============================] - 5s 12ms/step - loss: 0.6526 - accuracy: 0.3978\n",
      "Epoch 3/1024\n",
      "407/407 [==============================] - 5s 12ms/step - loss: 0.4641 - accuracy: 0.8089\n",
      "Epoch 4/1024\n",
      "407/407 [==============================] - 5s 12ms/step - loss: 0.5406 - accuracy: 0.5147\n",
      "Epoch 5/1024\n",
      "407/407 [==============================] - 3s 7ms/step - loss: 0.7047 - accuracy: 0.3467\n",
      "\n",
      "\n",
      "done.\n",
      "Please invoke the Learner.lr_plot() method to visually inspect the loss plot to help identify the maximal learning rate associated with falling loss.\n"
     ]
    },
    {
     "data": {
      "image/png": "[encoded data removed]",
      "text/plain": [
       "<Figure size 432x288 with 1 Axes>"
      ]
     },
     "metadata": {
      "needs_background": "light"
     },
     "output_type": "display_data"
    }
   ],
   "source": [
    "learner.lr_find()\n",
    "learner.lr_plot()"
   ]
  },
  {
   "cell_type": "markdown",
   "metadata": {},
   "source": [
    "Train the model using the optimal learning rate ( adjust argument as needed accorfing to the graph)"
   ]
  },
  {
   "cell_type": "code",
   "execution_count": null,
   "metadata": {
    "id": "7ATgiIbyE7XJ"
   },
   "outputs": [],
   "source": [
    "learner.freeze(6)"
   ]
  },
  {
   "cell_type": "code",
   "execution_count": 28,
   "metadata": {
    "colab": {
     "base_uri": "https://localhost:8080/"
    },
    "id": "MmjJwfrQv3Ex",
    "outputId": "17265489-ad02-4108-cb8d-549c06ff93f6",
    "scrolled": false
   },
   "outputs": [
    {
     "name": "stdout",
     "output_type": "stream",
     "text": [
      "early_stopping automatically enabled at patience=5\n",
      "reduce_on_plateau automatically enabled at patience=2\n",
      "\n",
      "\n",
      "begin training using triangular learning rate policy with max lr of 0.04...\n",
      "Epoch 1/1024\n",
      "407/407 [==============================] - 6s 14ms/step - loss: 0.2983 - accuracy: 0.8592 - val_loss: 0.1521 - val_accuracy: 0.9398\n",
      "Epoch 2/1024\n",
      "407/407 [==============================] - 6s 14ms/step - loss: 0.2089 - accuracy: 0.9110 - val_loss: 0.1188 - val_accuracy: 0.9536\n",
      "Epoch 3/1024\n",
      "407/407 [==============================] - 6s 14ms/step - loss: 0.2489 - accuracy: 0.8722 - val_loss: 0.1511 - val_accuracy: 0.9349\n",
      "Epoch 4/1024\n",
      "405/407 [============================>.] - ETA: 0s - loss: 0.2649 - accuracy: 0.8603\n",
      "Epoch 00004: Reducing Max LR on Plateau: new max lr will be 0.02 (if not early_stopping).\n",
      "407/407 [==============================] - 6s 14ms/step - loss: 0.2653 - accuracy: 0.8602 - val_loss: 0.1427 - val_accuracy: 0.9501\n",
      "Epoch 5/1024\n",
      "407/407 [==============================] - 6s 14ms/step - loss: 0.2493 - accuracy: 0.8688 - val_loss: 0.1423 - val_accuracy: 0.9280\n",
      "Epoch 6/1024\n",
      "404/407 [============================>.] - ETA: 0s - loss: 0.2151 - accuracy: 0.8915\n",
      "Epoch 00006: Reducing Max LR on Plateau: new max lr will be 0.01 (if not early_stopping).\n",
      "407/407 [==============================] - 6s 15ms/step - loss: 0.2149 - accuracy: 0.8916 - val_loss: 0.1371 - val_accuracy: 0.9321\n",
      "Epoch 7/1024\n",
      "407/407 [==============================] - 6s 14ms/step - loss: 0.1961 - accuracy: 0.9061 - val_loss: 0.1165 - val_accuracy: 0.9488\n",
      "Epoch 8/1024\n",
      "407/407 [==============================] - 6s 14ms/step - loss: 0.1855 - accuracy: 0.9116 - val_loss: 0.1065 - val_accuracy: 0.9578\n",
      "Epoch 9/1024\n",
      "407/407 [==============================] - 6s 14ms/step - loss: 0.1768 - accuracy: 0.9176 - val_loss: 0.1077 - val_accuracy: 0.9564\n",
      "Epoch 10/1024\n",
      "407/407 [==============================] - 6s 14ms/step - loss: 0.1647 - accuracy: 0.9226 - val_loss: 0.1037 - val_accuracy: 0.9598\n",
      "Epoch 11/1024\n",
      "407/407 [==============================] - 6s 14ms/step - loss: 0.1721 - accuracy: 0.9212 - val_loss: 0.1019 - val_accuracy: 0.9619\n",
      "Epoch 12/1024\n",
      "407/407 [==============================] - 6s 14ms/step - loss: 0.1592 - accuracy: 0.9260 - val_loss: 0.1018 - val_accuracy: 0.9598\n",
      "Epoch 13/1024\n",
      "407/407 [==============================] - 6s 14ms/step - loss: 0.1675 - accuracy: 0.9236 - val_loss: 0.1047 - val_accuracy: 0.9578\n",
      "Epoch 14/1024\n",
      "407/407 [==============================] - 6s 14ms/step - loss: 0.1597 - accuracy: 0.9263 - val_loss: 0.0977 - val_accuracy: 0.9619\n",
      "Epoch 15/1024\n",
      "407/407 [==============================] - 6s 14ms/step - loss: 0.1565 - accuracy: 0.9276 - val_loss: 0.1012 - val_accuracy: 0.9626\n",
      "Epoch 16/1024\n",
      "405/407 [============================>.] - ETA: 0s - loss: 0.1541 - accuracy: 0.9273\n",
      "Epoch 00016: Reducing Max LR on Plateau: new max lr will be 0.005 (if not early_stopping).\n",
      "407/407 [==============================] - 6s 14ms/step - loss: 0.1542 - accuracy: 0.9273 - val_loss: 0.1024 - val_accuracy: 0.9584\n",
      "Epoch 17/1024\n",
      "407/407 [==============================] - 6s 14ms/step - loss: 0.1623 - accuracy: 0.9233 - val_loss: 0.0971 - val_accuracy: 0.9626\n",
      "Epoch 18/1024\n",
      "407/407 [==============================] - 6s 14ms/step - loss: 0.1434 - accuracy: 0.9354 - val_loss: 0.0977 - val_accuracy: 0.9633\n",
      "Epoch 19/1024\n",
      "407/407 [==============================] - 6s 15ms/step - loss: 0.1503 - accuracy: 0.9296 - val_loss: 0.0964 - val_accuracy: 0.9612\n",
      "Epoch 20/1024\n",
      "407/407 [==============================] - 6s 14ms/step - loss: 0.1493 - accuracy: 0.9279 - val_loss: 0.0967 - val_accuracy: 0.9612\n",
      "Epoch 21/1024\n",
      "407/407 [==============================] - 6s 14ms/step - loss: 0.1443 - accuracy: 0.9304 - val_loss: 0.0962 - val_accuracy: 0.9619\n",
      "Epoch 22/1024\n",
      "407/407 [==============================] - 6s 14ms/step - loss: 0.1431 - accuracy: 0.9340 - val_loss: 0.0949 - val_accuracy: 0.9633\n",
      "Epoch 23/1024\n",
      "407/407 [==============================] - 6s 14ms/step - loss: 0.1428 - accuracy: 0.9343 - val_loss: 0.0904 - val_accuracy: 0.9675\n",
      "Epoch 24/1024\n",
      "407/407 [==============================] - 6s 14ms/step - loss: 0.1404 - accuracy: 0.9354 - val_loss: 0.0977 - val_accuracy: 0.9626\n",
      "Epoch 25/1024\n",
      "404/407 [============================>.] - ETA: 0s - loss: 0.1387 - accuracy: 0.9355\n",
      "Epoch 00025: Reducing Max LR on Plateau: new max lr will be 0.0025 (if not early_stopping).\n",
      "407/407 [==============================] - 6s 14ms/step - loss: 0.1387 - accuracy: 0.9355 - val_loss: 0.0938 - val_accuracy: 0.9640\n",
      "Epoch 26/1024\n",
      "407/407 [==============================] - 6s 14ms/step - loss: 0.1330 - accuracy: 0.9373 - val_loss: 0.0936 - val_accuracy: 0.9640\n",
      "Epoch 27/1024\n",
      "407/407 [==============================] - ETA: 0s - loss: 0.1289 - accuracy: 0.9402\n",
      "Epoch 00027: Reducing Max LR on Plateau: new max lr will be 0.00125 (if not early_stopping).\n",
      "407/407 [==============================] - 6s 14ms/step - loss: 0.1289 - accuracy: 0.9402 - val_loss: 0.0923 - val_accuracy: 0.9647\n",
      "Epoch 28/1024\n",
      "407/407 [==============================] - 6s 14ms/step - loss: 0.1345 - accuracy: 0.9374 - val_loss: 0.0898 - val_accuracy: 0.9668\n",
      "Epoch 29/1024\n",
      "407/407 [==============================] - 6s 14ms/step - loss: 0.1321 - accuracy: 0.9382 - val_loss: 0.0904 - val_accuracy: 0.9654\n",
      "Epoch 30/1024\n",
      "407/407 [==============================] - 6s 14ms/step - loss: 0.1257 - accuracy: 0.9399 - val_loss: 0.0887 - val_accuracy: 0.9661\n",
      "Epoch 31/1024\n",
      "407/407 [==============================] - 6s 14ms/step - loss: 0.1300 - accuracy: 0.9385 - val_loss: 0.0895 - val_accuracy: 0.9654\n",
      "Epoch 32/1024\n",
      "407/407 [==============================] - ETA: 0s - loss: 0.1300 - accuracy: 0.9388\n",
      "Epoch 00032: Reducing Max LR on Plateau: new max lr will be 0.000625 (if not early_stopping).\n",
      "407/407 [==============================] - 6s 14ms/step - loss: 0.1300 - accuracy: 0.9388 - val_loss: 0.0900 - val_accuracy: 0.9654\n",
      "Epoch 33/1024\n",
      "407/407 [==============================] - 6s 14ms/step - loss: 0.1311 - accuracy: 0.9392 - val_loss: 0.0922 - val_accuracy: 0.9647\n",
      "Epoch 34/1024\n",
      "406/407 [============================>.] - ETA: 0s - loss: 0.1290 - accuracy: 0.9391\n",
      "Epoch 00034: Reducing Max LR on Plateau: new max lr will be 0.0003125 (if not early_stopping).\n",
      "407/407 [==============================] - 6s 14ms/step - loss: 0.1291 - accuracy: 0.9390 - val_loss: 0.0906 - val_accuracy: 0.9647\n",
      "Epoch 35/1024\n",
      "405/407 [============================>.] - ETA: 0s - loss: 0.1305 - accuracy: 0.9356Restoring model weights from the end of the best epoch: 30.\n",
      "407/407 [==============================] - 6s 14ms/step - loss: 0.1307 - accuracy: 0.9355 - val_loss: 0.0921 - val_accuracy: 0.9647\n",
      "Epoch 35: early stopping\n",
      "Weights from best epoch have been loaded into model.\n"
     ]
    },
    {
     "data": {
      "text/plain": [
       "<keras.callbacks.History at 0x7f3cb1734580>"
      ]
     },
     "execution_count": 28,
     "metadata": {},
     "output_type": "execute_result"
    }
   ],
   "source": [
    "learner.autofit(0.04)"
   ]
  },
  {
   "cell_type": "markdown",
   "metadata": {},
   "source": [
    "Now let's evaluate the the ```validation data set```"
   ]
  },
  {
   "cell_type": "code",
   "execution_count": null,
   "metadata": {
    "id": "CL-bN9wkv3Ex"
   },
   "outputs": [],
   "source": [
    "learner.evaluate()"
   ]
  },
  {
   "cell_type": "markdown",
   "metadata": {},
   "source": [
    "Here is what our model looks like. It has a number of layers that comprise this ```GRU```"
   ]
  },
  {
   "cell_type": "markdown",
   "metadata": {},
   "source": [
    "It's time for some fun! First, get a predictor instance that uses our pre-trained model"
   ]
  },
  {
   "cell_type": "code",
   "execution_count": 29,
   "metadata": {
    "scrolled": false
   },
   "outputs": [
    {
     "name": "stdout",
     "output_type": "stream",
     "text": [
      "MODEL SAVED\n"
     ]
    }
   ],
   "source": [
    "predictor = ktrain.get_predictor(learner.model, preproc)\n",
    "predictor.save('detector_model_fasttext_my')\n",
    "print('MODEL SAVED')"
   ]
  },
  {
   "cell_type": "markdown",
   "metadata": {},
   "source": [
    "Let's see if it can catch an SQLi or XSS payload"
   ]
  },
  {
   "cell_type": "code",
   "execution_count": 30,
   "metadata": {},
   "outputs": [],
   "source": [
    "import pickle\n",
    "from tensorflow.keras.models import load_model\n",
    "# loading preprocess and model file\n",
    "features = pickle.load(open('detector_model_fasttext_my/tf_model.preproc',\n",
    "                            'rb'))\n",
    "new_model = load_model('detector_model_fasttext_my/tf_model.h5')\n",
    "labels = ['benign', 'sqli', 'xss']"
   ]
  },
  {
   "cell_type": "code",
   "execution_count": 31,
   "metadata": {},
   "outputs": [
    {
     "name": "stdout",
     "output_type": "stream",
     "text": [
      "[[0.00360852 0.00945616 0.9904916 ]]\n",
      "LABEL : xss SCORE : 99.00\n"
     ]
    }
   ],
   "source": [
    "text = '<applet onkeydown=\"alert(1)\" contenteditable>test</applet>'\n",
    "preproc_text = features.preprocess([text])\n",
    "result = new_model.predict(preproc_text)\n",
    "print(result)\n",
    "label = labels[result[0].argmax(axis=0)]\n",
    "score = ('{:.2f}'.format(round(np.max(result[0]), 2)*100))\n",
    "print('LABEL :', label, 'SCORE :', score)"
   ]
  },
  {
   "cell_type": "code",
   "execution_count": null,
   "metadata": {},
   "outputs": [],
   "source": []
  }
 ],
 "metadata": {
  "accelerator": "GPU",
  "colab": {
   "name": "ml_sqli_detector.ipynb",
   "provenance": []
  },
  "kernelspec": {
   "display_name": "Python 3 (ipykernel)",
   "language": "python",
   "name": "python3"
  },
  "language_info": {
   "codemirror_mode": {
    "name": "ipython",
    "version": 3
   },
   "file_extension": ".py",
   "mimetype": "text/x-python",
   "name": "python",
   "nbconvert_exporter": "python",
   "pygments_lexer": "ipython3",
   "version": "3.8.10"
  }
 },
 "nbformat": 4,
 "nbformat_minor": 1
}

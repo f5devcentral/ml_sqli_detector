{
 "cells": [
  {
   "cell_type": "markdown",
   "metadata": {},
   "source": [
    "## Basic classifier that uses Bidirectional Gated Recurrent Unit (bigru) to predict if the payload is an SQL injection"
   ]
  },
  {
   "cell_type": "markdown",
   "metadata": {},
   "source": [
    "Let's import our stuff here\n"
   ]
  },
  {
   "cell_type": "code",
   "execution_count": 1,
   "metadata": {
    "id": "9o-dl8wLv3Ep"
   },
   "outputs": [
    {
     "name": "stdout",
     "output_type": "stream",
     "text": [
      "Requirement already satisfied: ktrain in /home/jupyter/.local/lib/python3.8/site-packages (0.29.3)\n",
      "Requirement already satisfied: matplotlib in /home/jupyter/.local/lib/python3.8/site-packages (3.5.1)\n",
      "Requirement already satisfied: tensorflow in /home/jupyter/.local/lib/python3.8/site-packages (2.8.0)\n",
      "Requirement already satisfied: numpy in /home/jupyter/.local/lib/python3.8/site-packages (1.22.3)\n",
      "Requirement already satisfied: langdetect in /home/jupyter/.local/lib/python3.8/site-packages (from ktrain) (1.0.9)\n",
      "Requirement already satisfied: seqeval==0.0.19 in /home/jupyter/.local/lib/python3.8/site-packages (from ktrain) (0.0.19)\n",
      "Requirement already satisfied: syntok==1.3.3 in /home/jupyter/.local/lib/python3.8/site-packages (from ktrain) (1.3.3)\n",
      "Requirement already satisfied: requests in /usr/lib/python3/dist-packages (from ktrain) (2.22.0)\n",
      "Requirement already satisfied: transformers==4.10.3 in /home/jupyter/.local/lib/python3.8/site-packages (from ktrain) (4.10.3)\n",
      "Requirement already satisfied: whoosh in /home/jupyter/.local/lib/python3.8/site-packages (from ktrain) (2.7.4)\n",
      "Requirement already satisfied: joblib in /home/jupyter/.local/lib/python3.8/site-packages (from ktrain) (1.1.0)\n",
      "Requirement already satisfied: jieba in /home/jupyter/.local/lib/python3.8/site-packages (from ktrain) (0.42.1)\n",
      "Requirement already satisfied: chardet in /usr/lib/python3/dist-packages (from ktrain) (3.0.4)\n",
      "Requirement already satisfied: packaging in /home/jupyter/.local/lib/python3.8/site-packages (from ktrain) (21.3)\n",
      "Requirement already satisfied: scikit-learn==0.24.2 in /home/jupyter/.local/lib/python3.8/site-packages (from ktrain) (0.24.2)\n",
      "Requirement already satisfied: keras-bert>=0.86.0 in /home/jupyter/.local/lib/python3.8/site-packages (from ktrain) (0.89.0)\n",
      "Requirement already satisfied: sentencepiece in /home/jupyter/.local/lib/python3.8/site-packages (from ktrain) (0.1.96)\n",
      "Requirement already satisfied: pandas>=1.0.1 in /home/jupyter/.local/lib/python3.8/site-packages (from ktrain) (1.4.1)\n",
      "Requirement already satisfied: fastprogress>=0.1.21 in /home/jupyter/.local/lib/python3.8/site-packages (from ktrain) (1.0.2)\n",
      "Requirement already satisfied: cchardet in /home/jupyter/.local/lib/python3.8/site-packages (from ktrain) (2.1.7)\n",
      "Requirement already satisfied: kiwisolver>=1.0.1 in /home/jupyter/.local/lib/python3.8/site-packages (from matplotlib) (1.4.0)\n",
      "Requirement already satisfied: cycler>=0.10 in /home/jupyter/.local/lib/python3.8/site-packages (from matplotlib) (0.11.0)\n",
      "Requirement already satisfied: pyparsing>=2.2.1 in /home/jupyter/.local/lib/python3.8/site-packages (from matplotlib) (3.0.7)\n",
      "Requirement already satisfied: python-dateutil>=2.7 in /home/jupyter/.local/lib/python3.8/site-packages (from matplotlib) (2.8.2)\n",
      "Requirement already satisfied: fonttools>=4.22.0 in /home/jupyter/.local/lib/python3.8/site-packages (from matplotlib) (4.31.2)\n",
      "Requirement already satisfied: pillow>=6.2.0 in /home/jupyter/.local/lib/python3.8/site-packages (from matplotlib) (9.0.1)\n",
      "Requirement already satisfied: setuptools in /usr/lib/python3/dist-packages (from tensorflow) (45.2.0)\n",
      "Requirement already satisfied: grpcio<2.0,>=1.24.3 in /home/jupyter/.local/lib/python3.8/site-packages (from tensorflow) (1.44.0)\n",
      "Requirement already satisfied: google-pasta>=0.1.1 in /home/jupyter/.local/lib/python3.8/site-packages (from tensorflow) (0.2.0)\n",
      "Requirement already satisfied: termcolor>=1.1.0 in /home/jupyter/.local/lib/python3.8/site-packages (from tensorflow) (1.1.0)\n",
      "Requirement already satisfied: keras-preprocessing>=1.1.1 in /home/jupyter/.local/lib/python3.8/site-packages (from tensorflow) (1.1.2)\n",
      "Requirement already satisfied: tensorflow-io-gcs-filesystem>=0.23.1 in /home/jupyter/.local/lib/python3.8/site-packages (from tensorflow) (0.24.0)\n",
      "Requirement already satisfied: gast>=0.2.1 in /home/jupyter/.local/lib/python3.8/site-packages (from tensorflow) (0.5.3)\n",
      "Requirement already satisfied: flatbuffers>=1.12 in /home/jupyter/.local/lib/python3.8/site-packages (from tensorflow) (2.0)\n",
      "Requirement already satisfied: absl-py>=0.4.0 in /home/jupyter/.local/lib/python3.8/site-packages (from tensorflow) (1.0.0)\n",
      "Requirement already satisfied: opt-einsum>=2.3.2 in /home/jupyter/.local/lib/python3.8/site-packages (from tensorflow) (3.3.0)\n",
      "Requirement already satisfied: wrapt>=1.11.0 in /home/jupyter/.local/lib/python3.8/site-packages (from tensorflow) (1.14.0)\n",
      "Requirement already satisfied: protobuf>=3.9.2 in /home/jupyter/.local/lib/python3.8/site-packages (from tensorflow) (3.19.4)\n",
      "Requirement already satisfied: typing-extensions>=3.6.6 in /home/jupyter/.local/lib/python3.8/site-packages (from tensorflow) (4.1.1)\n",
      "Requirement already satisfied: six>=1.12.0 in /usr/lib/python3/dist-packages (from tensorflow) (1.14.0)\n",
      "Requirement already satisfied: h5py>=2.9.0 in /home/jupyter/.local/lib/python3.8/site-packages (from tensorflow) (3.6.0)\n",
      "Requirement already satisfied: libclang>=9.0.1 in /home/jupyter/.local/lib/python3.8/site-packages (from tensorflow) (13.0.0)\n",
      "Requirement already satisfied: astunparse>=1.6.0 in /home/jupyter/.local/lib/python3.8/site-packages (from tensorflow) (1.6.3)\n",
      "Requirement already satisfied: tf-estimator-nightly==2.8.0.dev2021122109 in /home/jupyter/.local/lib/python3.8/site-packages (from tensorflow) (2.8.0.dev2021122109)\n",
      "Requirement already satisfied: tensorboard<2.9,>=2.8 in /home/jupyter/.local/lib/python3.8/site-packages (from tensorflow) (2.8.0)\n",
      "Requirement already satisfied: keras<2.9,>=2.8.0rc0 in /home/jupyter/.local/lib/python3.8/site-packages (from tensorflow) (2.8.0)\n",
      "Requirement already satisfied: regex in /home/jupyter/.local/lib/python3.8/site-packages (from syntok==1.3.3->ktrain) (2022.3.15)\n",
      "Requirement already satisfied: filelock in /usr/local/lib/python3.8/dist-packages (from transformers==4.10.3->ktrain) (3.6.0)\n",
      "Requirement already satisfied: pyyaml>=5.1 in /usr/lib/python3/dist-packages (from transformers==4.10.3->ktrain) (5.3.1)\n",
      "Requirement already satisfied: tqdm>=4.27 in /home/jupyter/.local/lib/python3.8/site-packages (from transformers==4.10.3->ktrain) (4.63.1)\n",
      "Requirement already satisfied: sacremoses in /home/jupyter/.local/lib/python3.8/site-packages (from transformers==4.10.3->ktrain) (0.0.49)\n",
      "Requirement already satisfied: huggingface-hub>=0.0.12 in /home/jupyter/.local/lib/python3.8/site-packages (from transformers==4.10.3->ktrain) (0.4.0)\n",
      "Requirement already satisfied: tokenizers<0.11,>=0.10.1 in /home/jupyter/.local/lib/python3.8/site-packages (from transformers==4.10.3->ktrain) (0.10.3)\n",
      "Requirement already satisfied: scipy>=0.19.1 in /home/jupyter/.local/lib/python3.8/site-packages (from scikit-learn==0.24.2->ktrain) (1.8.0)\n",
      "Requirement already satisfied: threadpoolctl>=2.0.0 in /home/jupyter/.local/lib/python3.8/site-packages (from scikit-learn==0.24.2->ktrain) (3.1.0)\n",
      "Requirement already satisfied: keras-transformer==0.40.0 in /home/jupyter/.local/lib/python3.8/site-packages (from keras-bert>=0.86.0->ktrain) (0.40.0)\n",
      "Requirement already satisfied: pytz>=2020.1 in /home/jupyter/.local/lib/python3.8/site-packages (from pandas>=1.0.1->ktrain) (2022.1)\n",
      "Requirement already satisfied: wheel<1.0,>=0.23.0 in /usr/lib/python3/dist-packages (from astunparse>=1.6.0->tensorflow) (0.34.2)\n",
      "Requirement already satisfied: werkzeug>=0.11.15 in /home/jupyter/.local/lib/python3.8/site-packages (from tensorboard<2.9,>=2.8->tensorflow) (2.1.0)\n",
      "Requirement already satisfied: google-auth-oauthlib<0.5,>=0.4.1 in /home/jupyter/.local/lib/python3.8/site-packages (from tensorboard<2.9,>=2.8->tensorflow) (0.4.6)\n",
      "Requirement already satisfied: google-auth<3,>=1.6.3 in /home/jupyter/.local/lib/python3.8/site-packages (from tensorboard<2.9,>=2.8->tensorflow) (2.6.2)\n",
      "Requirement already satisfied: markdown>=2.6.8 in /home/jupyter/.local/lib/python3.8/site-packages (from tensorboard<2.9,>=2.8->tensorflow) (3.3.6)\n",
      "Requirement already satisfied: tensorboard-data-server<0.7.0,>=0.6.0 in /home/jupyter/.local/lib/python3.8/site-packages (from tensorboard<2.9,>=2.8->tensorflow) (0.6.1)\n",
      "Requirement already satisfied: tensorboard-plugin-wit>=1.6.0 in /home/jupyter/.local/lib/python3.8/site-packages (from tensorboard<2.9,>=2.8->tensorflow) (1.8.1)\n",
      "Requirement already satisfied: click in /home/jupyter/.local/lib/python3.8/site-packages (from sacremoses->transformers==4.10.3->ktrain) (8.1.0)\n",
      "Requirement already satisfied: keras-multi-head==0.29.0 in /home/jupyter/.local/lib/python3.8/site-packages (from keras-transformer==0.40.0->keras-bert>=0.86.0->ktrain) (0.29.0)\n",
      "Requirement already satisfied: keras-embed-sim==0.10.0 in /home/jupyter/.local/lib/python3.8/site-packages (from keras-transformer==0.40.0->keras-bert>=0.86.0->ktrain) (0.10.0)\n",
      "Requirement already satisfied: keras-layer-normalization==0.16.0 in /home/jupyter/.local/lib/python3.8/site-packages (from keras-transformer==0.40.0->keras-bert>=0.86.0->ktrain) (0.16.0)\n",
      "Requirement already satisfied: keras-position-wise-feed-forward==0.8.0 in /home/jupyter/.local/lib/python3.8/site-packages (from keras-transformer==0.40.0->keras-bert>=0.86.0->ktrain) (0.8.0)\n",
      "Requirement already satisfied: keras-pos-embd==0.13.0 in /home/jupyter/.local/lib/python3.8/site-packages (from keras-transformer==0.40.0->keras-bert>=0.86.0->ktrain) (0.13.0)\n",
      "Requirement already satisfied: requests-oauthlib>=0.7.0 in /home/jupyter/.local/lib/python3.8/site-packages (from google-auth-oauthlib<0.5,>=0.4.1->tensorboard<2.9,>=2.8->tensorflow) (1.3.1)\n",
      "Requirement already satisfied: pyasn1-modules>=0.2.1 in /usr/lib/python3/dist-packages (from google-auth<3,>=1.6.3->tensorboard<2.9,>=2.8->tensorflow) (0.2.1)\n",
      "Requirement already satisfied: rsa<5,>=3.1.4; python_version >= \"3.6\" in /home/jupyter/.local/lib/python3.8/site-packages (from google-auth<3,>=1.6.3->tensorboard<2.9,>=2.8->tensorflow) (4.8)\n",
      "Requirement already satisfied: cachetools<6.0,>=2.0.0 in /home/jupyter/.local/lib/python3.8/site-packages (from google-auth<3,>=1.6.3->tensorboard<2.9,>=2.8->tensorflow) (5.0.0)\n",
      "Requirement already satisfied: importlib-metadata>=4.4; python_version < \"3.10\" in /home/jupyter/.local/lib/python3.8/site-packages (from markdown>=2.6.8->tensorboard<2.9,>=2.8->tensorflow) (4.11.3)\n"
     ]
    },
    {
     "name": "stdout",
     "output_type": "stream",
     "text": [
      "Requirement already satisfied: keras-self-attention==0.51.0 in /home/jupyter/.local/lib/python3.8/site-packages (from keras-multi-head==0.29.0->keras-transformer==0.40.0->keras-bert>=0.86.0->ktrain) (0.51.0)\r\n",
      "Requirement already satisfied: oauthlib>=3.0.0 in /usr/lib/python3/dist-packages (from requests-oauthlib>=0.7.0->google-auth-oauthlib<0.5,>=0.4.1->tensorboard<2.9,>=2.8->tensorflow) (3.1.0)\r\n",
      "Requirement already satisfied: pyasn1>=0.1.3 in /usr/lib/python3/dist-packages (from rsa<5,>=3.1.4; python_version >= \"3.6\"->google-auth<3,>=1.6.3->tensorboard<2.9,>=2.8->tensorflow) (0.4.2)\r\n",
      "Requirement already satisfied: zipp>=0.5 in /usr/lib/python3/dist-packages (from importlib-metadata>=4.4; python_version < \"3.10\"->markdown>=2.6.8->tensorboard<2.9,>=2.8->tensorflow) (1.0.0)\r\n"
     ]
    }
   ],
   "source": [
    "!pip3 install scikit-learn>=1.0.0\n",
    "!pip3 install ktrain matplotlib tensorflow numpy\n",
    "import matplotlib\n",
    "import os\n",
    "import numpy as np\n",
    "%reload_ext autoreload\n",
    "%autoreload 2\n",
    "%matplotlib inline\n",
    "os.environ[\"CUDA_DEVICE_ORDER\"]=\"PCI_BUS_ID\";\n",
    "os.environ[\"CUDA_VISIBLE_DEVICES\"]=\"0\"; "
   ]
  },
  {
   "cell_type": "markdown",
   "metadata": {},
   "source": [
    "Some more imports...We are using ktrain wrapper to simplify model operations and take advantage of some cool stuff like autofit"
   ]
  },
  {
   "cell_type": "code",
   "execution_count": 2,
   "metadata": {
    "id": "evreWp_bv3Es"
   },
   "outputs": [],
   "source": [
    "import ktrain\n",
    "from ktrain import text"
   ]
  },
  {
   "cell_type": "markdown",
   "metadata": {
    "id": "Shmkj8niv3Ev"
   },
   "source": [
    "Here, we will classify payload to \"malicious sqli\" and \"benign\" . Data set is presented as a CSV file (i.e., download the file ```SQLiV3a_.csv```).  We will load the data using the ```texts_from_csv``` method, which assumes the label_columns are already one-hot-encoded in the spreadsheet. Since *val_filepath* is None, 10% of the data will automatically be used as a validation set.\n"
   ]
  },
  {
   "cell_type": "code",
   "execution_count": 3,
   "metadata": {
    "colab": {
     "base_uri": "https://localhost:8080/"
    },
    "id": "j6-wA79wv3Ew",
    "outputId": "7f7ba49d-d58f-4cf3-f363-806f37d2bd99"
   },
   "outputs": [
    {
     "name": "stdout",
     "output_type": "stream",
     "text": [
      "detected encoding: UTF-8-SIG (if wrong, set manually)\n",
      "['benign', 'sqli', 'xss']\n",
      "       benign  sqli  xss\n",
      "2613      0.0   0.0  1.0\n",
      "11338     1.0   0.0  0.0\n",
      "9840      0.0   1.0  0.0\n",
      "4456      1.0   0.0  0.0\n",
      "12765     0.0   1.0  0.0\n",
      "['benign', 'sqli', 'xss']\n",
      "       benign  sqli  xss\n",
      "14113     1.0   0.0  0.0\n",
      "3763      0.0   0.0  1.0\n",
      "1938      0.0   0.0  1.0\n",
      "4360      0.0   1.0  0.0\n",
      "1376      0.0   0.0  1.0\n",
      "language: en\n",
      "Word Counts: 10092\n",
      "Nrows: 12987\n",
      "12987 train sequences\n",
      "train sequence lengths:\n",
      "\tmean : 9\n",
      "\t95percentile : 28\n",
      "\t99percentile : 42\n",
      "x_train shape: (12987,200)\n",
      "y_train shape: (12987, 3)\n",
      "Is Multi-Label? False\n",
      "1443 test sequences\n",
      "test sequence lengths:\n",
      "\tmean : 8\n",
      "\t95percentile : 25\n",
      "\t99percentile : 40\n",
      "x_test shape: (1443,200)\n",
      "y_test shape: (1443, 3)\n"
     ]
    }
   ],
   "source": [
    "DATA_PATH = 'SQLiV3a_14k.csv'\n",
    "NUM_WORDS = 50000\n",
    "MAXLEN = 200\n",
    "(x_train, y_train), (x_test, y_test), preproc = text.texts_from_csv(DATA_PATH,\n",
    "                      'payload',\n",
    "                      label_columns = [\"type\"],\n",
    "                      val_filepath=None, # if None, 10% of data will be used for validation\n",
    "                      max_features=NUM_WORDS, maxlen=MAXLEN,\n",
    "                      ngram_range=1,\n",
    "                      preprocess_mode='standard')"
   ]
  },
  {
   "cell_type": "markdown",
   "metadata": {},
   "source": [
    "Load the learner instance that uses ```bigru``` model "
   ]
  },
  {
   "cell_type": "code",
   "execution_count": 4,
   "metadata": {
    "colab": {
     "base_uri": "https://localhost:8080/",
     "height": 136
    },
    "id": "UpbaZ68Dv3Ew",
    "outputId": "68874f80-6a80-4960-a152-1b594f4ee856"
   },
   "outputs": [
    {
     "name": "stdout",
     "output_type": "stream",
     "text": [
      "Is Multi-Label? False\n",
      "compiling word ID features...\n",
      "maxlen is 200\n",
      "word vectors will be loaded from: https://dl.fbaipublicfiles.com/fasttext/vectors-crawl/cc.en.300.vec.gz\n",
      "processing pretrained word vectors...\n",
      "loading pretrained word vectors...this may take a few moments...\n"
     ]
    },
    {
     "data": {
      "text/html": [
       "\n",
       "<style>\n",
       "    /* Turns off some styling */\n",
       "    progress {\n",
       "        /* gets rid of default border in Firefox and Opera. */\n",
       "        border: none;\n",
       "        /* Needs to be in here for Safari polyfill so background images work as expected. */\n",
       "        background-size: auto;\n",
       "    }\n",
       "    .progress-bar-interrupted, .progress-bar-interrupted::-webkit-progress-bar {\n",
       "        background: #F44336;\n",
       "    }\n",
       "</style>\n"
      ],
      "text/plain": [
       "<IPython.core.display.HTML object>"
      ]
     },
     "metadata": {},
     "output_type": "display_data"
    },
    {
     "data": {
      "text/html": [],
      "text/plain": [
       "<IPython.core.display.HTML object>"
      ]
     },
     "metadata": {},
     "output_type": "display_data"
    },
    {
     "name": "stdout",
     "output_type": "stream",
     "text": [
      "done.\n"
     ]
    }
   ],
   "source": [
    "model = text.text_classifier('bigru', (x_train, y_train), \n",
    "                             preproc=preproc)\n",
    "learner = ktrain.get_learner(model, train_data=(x_train, y_train), val_data=(x_test, y_test))"
   ]
  },
  {
   "cell_type": "markdown",
   "metadata": {},
   "source": [
    "Now let's find the optimal learning rate for this model"
   ]
  },
  {
   "cell_type": "code",
   "execution_count": 5,
   "metadata": {
    "colab": {
     "base_uri": "https://localhost:8080/",
     "height": 592
    },
    "id": "u-kza8Env3Ex",
    "outputId": "146052d1-5d60-4708-b878-1660db206379"
   },
   "outputs": [
    {
     "name": "stdout",
     "output_type": "stream",
     "text": [
      "simulating training for different learning rates... this may take a few moments...\n",
      "Epoch 1/1024\n",
      "406/406 [==============================] - 92s 221ms/step - loss: 1.1007 - accuracy: 0.2943\n",
      "Epoch 2/1024\n",
      "406/406 [==============================] - 90s 221ms/step - loss: 0.8602 - accuracy: 0.6786\n",
      "Epoch 3/1024\n",
      "406/406 [==============================] - 90s 221ms/step - loss: 0.0714 - accuracy: 0.9808\n",
      "Epoch 4/1024\n",
      "406/406 [==============================] - 41s 102ms/step - loss: 0.3498 - accuracy: 0.9647\n",
      "\n",
      "\n",
      "done.\n",
      "Please invoke the Learner.lr_plot() method to visually inspect the loss plot to help identify the maximal learning rate associated with falling loss.\n"
     ]
    },
    {
     "data": {
      "image/png": "[encoded data removed]",
      "text/plain": [
       "<Figure size 432x288 with 1 Axes>"
      ]
     },
     "metadata": {
      "needs_background": "light"
     },
     "output_type": "display_data"
    }
   ],
   "source": [
    "learner.lr_find()\n",
    "learner.lr_plot()"
   ]
  },
  {
   "cell_type": "markdown",
   "metadata": {},
   "source": [
    "Train the model using the optimal learning rate ( adjust argument as needed accorfing to the graph)"
   ]
  },
  {
   "cell_type": "code",
   "execution_count": 7,
   "metadata": {
    "id": "7ATgiIbyE7XJ"
   },
   "outputs": [],
   "source": [
    "learner.freeze(6)"
   ]
  },
  {
   "cell_type": "code",
   "execution_count": 8,
   "metadata": {
    "colab": {
     "base_uri": "https://localhost:8080/"
    },
    "id": "MmjJwfrQv3Ex",
    "outputId": "17265489-ad02-4108-cb8d-549c06ff93f6"
   },
   "outputs": [
    {
     "name": "stdout",
     "output_type": "stream",
     "text": [
      "early_stopping automatically enabled at patience=5\n",
      "reduce_on_plateau automatically enabled at patience=2\n",
      "\n",
      "\n",
      "begin training using triangular learning rate policy with max lr of 0.01...\n",
      "Epoch 1/1024\n",
      "406/406 [==============================] - 14s 31ms/step - loss: 0.5924 - accuracy: 0.8207 - val_loss: 0.3384 - val_accuracy: 0.9300\n",
      "Epoch 2/1024\n",
      "406/406 [==============================] - 12s 29ms/step - loss: 0.2910 - accuracy: 0.9389 - val_loss: 0.2150 - val_accuracy: 0.9543\n",
      "Epoch 3/1024\n",
      "406/406 [==============================] - 12s 29ms/step - loss: 0.2189 - accuracy: 0.9500 - val_loss: 0.1681 - val_accuracy: 0.9647\n",
      "Epoch 4/1024\n",
      "406/406 [==============================] - 12s 29ms/step - loss: 0.1823 - accuracy: 0.9574 - val_loss: 0.1452 - val_accuracy: 0.9660\n",
      "Epoch 5/1024\n",
      "406/406 [==============================] - 12s 29ms/step - loss: 0.1665 - accuracy: 0.9570 - val_loss: 0.1319 - val_accuracy: 0.9653\n",
      "Epoch 6/1024\n",
      "406/406 [==============================] - 12s 29ms/step - loss: 0.1509 - accuracy: 0.9632 - val_loss: 0.1190 - val_accuracy: 0.9674\n",
      "Epoch 7/1024\n",
      "406/406 [==============================] - 12s 29ms/step - loss: 0.1460 - accuracy: 0.9609 - val_loss: 0.1144 - val_accuracy: 0.9695\n",
      "Epoch 8/1024\n",
      "406/406 [==============================] - 12s 29ms/step - loss: 0.1370 - accuracy: 0.9636 - val_loss: 0.1073 - val_accuracy: 0.9695\n",
      "Epoch 9/1024\n",
      "406/406 [==============================] - 12s 29ms/step - loss: 0.1326 - accuracy: 0.9645 - val_loss: 0.1022 - val_accuracy: 0.9730\n",
      "Epoch 10/1024\n",
      "406/406 [==============================] - 12s 29ms/step - loss: 0.1281 - accuracy: 0.9650 - val_loss: 0.0939 - val_accuracy: 0.9716\n",
      "Epoch 11/1024\n",
      "406/406 [==============================] - 12s 29ms/step - loss: 0.1206 - accuracy: 0.9666 - val_loss: 0.0920 - val_accuracy: 0.9751\n",
      "Epoch 12/1024\n",
      "406/406 [==============================] - 12s 29ms/step - loss: 0.1180 - accuracy: 0.9667 - val_loss: 0.0890 - val_accuracy: 0.9751\n",
      "Epoch 13/1024\n",
      "406/406 [==============================] - 12s 29ms/step - loss: 0.1190 - accuracy: 0.9670 - val_loss: 0.0863 - val_accuracy: 0.9771\n",
      "Epoch 14/1024\n",
      "406/406 [==============================] - 12s 29ms/step - loss: 0.1152 - accuracy: 0.9680 - val_loss: 0.0852 - val_accuracy: 0.9764\n",
      "Epoch 15/1024\n",
      "406/406 [==============================] - 12s 29ms/step - loss: 0.1130 - accuracy: 0.9680 - val_loss: 0.0811 - val_accuracy: 0.9764\n",
      "Epoch 16/1024\n",
      "406/406 [==============================] - 12s 29ms/step - loss: 0.1115 - accuracy: 0.9696 - val_loss: 0.0817 - val_accuracy: 0.9764\n",
      "Epoch 17/1024\n",
      "406/406 [==============================] - 12s 29ms/step - loss: 0.1112 - accuracy: 0.9696 - val_loss: 0.0810 - val_accuracy: 0.9764\n",
      "Epoch 18/1024\n",
      "406/406 [==============================] - 12s 29ms/step - loss: 0.1096 - accuracy: 0.9704 - val_loss: 0.0770 - val_accuracy: 0.9813\n",
      "Epoch 19/1024\n",
      "406/406 [==============================] - 12s 29ms/step - loss: 0.1053 - accuracy: 0.9703 - val_loss: 0.0782 - val_accuracy: 0.9792\n",
      "Epoch 20/1024\n",
      "406/406 [==============================] - 12s 29ms/step - loss: 0.1029 - accuracy: 0.9713 - val_loss: 0.0753 - val_accuracy: 0.9806\n",
      "Epoch 21/1024\n",
      "406/406 [==============================] - 12s 29ms/step - loss: 0.1019 - accuracy: 0.9709 - val_loss: 0.0743 - val_accuracy: 0.9806\n",
      "Epoch 22/1024\n",
      "406/406 [==============================] - 12s 29ms/step - loss: 0.1049 - accuracy: 0.9708 - val_loss: 0.0757 - val_accuracy: 0.9806\n",
      "Epoch 23/1024\n",
      "406/406 [==============================] - 12s 29ms/step - loss: 0.1026 - accuracy: 0.9706 - val_loss: 0.0730 - val_accuracy: 0.9813\n",
      "Epoch 24/1024\n",
      "406/406 [==============================] - 12s 29ms/step - loss: 0.1021 - accuracy: 0.9711 - val_loss: 0.0715 - val_accuracy: 0.9806\n",
      "Epoch 25/1024\n",
      "406/406 [==============================] - 12s 29ms/step - loss: 0.0997 - accuracy: 0.9706 - val_loss: 0.0735 - val_accuracy: 0.9813\n",
      "Epoch 26/1024\n",
      "405/406 [============================>.] - ETA: 0s - loss: 0.1025 - accuracy: 0.9704\n",
      "Epoch 00026: Reducing Max LR on Plateau: new max lr will be 0.005 (if not early_stopping).\n",
      "406/406 [==============================] - 12s 29ms/step - loss: 0.1024 - accuracy: 0.9704 - val_loss: 0.0723 - val_accuracy: 0.9827\n",
      "Epoch 27/1024\n",
      "406/406 [==============================] - 12s 29ms/step - loss: 0.0996 - accuracy: 0.9721 - val_loss: 0.0710 - val_accuracy: 0.9820\n",
      "Epoch 28/1024\n",
      "406/406 [==============================] - 12s 29ms/step - loss: 0.0968 - accuracy: 0.9728 - val_loss: 0.0713 - val_accuracy: 0.9827\n",
      "Epoch 29/1024\n",
      "406/406 [==============================] - 12s 29ms/step - loss: 0.0969 - accuracy: 0.9724 - val_loss: 0.0707 - val_accuracy: 0.9827\n",
      "Epoch 30/1024\n",
      "406/406 [==============================] - 12s 29ms/step - loss: 0.0957 - accuracy: 0.9727 - val_loss: 0.0693 - val_accuracy: 0.9820\n",
      "Epoch 31/1024\n",
      "406/406 [==============================] - 12s 29ms/step - loss: 0.0973 - accuracy: 0.9734 - val_loss: 0.0689 - val_accuracy: 0.9813\n",
      "Epoch 32/1024\n",
      "406/406 [==============================] - 12s 29ms/step - loss: 0.0981 - accuracy: 0.9718 - val_loss: 0.0692 - val_accuracy: 0.9820\n",
      "Epoch 33/1024\n",
      "405/406 [============================>.] - ETA: 0s - loss: 0.0982 - accuracy: 0.9721\n",
      "Epoch 00033: Reducing Max LR on Plateau: new max lr will be 0.0025 (if not early_stopping).\n",
      "406/406 [==============================] - 12s 29ms/step - loss: 0.0982 - accuracy: 0.9722 - val_loss: 0.0696 - val_accuracy: 0.9820\n",
      "Epoch 34/1024\n",
      "406/406 [==============================] - 12s 29ms/step - loss: 0.0971 - accuracy: 0.9713 - val_loss: 0.0684 - val_accuracy: 0.9820\n",
      "Epoch 35/1024\n",
      "406/406 [==============================] - 12s 29ms/step - loss: 0.0988 - accuracy: 0.9714 - val_loss: 0.0685 - val_accuracy: 0.9827\n",
      "Epoch 36/1024\n",
      "406/406 [==============================] - 12s 29ms/step - loss: 0.0957 - accuracy: 0.9740 - val_loss: 0.0683 - val_accuracy: 0.9834\n",
      "Epoch 37/1024\n",
      "406/406 [==============================] - 12s 29ms/step - loss: 0.0951 - accuracy: 0.9729 - val_loss: 0.0675 - val_accuracy: 0.9827\n",
      "Epoch 38/1024\n",
      "406/406 [==============================] - 12s 29ms/step - loss: 0.0949 - accuracy: 0.9730 - val_loss: 0.0682 - val_accuracy: 0.9827\n",
      "Epoch 39/1024\n",
      "405/406 [============================>.] - ETA: 0s - loss: 0.0932 - accuracy: 0.9746\n",
      "Epoch 00039: Reducing Max LR on Plateau: new max lr will be 0.00125 (if not early_stopping).\n",
      "406/406 [==============================] - 12s 29ms/step - loss: 0.0938 - accuracy: 0.9744 - val_loss: 0.0679 - val_accuracy: 0.9827\n",
      "Epoch 40/1024\n",
      "406/406 [==============================] - 12s 29ms/step - loss: 0.0946 - accuracy: 0.9727 - val_loss: 0.0672 - val_accuracy: 0.9827\n",
      "Epoch 41/1024\n",
      "406/406 [==============================] - 12s 29ms/step - loss: 0.0979 - accuracy: 0.9735 - val_loss: 0.0677 - val_accuracy: 0.9834\n",
      "Epoch 42/1024\n",
      "405/406 [============================>.] - ETA: 0s - loss: 0.0957 - accuracy: 0.9721\n",
      "Epoch 00042: Reducing Max LR on Plateau: new max lr will be 0.000625 (if not early_stopping).\n",
      "406/406 [==============================] - 12s 29ms/step - loss: 0.0958 - accuracy: 0.9720 - val_loss: 0.0675 - val_accuracy: 0.9834\n",
      "Epoch 43/1024\n",
      "406/406 [==============================] - 12s 29ms/step - loss: 0.0916 - accuracy: 0.9743 - val_loss: 0.0674 - val_accuracy: 0.9841\n",
      "Epoch 44/1024\n",
      "405/406 [============================>.] - ETA: 0s - loss: 0.0963 - accuracy: 0.9716\n",
      "Epoch 00044: Reducing Max LR on Plateau: new max lr will be 0.0003125 (if not early_stopping).\n",
      "406/406 [==============================] - 12s 29ms/step - loss: 0.0967 - accuracy: 0.9715 - val_loss: 0.0674 - val_accuracy: 0.9848\n",
      "Epoch 45/1024\n",
      "405/406 [============================>.] - ETA: 0s - loss: 0.0931 - accuracy: 0.9749Restoring model weights from the end of the best epoch: 40.\n",
      "406/406 [==============================] - 12s 29ms/step - loss: 0.0931 - accuracy: 0.9749 - val_loss: 0.0676 - val_accuracy: 0.9841\n",
      "Epoch 45: early stopping\n",
      "Weights from best epoch have been loaded into model.\n"
     ]
    },
    {
     "data": {
      "text/plain": [
       "<keras.callbacks.History at 0x7f6f298d0d60>"
      ]
     },
     "execution_count": 8,
     "metadata": {},
     "output_type": "execute_result"
    }
   ],
   "source": [
    "learner.autofit(0.01)"
   ]
  },
  {
   "cell_type": "markdown",
   "metadata": {},
   "source": [
    "Now let's evaluate the the ```validation data set```"
   ]
  },
  {
   "cell_type": "code",
   "execution_count": 9,
   "metadata": {
    "id": "CL-bN9wkv3Ex"
   },
   "outputs": [
    {
     "name": "stdout",
     "output_type": "stream",
     "text": [
      "              precision    recall  f1-score   support\n",
      "\n",
      "           0       0.96      1.00      0.98       425\n",
      "           1       0.99      0.97      0.98       461\n",
      "           2       1.00      0.99      0.99       557\n",
      "\n",
      "    accuracy                           0.98      1443\n",
      "   macro avg       0.98      0.98      0.98      1443\n",
      "weighted avg       0.98      0.98      0.98      1443\n",
      "\n"
     ]
    },
    {
     "data": {
      "text/plain": [
       "array([[423,   2,   0],\n",
       "       [ 14, 446,   1],\n",
       "       [  4,   4, 549]])"
      ]
     },
     "execution_count": 9,
     "metadata": {},
     "output_type": "execute_result"
    }
   ],
   "source": [
    "learner.evaluate()"
   ]
  },
  {
   "cell_type": "markdown",
   "metadata": {},
   "source": [
    "Here is what our model looks like. It has a number of layers that comprise this ```GRU```"
   ]
  },
  {
   "cell_type": "code",
   "execution_count": 6,
   "metadata": {
    "colab": {
     "base_uri": "https://localhost:8080/"
    },
    "id": "Fh1_l7ioIpS6",
    "outputId": "c35e8957-540f-42a7-fd07-d9d417915873"
   },
   "outputs": [
    {
     "name": "stdout",
     "output_type": "stream",
     "text": [
      "0 (trainable=True) : <keras.engine.input_layer.InputLayer object at 0x7f6f25f3ba30>\n",
      "1 (trainable=True) : <keras.layers.embeddings.Embedding object at 0x7f6f20a41f70>\n",
      "2 (trainable=True) : <keras.layers.core.spatial_dropout.SpatialDropout1D object at 0x7f6f20a41e80>\n",
      "3 (trainable=True) : <keras.layers.wrappers.Bidirectional object at 0x7f6f20a41d00>\n",
      "4 (trainable=True) : <keras.layers.pooling.GlobalAveragePooling1D object at 0x7f6f281db460>\n",
      "5 (trainable=True) : <keras.layers.pooling.GlobalMaxPooling1D object at 0x7f6f281db430>\n",
      "6 (trainable=True) : <keras.layers.merge.Concatenate object at 0x7f6f281db730>\n",
      "7 (trainable=True) : <keras.layers.core.dense.Dense object at 0x7f6f281db850>\n"
     ]
    }
   ],
   "source": [
    "learner.print_layers()\n"
   ]
  },
  {
   "cell_type": "markdown",
   "metadata": {},
   "source": [
    "It's time for some fun! First, get a predictor instance that uses our pre-trained model"
   ]
  },
  {
   "cell_type": "code",
   "execution_count": 10,
   "metadata": {
    "scrolled": true
   },
   "outputs": [
    {
     "name": "stdout",
     "output_type": "stream",
     "text": [
      "MODEL SAVED\n"
     ]
    }
   ],
   "source": [
    "predictor = ktrain.get_predictor(learner.model, preproc)\n",
    "predictor.save('detector_model')\n",
    "print('MODEL SAVED')"
   ]
  },
  {
   "cell_type": "markdown",
   "metadata": {},
   "source": [
    "Let's see if it can catch an SQLi or XSS payload"
   ]
  },
  {
   "cell_type": "code",
   "execution_count": null,
   "metadata": {},
   "outputs": [],
   "source": [
    "import pickle\n",
    "from tensorflow.keras.models import load_model\n",
    "# loading preprocess and model file\n",
    "features = pickle.load(open('sqli_xss_detector/tf_model.preproc',\n",
    "                            'rb'))\n",
    "new_model = load_model('sqli_xss_detector/tf_model.h5')\n",
    "labels = ['benign', 'sqli', 'xss']"
   ]
  },
  {
   "cell_type": "code",
   "execution_count": null,
   "metadata": {},
   "outputs": [],
   "source": [
    "text = '<applet onkeydown=\"alert(1)\" contenteditable>test</applet>'\n",
    "preproc_text = features.preprocess([text])\n",
    "result = new_model.predict(preproc_text)\n",
    "print(result)\n",
    "label = labels[result[0].argmax(axis=0)]\n",
    "score = ('{:.2f}'.format(round(np.max(result[0]), 2)*100))\n",
    "print('LABEL :', label, 'SCORE :', score)"
   ]
  },
  {
   "cell_type": "code",
   "execution_count": null,
   "metadata": {},
   "outputs": [],
   "source": []
  }
 ],
 "metadata": {
  "accelerator": "GPU",
  "colab": {
   "name": "ml_sqli_detector.ipynb",
   "provenance": []
  },
  "kernelspec": {
   "display_name": "Python 3 (ipykernel)",
   "language": "python",
   "name": "python3"
  },
  "language_info": {
   "codemirror_mode": {
    "name": "ipython",
    "version": 3
   },
   "file_extension": ".py",
   "mimetype": "text/x-python",
   "name": "python",
   "nbconvert_exporter": "python",
   "pygments_lexer": "ipython3",
   "version": "3.8.10"
  }
 },
 "nbformat": 4,
 "nbformat_minor": 1
}

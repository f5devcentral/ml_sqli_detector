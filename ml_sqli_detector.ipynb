{
  "cells": [
    {
      "cell_type": "markdown",
      "metadata": {
        "id": "view-in-github",
        "colab_type": "text"
      },
      "source": [
        "<a href=\"https://colab.research.google.com/github/sstarzh/ml_sqli_detector/blob/main/ml_sqli_detector.ipynb\" target=\"_parent\"><img src=\"https://colab.research.google.com/assets/colab-badge.svg\" alt=\"Open In Colab\"/></a>"
      ]
    },
    {
      "cell_type": "code",
      "execution_count": null,
      "metadata": {
        "colab": {
          "base_uri": "https://localhost:8080/"
        },
        "id": "9o-dl8wLv3Ep",
        "outputId": "6abedf50-6ba2-4888-c77f-e4e1cf4bc96a"
      },
      "outputs": [
        {
          "output_type": "stream",
          "name": "stdout",
          "text": [
            "Requirement already satisfied: ktrain in /usr/local/lib/python3.7/dist-packages (0.29.3)\n",
            "Requirement already satisfied: scikit-learn==0.24.2 in /usr/local/lib/python3.7/dist-packages (from ktrain) (0.24.2)\n",
            "Requirement already satisfied: matplotlib>=3.0.0 in /usr/local/lib/python3.7/dist-packages (from ktrain) (3.2.2)\n",
            "Requirement already satisfied: pandas>=1.0.1 in /usr/local/lib/python3.7/dist-packages (from ktrain) (1.3.5)\n",
            "Requirement already satisfied: langdetect in /usr/local/lib/python3.7/dist-packages (from ktrain) (1.0.9)\n",
            "Requirement already satisfied: chardet in /usr/local/lib/python3.7/dist-packages (from ktrain) (3.0.4)\n",
            "Requirement already satisfied: syntok==1.3.3 in /usr/local/lib/python3.7/dist-packages (from ktrain) (1.3.3)\n",
            "Requirement already satisfied: cchardet in /usr/local/lib/python3.7/dist-packages (from ktrain) (2.1.7)\n",
            "Requirement already satisfied: jieba in /usr/local/lib/python3.7/dist-packages (from ktrain) (0.42.1)\n",
            "Requirement already satisfied: seqeval==0.0.19 in /usr/local/lib/python3.7/dist-packages (from ktrain) (0.0.19)\n",
            "Requirement already satisfied: joblib in /usr/local/lib/python3.7/dist-packages (from ktrain) (1.1.0)\n",
            "Requirement already satisfied: keras-bert>=0.86.0 in /usr/local/lib/python3.7/dist-packages (from ktrain) (0.89.0)\n",
            "Requirement already satisfied: fastprogress>=0.1.21 in /usr/local/lib/python3.7/dist-packages (from ktrain) (1.0.2)\n",
            "Requirement already satisfied: sentencepiece in /usr/local/lib/python3.7/dist-packages (from ktrain) (0.1.96)\n",
            "Requirement already satisfied: packaging in /usr/local/lib/python3.7/dist-packages (from ktrain) (21.3)\n",
            "Requirement already satisfied: whoosh in /usr/local/lib/python3.7/dist-packages (from ktrain) (2.7.4)\n",
            "Requirement already satisfied: transformers==4.10.3 in /usr/local/lib/python3.7/dist-packages (from ktrain) (4.10.3)\n",
            "Requirement already satisfied: requests in /usr/local/lib/python3.7/dist-packages (from ktrain) (2.23.0)\n",
            "Requirement already satisfied: numpy>=1.13.3 in /usr/local/lib/python3.7/dist-packages (from scikit-learn==0.24.2->ktrain) (1.21.5)\n",
            "Requirement already satisfied: threadpoolctl>=2.0.0 in /usr/local/lib/python3.7/dist-packages (from scikit-learn==0.24.2->ktrain) (3.1.0)\n",
            "Requirement already satisfied: scipy>=0.19.1 in /usr/local/lib/python3.7/dist-packages (from scikit-learn==0.24.2->ktrain) (1.4.1)\n",
            "Requirement already satisfied: Keras>=2.2.4 in /usr/local/lib/python3.7/dist-packages (from seqeval==0.0.19->ktrain) (2.8.0)\n",
            "Requirement already satisfied: regex in /usr/local/lib/python3.7/dist-packages (from syntok==1.3.3->ktrain) (2019.12.20)\n",
            "Requirement already satisfied: sacremoses in /usr/local/lib/python3.7/dist-packages (from transformers==4.10.3->ktrain) (0.0.49)\n",
            "Requirement already satisfied: tokenizers<0.11,>=0.10.1 in /usr/local/lib/python3.7/dist-packages (from transformers==4.10.3->ktrain) (0.10.3)\n",
            "Requirement already satisfied: tqdm>=4.27 in /usr/local/lib/python3.7/dist-packages (from transformers==4.10.3->ktrain) (4.63.0)\n",
            "Requirement already satisfied: huggingface-hub>=0.0.12 in /usr/local/lib/python3.7/dist-packages (from transformers==4.10.3->ktrain) (0.4.0)\n",
            "Requirement already satisfied: filelock in /usr/local/lib/python3.7/dist-packages (from transformers==4.10.3->ktrain) (3.6.0)\n",
            "Requirement already satisfied: pyyaml>=5.1 in /usr/local/lib/python3.7/dist-packages (from transformers==4.10.3->ktrain) (6.0)\n",
            "Requirement already satisfied: importlib-metadata in /usr/local/lib/python3.7/dist-packages (from transformers==4.10.3->ktrain) (4.11.3)\n",
            "Requirement already satisfied: typing-extensions>=3.7.4.3 in /usr/local/lib/python3.7/dist-packages (from huggingface-hub>=0.0.12->transformers==4.10.3->ktrain) (3.10.0.2)\n",
            "Requirement already satisfied: keras-transformer==0.40.0 in /usr/local/lib/python3.7/dist-packages (from keras-bert>=0.86.0->ktrain) (0.40.0)\n",
            "Requirement already satisfied: keras-embed-sim==0.10.0 in /usr/local/lib/python3.7/dist-packages (from keras-transformer==0.40.0->keras-bert>=0.86.0->ktrain) (0.10.0)\n",
            "Requirement already satisfied: keras-layer-normalization==0.16.0 in /usr/local/lib/python3.7/dist-packages (from keras-transformer==0.40.0->keras-bert>=0.86.0->ktrain) (0.16.0)\n",
            "Requirement already satisfied: keras-pos-embd==0.13.0 in /usr/local/lib/python3.7/dist-packages (from keras-transformer==0.40.0->keras-bert>=0.86.0->ktrain) (0.13.0)\n",
            "Requirement already satisfied: keras-multi-head==0.29.0 in /usr/local/lib/python3.7/dist-packages (from keras-transformer==0.40.0->keras-bert>=0.86.0->ktrain) (0.29.0)\n",
            "Requirement already satisfied: keras-position-wise-feed-forward==0.8.0 in /usr/local/lib/python3.7/dist-packages (from keras-transformer==0.40.0->keras-bert>=0.86.0->ktrain) (0.8.0)\n",
            "Requirement already satisfied: keras-self-attention==0.51.0 in /usr/local/lib/python3.7/dist-packages (from keras-multi-head==0.29.0->keras-transformer==0.40.0->keras-bert>=0.86.0->ktrain) (0.51.0)\n",
            "Requirement already satisfied: cycler>=0.10 in /usr/local/lib/python3.7/dist-packages (from matplotlib>=3.0.0->ktrain) (0.11.0)\n",
            "Requirement already satisfied: python-dateutil>=2.1 in /usr/local/lib/python3.7/dist-packages (from matplotlib>=3.0.0->ktrain) (2.8.2)\n",
            "Requirement already satisfied: pyparsing!=2.0.4,!=2.1.2,!=2.1.6,>=2.0.1 in /usr/local/lib/python3.7/dist-packages (from matplotlib>=3.0.0->ktrain) (3.0.7)\n",
            "Requirement already satisfied: kiwisolver>=1.0.1 in /usr/local/lib/python3.7/dist-packages (from matplotlib>=3.0.0->ktrain) (1.4.0)\n",
            "Requirement already satisfied: pytz>=2017.3 in /usr/local/lib/python3.7/dist-packages (from pandas>=1.0.1->ktrain) (2018.9)\n",
            "Requirement already satisfied: six>=1.5 in /usr/local/lib/python3.7/dist-packages (from python-dateutil>=2.1->matplotlib>=3.0.0->ktrain) (1.15.0)\n",
            "Requirement already satisfied: zipp>=0.5 in /usr/local/lib/python3.7/dist-packages (from importlib-metadata->transformers==4.10.3->ktrain) (3.7.0)\n",
            "Requirement already satisfied: idna<3,>=2.5 in /usr/local/lib/python3.7/dist-packages (from requests->ktrain) (2.10)\n",
            "Requirement already satisfied: urllib3!=1.25.0,!=1.25.1,<1.26,>=1.21.1 in /usr/local/lib/python3.7/dist-packages (from requests->ktrain) (1.24.3)\n",
            "Requirement already satisfied: certifi>=2017.4.17 in /usr/local/lib/python3.7/dist-packages (from requests->ktrain) (2021.10.8)\n",
            "Requirement already satisfied: click in /usr/local/lib/python3.7/dist-packages (from sacremoses->transformers==4.10.3->ktrain) (7.1.2)\n"
          ]
        }
      ],
      "source": [
        "%reload_ext autoreload\n",
        "%autoreload 2\n",
        "%matplotlib inline\n",
        "import os\n",
        "os.environ[\"CUDA_DEVICE_ORDER\"]=\"PCI_BUS_ID\";\n",
        "os.environ[\"CUDA_VISIBLE_DEVICES\"]=\"0\"; \n",
        "!pip install scikit-learn>=1.0.0\n",
        "!pip install ktrain"
      ]
    },
    {
      "cell_type": "code",
      "execution_count": null,
      "metadata": {
        "id": "evreWp_bv3Es"
      },
      "outputs": [],
      "source": [
        "import ktrain\n",
        "from ktrain import text"
      ]
    },
    {
      "cell_type": "markdown",
      "metadata": {
        "id": "Shmkj8niv3Ev"
      },
      "source": [
        "Here, we will classify Wikipedia comments into one or more categories of so-called *toxic comments*.   Categories of toxic online behavior include toxic, severe_toxic, obscene, threat, insult, and identity_hate.  The dataset can be downloaded from the [Kaggle Toxic Comment Classification Challenge](https://www.kaggle.com/c/jigsaw-toxic-comment-classification-challenge/data) as a CSV file (i.e., download the file ```train.csv```).  We will load the data using the ```texts_from_csv``` method, which assumes the label_columns are already one-hot-encoded in the spreadsheet. Since *val_filepath* is None, 10% of the data will automatically be used as a validation set.\n"
      ]
    },
    {
      "cell_type": "code",
      "execution_count": null,
      "metadata": {
        "colab": {
          "base_uri": "https://localhost:8080/"
        },
        "id": "j6-wA79wv3Ew",
        "outputId": "7f7ba49d-d58f-4cf3-f363-806f37d2bd99"
      },
      "outputs": [
        {
          "output_type": "stream",
          "name": "stdout",
          "text": [
            "detected encoding: UTF-8-SIG (if wrong, set manually)\n",
            "['not_class', 'class']\n",
            "      not_class  class\n",
            "867         0.0    1.0\n",
            "1517        1.0    0.0\n",
            "688         0.0    1.0\n",
            "1397        1.0    0.0\n",
            "731         0.0    1.0\n",
            "['not_class', 'class']\n",
            "      not_class  class\n",
            "1800        1.0    0.0\n",
            "1400        1.0    0.0\n",
            "1227        1.0    0.0\n",
            "1545        1.0    0.0\n",
            "1241        1.0    0.0\n",
            "language: en\n",
            "Word Counts: 1782\n",
            "Nrows: 1706\n",
            "1706 train sequences\n",
            "train sequence lengths:\n",
            "\tmean : 6\n",
            "\t95percentile : 18\n",
            "\t99percentile : 32\n",
            "x_train shape: (1706,100)\n",
            "y_train shape: (1706, 2)\n",
            "Is Multi-Label? False\n",
            "190 test sequences\n",
            "test sequence lengths:\n",
            "\tmean : 5\n",
            "\t95percentile : 16\n",
            "\t99percentile : 29\n",
            "x_test shape: (190,100)\n",
            "y_test shape: (190, 2)\n"
          ]
        }
      ],
      "source": [
        "DATA_PATH = '/content/SQLiV3a_.csv'\n",
        "NUM_WORDS = 500\n",
        "MAXLEN = 100\n",
        "(x_train, y_train), (x_test, y_test), preproc = text.texts_from_csv(DATA_PATH,\n",
        "                      'payload',\n",
        "                      label_columns = [\"class\"],\n",
        "                      val_filepath=None, # if None, 10% of data will be used for validation\n",
        "                      max_features=NUM_WORDS, maxlen=MAXLEN,\n",
        "                      ngram_range=1,\n",
        "                      preprocess_mode='standard')"
      ]
    },
    {
      "cell_type": "code",
      "execution_count": null,
      "metadata": {
        "colab": {
          "base_uri": "https://localhost:8080/",
          "height": 136
        },
        "id": "UpbaZ68Dv3Ew",
        "outputId": "68874f80-6a80-4960-a152-1b594f4ee856"
      },
      "outputs": [
        {
          "output_type": "stream",
          "name": "stdout",
          "text": [
            "Is Multi-Label? False\n",
            "compiling word ID features...\n",
            "maxlen is 100\n",
            "word vectors will be loaded from: https://dl.fbaipublicfiles.com/fasttext/vectors-crawl/cc.en.300.vec.gz\n",
            "processing pretrained word vectors...\n",
            "loading pretrained word vectors...this may take a few moments...\n"
          ]
        },
        {
          "output_type": "display_data",
          "data": {
            "text/plain": [
              "<IPython.core.display.HTML object>"
            ],
            "text/html": [
              "\n",
              "<style>\n",
              "    /* Turns off some styling */\n",
              "    progress {\n",
              "        /* gets rid of default border in Firefox and Opera. */\n",
              "        border: none;\n",
              "        /* Needs to be in here for Safari polyfill so background images work as expected. */\n",
              "        background-size: auto;\n",
              "    }\n",
              "    .progress-bar-interrupted, .progress-bar-interrupted::-webkit-progress-bar {\n",
              "        background: #F44336;\n",
              "    }\n",
              "</style>\n"
            ]
          },
          "metadata": {}
        },
        {
          "output_type": "display_data",
          "data": {
            "text/plain": [
              "<IPython.core.display.HTML object>"
            ],
            "text/html": [
              ""
            ]
          },
          "metadata": {}
        },
        {
          "output_type": "stream",
          "name": "stdout",
          "text": [
            "done.\n"
          ]
        }
      ],
      "source": [
        "model = text.text_classifier('bigru', (x_train, y_train), \n",
        "                             preproc=preproc)\n",
        "learner = ktrain.get_learner(model, train_data=(x_train, y_train), val_data=(x_test, y_test))"
      ]
    },
    {
      "cell_type": "code",
      "execution_count": null,
      "metadata": {
        "colab": {
          "base_uri": "https://localhost:8080/",
          "height": 592
        },
        "id": "u-kza8Env3Ex",
        "outputId": "146052d1-5d60-4708-b878-1660db206379"
      },
      "outputs": [
        {
          "output_type": "stream",
          "name": "stdout",
          "text": [
            "simulating training for different learning rates... this may take a few moments...\n"
          ]
        },
        {
          "output_type": "stream",
          "name": "stderr",
          "text": [
            "/usr/local/lib/python3.7/dist-packages/ktrain/core.py:566: UserWarning: max_epochs is being set to 5 since steps per epoch is small. If you wish to estimate LR using more epochs, set max_epochs manually.\n",
            "  warnings.warn('max_epochs is being set to 5 since steps per epoch is small. ' +\\\n"
          ]
        },
        {
          "output_type": "stream",
          "name": "stdout",
          "text": [
            "Epoch 1/5\n",
            "54/54 [==============================] - 9s 54ms/step - loss: 0.6991 - accuracy: 0.4771\n",
            "Epoch 2/5\n",
            "54/54 [==============================] - 3s 54ms/step - loss: 0.6685 - accuracy: 0.7040\n",
            "Epoch 3/5\n",
            "54/54 [==============================] - 3s 54ms/step - loss: 0.3414 - accuracy: 0.9109\n",
            "Epoch 4/5\n",
            "54/54 [==============================] - 3s 54ms/step - loss: 0.3154 - accuracy: 0.9555\n",
            "Epoch 5/5\n",
            "54/54 [==============================] - 1s 18ms/step - loss: 4.8059 - accuracy: 0.9260\n",
            "\n",
            "\n",
            "done.\n",
            "Please invoke the Learner.lr_plot() method to visually inspect the loss plot to help identify the maximal learning rate associated with falling loss.\n"
          ]
        },
        {
          "output_type": "display_data",
          "data": {
            "text/plain": [
              "<Figure size 432x288 with 1 Axes>"
            ],
            "image/png": "[encoded data removed]"
          },
          "metadata": {
            "needs_background": "light"
          }
        }
      ],
      "source": [
        "learner.lr_find()\n",
        "learner.lr_plot()"
      ]
    },
    {
      "cell_type": "code",
      "execution_count": null,
      "metadata": {
        "colab": {
          "base_uri": "https://localhost:8080/",
          "height": 351
        },
        "id": "2zw1XSXP2Jcy",
        "outputId": "cbe2ba5c-b1be-4b0c-cc9b-9b7481519e3f"
      },
      "outputs": [
        {
          "output_type": "stream",
          "name": "stdout",
          "text": [
            "Three possible suggestions for LR from plot:\n",
            "\tLongest valley (red): 1.82E-04\n",
            "\tMin numerical gradient (purple): 7.11E-04\n",
            "\tMin loss divided by 10 (omitted from plot): 2.51E-02\n"
          ]
        },
        {
          "output_type": "display_data",
          "data": {
            "text/plain": [
              "<Figure size 432x288 with 1 Axes>"
            ],
            "image/png": "[encoded data removed]"
          },
          "metadata": {
            "needs_background": "light"
          }
        }
      ],
      "source": [
        "learner.lr_plot(suggest=True)"
      ]
    },
    {
      "cell_type": "code",
      "execution_count": null,
      "metadata": {
        "colab": {
          "base_uri": "https://localhost:8080/"
        },
        "id": "MmjJwfrQv3Ex",
        "outputId": "17265489-ad02-4108-cb8d-549c06ff93f6"
      },
      "outputs": [
        {
          "output_type": "stream",
          "name": "stdout",
          "text": [
            "early_stopping automatically enabled at patience=5\n",
            "reduce_on_plateau automatically enabled at patience=2\n",
            "\n",
            "\n",
            "begin training using triangular learning rate policy with max lr of 0.8...\n",
            "Epoch 1/1024\n",
            "54/54 [==============================] - 8s 75ms/step - loss: 3.3014 - accuracy: 0.9004 - val_loss: 8.9397 - val_accuracy: 0.9263\n",
            "Epoch 2/1024\n",
            "54/54 [==============================] - 3s 59ms/step - loss: 2.4141 - accuracy: 0.9566 - val_loss: 6.8883 - val_accuracy: 0.9211\n",
            "Epoch 3/1024\n",
            "54/54 [==============================] - 3s 57ms/step - loss: 2.1205 - accuracy: 0.9543 - val_loss: 3.2136 - val_accuracy: 0.9474\n",
            "Epoch 4/1024\n",
            "54/54 [==============================] - 3s 58ms/step - loss: 1.2371 - accuracy: 0.9537 - val_loss: 4.4719 - val_accuracy: 0.9211\n",
            "Epoch 5/1024\n",
            "53/54 [============================>.] - ETA: 0s - loss: 1.1413 - accuracy: 0.9623\n",
            "Epoch 00005: Reducing Max LR on Plateau: new max lr will be 0.4 (if not early_stopping).\n",
            "54/54 [==============================] - 3s 57ms/step - loss: 1.1347 - accuracy: 0.9625 - val_loss: 4.7633 - val_accuracy: 0.9211\n",
            "Epoch 6/1024\n",
            "54/54 [==============================] - 3s 58ms/step - loss: 1.0814 - accuracy: 0.9672 - val_loss: 1.8630 - val_accuracy: 0.9474\n",
            "Epoch 7/1024\n",
            "54/54 [==============================] - 3s 58ms/step - loss: 0.9805 - accuracy: 0.9596 - val_loss: 1.1742 - val_accuracy: 0.9526\n",
            "Epoch 8/1024\n",
            "54/54 [==============================] - 3s 58ms/step - loss: 1.7582 - accuracy: 0.9543 - val_loss: 6.5634 - val_accuracy: 0.9368\n",
            "Epoch 9/1024\n",
            "54/54 [==============================] - 3s 58ms/step - loss: 1.3401 - accuracy: 0.9678 - val_loss: 0.5431 - val_accuracy: 0.9526\n",
            "Epoch 10/1024\n",
            "54/54 [==============================] - 3s 58ms/step - loss: 1.6896 - accuracy: 0.9543 - val_loss: 2.9375 - val_accuracy: 0.9474\n",
            "Epoch 11/1024\n",
            "54/54 [==============================] - ETA: 0s - loss: 2.2479 - accuracy: 0.9502\n",
            "Epoch 00011: Reducing Max LR on Plateau: new max lr will be 0.2 (if not early_stopping).\n",
            "54/54 [==============================] - 3s 58ms/step - loss: 2.2479 - accuracy: 0.9502 - val_loss: 4.4170 - val_accuracy: 0.9474\n",
            "Epoch 12/1024\n",
            "54/54 [==============================] - 3s 59ms/step - loss: 1.3234 - accuracy: 0.9613 - val_loss: 1.3705 - val_accuracy: 0.9421\n",
            "Epoch 13/1024\n",
            "53/54 [============================>.] - ETA: 0s - loss: 1.1834 - accuracy: 0.9640\n",
            "Epoch 00013: Reducing Max LR on Plateau: new max lr will be 0.1 (if not early_stopping).\n",
            "54/54 [==============================] - 3s 58ms/step - loss: 1.1934 - accuracy: 0.9631 - val_loss: 2.3581 - val_accuracy: 0.9421\n",
            "Epoch 14/1024\n",
            "54/54 [==============================] - ETA: 0s - loss: 0.5931 - accuracy: 0.9713Restoring model weights from the end of the best epoch: 9.\n",
            "54/54 [==============================] - 3s 61ms/step - loss: 0.5931 - accuracy: 0.9713 - val_loss: 1.1678 - val_accuracy: 0.9368\n",
            "Epoch 14: early stopping\n",
            "Weights from best epoch have been loaded into model.\n"
          ]
        },
        {
          "output_type": "execute_result",
          "data": {
            "text/plain": [
              "<keras.callbacks.History at 0x7f421c8e2fd0>"
            ]
          },
          "metadata": {},
          "execution_count": 30
        }
      ],
      "source": [
        "learner.autofit(0.8)"
      ]
    },
    {
      "cell_type": "code",
      "source": [
        "learner.evaluate()"
      ],
      "metadata": {
        "colab": {
          "base_uri": "https://localhost:8080/"
        },
        "id": "YuKx4sA4E0Gh",
        "outputId": "7d3abe66-b8ae-4367-e45e-72b75d9a77e1"
      },
      "execution_count": null,
      "outputs": [
        {
          "output_type": "stream",
          "name": "stdout",
          "text": [
            "              precision    recall  f1-score   support\n",
            "\n",
            "           0       0.92      0.99      0.95        93\n",
            "           1       0.99      0.92      0.95        97\n",
            "\n",
            "    accuracy                           0.95       190\n",
            "   macro avg       0.95      0.95      0.95       190\n",
            "weighted avg       0.96      0.95      0.95       190\n",
            "\n"
          ]
        },
        {
          "output_type": "execute_result",
          "data": {
            "text/plain": [
              "array([[92,  1],\n",
              "       [ 8, 89]])"
            ]
          },
          "metadata": {},
          "execution_count": 35
        }
      ]
    },
    {
      "cell_type": "code",
      "execution_count": null,
      "metadata": {
        "id": "CL-bN9wkv3Ex"
      },
      "outputs": [],
      "source": [
        "learner.evaluate(class_names=['benign','malicious'])"
      ]
    },
    {
      "cell_type": "code",
      "source": [
        "learner.freeze()"
      ],
      "metadata": {
        "id": "7ATgiIbyE7XJ"
      },
      "execution_count": null,
      "outputs": []
    },
    {
      "cell_type": "code",
      "source": [
        "learner.save_model('/content')"
      ],
      "metadata": {
        "id": "v1gzwo1sFldv"
      },
      "execution_count": null,
      "outputs": []
    },
    {
      "cell_type": "code",
      "source": [
        "learner.predict"
      ],
      "metadata": {
        "id": "TnQDleCXILy9"
      },
      "execution_count": null,
      "outputs": []
    },
    {
      "cell_type": "code",
      "source": [
        "learner.print_layers()\n"
      ],
      "metadata": {
        "id": "Fh1_l7ioIpS6",
        "outputId": "c35e8957-540f-42a7-fd07-d9d417915873",
        "colab": {
          "base_uri": "https://localhost:8080/"
        }
      },
      "execution_count": null,
      "outputs": [
        {
          "output_type": "stream",
          "name": "stdout",
          "text": [
            "0 (trainable=False) : <keras.engine.input_layer.InputLayer object at 0x7f421a6eb550>\n",
            "1 (trainable=False) : <keras.layers.embeddings.Embedding object at 0x7f421a6ebf50>\n",
            "2 (trainable=False) : <keras.layers.core.spatial_dropout.SpatialDropout1D object at 0x7f421a6eb2d0>\n",
            "3 (trainable=False) : <keras.layers.wrappers.Bidirectional object at 0x7f421a6eba10>\n",
            "4 (trainable=False) : <keras.layers.pooling.GlobalAveragePooling1D object at 0x7f421a6d6f10>\n",
            "5 (trainable=False) : <keras.layers.pooling.GlobalMaxPooling1D object at 0x7f421a6d6e90>\n",
            "6 (trainable=False) : <keras.layers.merge.Concatenate object at 0x7f421a6d6b50>\n",
            "7 (trainable=True) : <keras.layers.core.dense.Dense object at 0x7f421a6d6650>\n"
          ]
        }
      ]
    }
  ],
  "metadata": {
    "accelerator": "GPU",
    "colab": {
      "name": "ml_sqli_detector.ipynb",
      "provenance": [],
      "include_colab_link": true
    },
    "kernelspec": {
      "display_name": "Python 3",
      "language": "python",
      "name": "python3"
    },
    "language_info": {
      "codemirror_mode": {
        "name": "ipython",
        "version": 3
      },
      "file_extension": ".py",
      "mimetype": "text/x-python",
      "name": "python",
      "nbconvert_exporter": "python",
      "pygments_lexer": "ipython3",
      "version": "3.6.8"
    }
  },
  "nbformat": 4,
  "nbformat_minor": 0
}